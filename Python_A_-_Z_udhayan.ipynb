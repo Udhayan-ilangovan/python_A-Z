{
 "cells": [
  {
   "cell_type": "markdown",
   "metadata": {
    "collapsed": true
   },
   "source": [
    "# PYTHON 3 A - Z"
   ]
  },
  {
   "cell_type": "markdown",
   "metadata": {},
   "source": [
    "## Let's start with Hello World"
   ]
  },
  {
   "cell_type": "code",
   "execution_count": 2,
   "metadata": {},
   "outputs": [
    {
     "name": "stdout",
     "output_type": "stream",
     "text": [
      "Hello world\n"
     ]
    }
   ],
   "source": [
    "print(\"Hello world\")"
   ]
  },
  {
   "cell_type": "markdown",
   "metadata": {},
   "source": [
    "Python Data Types\n",
    "\n",
    "NAME           => DESCRIPTION                                               => TYPE\n",
    "\n",
    "Integer        => whole numbers (1, 45, 800)                                => Int\n",
    "\n",
    "Floating Point => Decimals (1.0, 45.8, 800.008)                             => float\n",
    "\n",
    "String         => Sequence of Characters inside \"\" or ''                    => str\n",
    "\n",
    "List           => ordered sequence of object ['hello',\"123\",\"world,100.6\"]  => list\n",
    "\n",
    "Dictionary     => key and value pair => {\"hi\":\"hello\",\"Key\":\"Value\"}        => dict\n",
    "\n",
    "Tuples         => Imutable sequence of object ('hello',\"123\",\"world,100.6\") => tup\n",
    "\n",
    "Sets           => unordered collection of unique object {\"a\",\"b\"}           => set\n",
    "\n",
    "Boolean        => True or false binary output                               => bool\n"
   ]
  },
  {
   "cell_type": "markdown",
   "metadata": {},
   "source": [
    "Arithmetic operation \n",
    "\n",
    "1. Addition "
   ]
  },
  {
   "cell_type": "code",
   "execution_count": 3,
   "metadata": {},
   "outputs": [
    {
     "data": {
      "text/plain": [
       "15"
      ]
     },
     "execution_count": 3,
     "metadata": {},
     "output_type": "execute_result"
    }
   ],
   "source": [
    "10+5"
   ]
  },
  {
   "cell_type": "markdown",
   "metadata": {},
   "source": [
    "2. Subtraction "
   ]
  },
  {
   "cell_type": "code",
   "execution_count": 4,
   "metadata": {},
   "outputs": [
    {
     "data": {
      "text/plain": [
       "5"
      ]
     },
     "execution_count": 4,
     "metadata": {},
     "output_type": "execute_result"
    }
   ],
   "source": [
    "10-5"
   ]
  },
  {
   "cell_type": "markdown",
   "metadata": {},
   "source": [
    "3. Multiplication "
   ]
  },
  {
   "cell_type": "code",
   "execution_count": 5,
   "metadata": {},
   "outputs": [
    {
     "data": {
      "text/plain": [
       "50"
      ]
     },
     "execution_count": 5,
     "metadata": {},
     "output_type": "execute_result"
    }
   ],
   "source": [
    "10*5"
   ]
  },
  {
   "cell_type": "markdown",
   "metadata": {},
   "source": [
    "4. Division "
   ]
  },
  {
   "cell_type": "code",
   "execution_count": 6,
   "metadata": {},
   "outputs": [
    {
     "data": {
      "text/plain": [
       "2.0"
      ]
     },
     "execution_count": 6,
     "metadata": {},
     "output_type": "execute_result"
    }
   ],
   "source": [
    "10/5"
   ]
  },
  {
   "cell_type": "markdown",
   "metadata": {},
   "source": [
    "5. Mod\n",
    "    It gives the reminder as output"
   ]
  },
  {
   "cell_type": "code",
   "execution_count": 7,
   "metadata": {},
   "outputs": [
    {
     "data": {
      "text/plain": [
       "0"
      ]
     },
     "execution_count": 7,
     "metadata": {},
     "output_type": "execute_result"
    }
   ],
   "source": [
    "10%5"
   ]
  },
  {
   "cell_type": "markdown",
   "metadata": {},
   "source": [
    "6. Exponents"
   ]
  },
  {
   "cell_type": "code",
   "execution_count": 8,
   "metadata": {},
   "outputs": [
    {
     "data": {
      "text/plain": [
       "100"
      ]
     },
     "execution_count": 8,
     "metadata": {},
     "output_type": "execute_result"
    }
   ],
   "source": [
    "10**2"
   ]
  },
  {
   "cell_type": "markdown",
   "metadata": {},
   "source": [
    "## Python operator precedence are listed below. \n",
    "### It is in descending order. Higher to Lower\n",
    "\n",
    "#### NO. OPERATORS => MEANING\n",
    "\n",
    "1. () => Parentheses\n",
    "\n",
    "2. **\tExponent\n",
    "\n",
    "3. +x, -x, ~x => Unary plus, Unary minus, Bitwise NOT\n",
    "\n",
    "4. *, /, //, % => Multiplication, Division, Floor division, Modulus\n",
    "\n",
    "5. +, - => Addition, Subtraction\n",
    "\n",
    "6. <<, >> => Bitwise shift operators\n",
    "\n",
    "7. & => Bitwise AND\n",
    "\n",
    "8. ^ => Bitwise XOR\n",
    "\n",
    "9. | => Bitwise OR\n",
    "\n",
    "10. ==, !=, >, >=, <, <=, is, is not, in, not in => Comparisions, Identity, Membership operators\n",
    "\n",
    "11. not => Logical NOT\n",
    "\n",
    "12. and => Logical AND\n",
    "\n",
    "13. or => Logical OR\n"
   ]
  },
  {
   "cell_type": "code",
   "execution_count": 9,
   "metadata": {},
   "outputs": [
    {
     "data": {
      "text/plain": [
       "0.6000000000000001"
      ]
     },
     "execution_count": 9,
     "metadata": {},
     "output_type": "execute_result"
    }
   ],
   "source": [
    "1+2-3*4/5\n"
   ]
  },
  {
   "cell_type": "code",
   "execution_count": 10,
   "metadata": {},
   "outputs": [
    {
     "data": {
      "text/plain": [
       "True"
      ]
     },
     "execution_count": 10,
     "metadata": {},
     "output_type": "execute_result"
    }
   ],
   "source": [
    "1+2-3*4/5 == (1+2-3*4/5)"
   ]
  },
  {
   "cell_type": "markdown",
   "metadata": {},
   "source": [
    "## VARIABLE\n",
    "\n",
    "Variables are reference to datatypes \n",
    "\n",
    "which are reserved memory locations to store values.\n",
    "\n",
    "Lowercase is preferable.\n",
    "\n",
    "Avoid predifiend keyword\n",
    "\n",
    "Variables can be used as it is not static"
   ]
  },
  {
   "cell_type": "code",
   "execution_count": 11,
   "metadata": {},
   "outputs": [
    {
     "name": "stdout",
     "output_type": "stream",
     "text": [
      "3\n",
      "6\n",
      "0.6000000000000001\n"
     ]
    },
    {
     "data": {
      "text/plain": [
       "float"
      ]
     },
     "execution_count": 11,
     "metadata": {},
     "output_type": "execute_result"
    }
   ],
   "source": [
    "# Assigning the values\n",
    "a = 1\n",
    "b = 2\n",
    "c = a + b\n",
    "# Printing the c\n",
    "print (c)\n",
    "# Adding the c by itself\n",
    "c = c + c\n",
    "print(c)\n",
    "# To know the Data type\n",
    "c = 1+2-3*4/5\n",
    "print(c)\n",
    "type(c)"
   ]
  },
  {
   "cell_type": "markdown",
   "metadata": {},
   "source": [
    "## STRING\n",
    "\n",
    "Sequence of characters \n",
    "\n",
    "Inside \"\" or ''\n",
    "\n",
    "String in python are Immutable\n",
    "\n",
    "Uses Indexing\n",
    "\n",
    "In python index starts at 0\n",
    "\n",
    "Python also has reverse indexing and it starts at -1\n",
    "\n",
    "Slicing is available in python string \n",
    "\n",
    "    It has\n",
    "    \n",
    "        starting index \n",
    "        \n",
    "        ending index\n",
    "            \n",
    "            Not included\n",
    "        \n",
    "        Skiping or jump\n",
    "        \n",
    "        [start:stop:skip]\n",
    "    "
   ]
  },
  {
   "cell_type": "code",
   "execution_count": 12,
   "metadata": {},
   "outputs": [
    {
     "name": "stdout",
     "output_type": "stream",
     "text": [
      "Hello world\n",
      "d\n",
      "******************************\n",
      "Hello\n",
      "******************************\n",
      "Hlo\n",
      "******************************\n",
      "o world\n",
      "******************************\n",
      "Hell\n",
      "******************************\n",
      "rld\n",
      "******************************\n",
      "Hlwl\n",
      "******************************\n",
      "dlrow olleH\n",
      "******************************\n",
      "11\n",
      "******************************\n",
      "1\n",
      "******************************\n",
      "5\n",
      "******************************\n",
      "******************************\n",
      "3\n",
      "******************************\n",
      "Helloworld\n",
      "******************************\n",
      "Helloworld\tHelloworld\tHelloworld\t\n",
      "******************************\n",
      "Hello\n",
      "world\n",
      "******************************\n",
      "HELLO WORLD\n",
      "******************************\n",
      "True\n",
      "******************************\n",
      "['HELLO', 'WORLD']\n",
      "<class 'list'>\n",
      "******************************\n",
      "['HE', '', 'O WOR', 'D']\n",
      "******************************\n",
      "\n",
      "This is printed after Splitting => ['hello', 'world,', 'how', 'are', 'you']\n",
      "\n",
      "\n",
      "This is printed after joining using ' ' => hello world, how are you\n",
      "This is printed after joining using '|' => hello|world,|how|are|you\n",
      "\n"
     ]
    }
   ],
   "source": [
    "#assigning the string to variable\n",
    "a = \"Hello world\"\n",
    "print(a)\n",
    "# Grabing the first index\n",
    "b = a[0]\n",
    "# Grabing the last index\n",
    "c = a[-1]\n",
    "# Grabing the required sequence of index \n",
    "d = a[0:5]\n",
    "# Grabing the required sequence of index with step size of skipping by 2\n",
    "e = a[0:5:2]\n",
    "# Grabing the required sequence from the index 4\n",
    "f = a[4:]\n",
    "# Grabing the required sequence upto the index 4\n",
    "g = a[:4]\n",
    "# Grabing the required sequence from the index -3\n",
    "h = a[-3:]\n",
    "# Grabing the required sequence of index with skipping by 3\n",
    "i = a[::3]\n",
    "\n",
    "# GReversing the string \n",
    "j = a[::-1]\n",
    "print(c)\n",
    "print(\"******************************\")\n",
    "print(d)\n",
    "print(\"******************************\")\n",
    "print(e)\n",
    "print(\"******************************\")\n",
    "print(f)\n",
    "print(\"******************************\")\n",
    "print(g)\n",
    "print(\"******************************\")\n",
    "print(h)\n",
    "print(\"******************************\")\n",
    "print(i)\n",
    "print(\"******************************\")\n",
    "print(j)\n",
    "print(\"******************************\")\n",
    "#printing the length of the string\n",
    "print(len(a))\n",
    "print(\"******************************\")\n",
    "print(len(c))\n",
    "print(\"******************************\")\n",
    "print(len(d))\n",
    "print(\"******************************\")\n",
    "k = len(e)\n",
    "print(\"******************************\")\n",
    "print(k)\n",
    "print(\"******************************\")\n",
    "#concatenation of string && it should in string datatype\n",
    "l = d + a[-5:]\n",
    "print(l)\n",
    "print(\"******************************\")\n",
    "# Adding tab space and multipling the string \n",
    "m = (l+\"\\t\")*3\n",
    "print(m)\n",
    "print(\"******************************\")\n",
    "# Adding new line space\n",
    "n = d+\"\\n\"+ a[-5:]\n",
    "print(n)\n",
    "print(\"******************************\")\n",
    "# using Default function\n",
    "o = a.upper()\n",
    "print(o)\n",
    "print(\"******************************\")\n",
    "p = o.isupper()\n",
    "print(p)\n",
    "print(\"******************************\")\n",
    "#splitting and adding to list && default white space\n",
    "q = o.split()\n",
    "print(q)\n",
    "print(type(q))\n",
    "print(\"******************************\")\n",
    "#splitting using the chsractor\n",
    "r = o.split(\"L\")\n",
    "print(r)\n",
    "print(\"******************************\")\n",
    "\n",
    "#Join using the string\n",
    "st = \"hello world, how are you\"\n",
    "st_sp = st.split()\n",
    "print(f\"\\nThis is printed after Splitting => {st_sp}\\n\")\n",
    "st_sp_j_s = \" \".join(st_sp)\n",
    "st_sp_j_p = \"|\".join(st_sp)\n",
    "print(f\"\\nThis is printed after joining using ' ' => {st_sp_j_s}\\nThis is printed after joining using '|' => {st_sp_j_p}\\n\")"
   ]
  },
  {
   "cell_type": "markdown",
   "metadata": {},
   "source": [
    "## STRING FORMAT METHOD\n",
    "\n",
    "printing during runtime using the metho .format() \n",
    "\n",
    "the values inside the format is list and separated by \n",
    "\n",
    "for example .format(\"hi\",\"hello\") in this hi is at index 0 and hello is at index 1\n",
    "\n",
    "if {} inside the string is not equal to the contrnt inside format it throws error\n",
    "\n",
    "    Example ERROR : print(\"This {0} is printed using {2}.format(\"hello\"))\n",
    "    \n",
    "    To avoid this use indexing\n",
    "    \n",
    "Values can be repeated using indexing repeatedly "
   ]
  },
  {
   "cell_type": "code",
   "execution_count": 13,
   "metadata": {
    "scrolled": false
   },
   "outputs": [
    {
     "name": "stdout",
     "output_type": "stream",
     "text": [
      "This hello is printed using format Method and it can also print numbers 55,5\n",
      "******************************\n",
      "Formated output  can be assigned to variables *** 'indexing avoid error' *** 'indexing avoid error'\n",
      "******************************\n",
      "Format values can be assigned to variables *** assigined to variable *** assigined to variable\n",
      "******************************\n",
      "Formating the float value 0.4537\n",
      "******************************\n",
      "Formating the float value 1234.453747\n"
     ]
    }
   ],
   "source": [
    "print(\"This {0} is printed using {2} {1} and it can also print numbers {3}{3},{3}\".format(\"hello\",\"Method\",\"format\",5,\"Extra values 'indexing avoid error'\"))\n",
    "print(\"******************************\")\n",
    "s = \"Formated output  can be assigned to variables *** {0} *** {0}\".format(\"'indexing avoid error'\")\n",
    "print(s)\n",
    "print(\"******************************\")\n",
    "# values inside format this to variable\n",
    "t = \"Format values can be assigned to variables *** {vari} *** {vari}\".format(vari = \"assigined to variable\")\n",
    "print(t)\n",
    "print(\"******************************\")\n",
    "\n",
    "# Formating the float using format\n",
    "# 4f and 6f is the values included after . that is decimal \n",
    "# 5 and 8 are the width values\n",
    "a = 0.45374684\n",
    "b = \"Formating the float value {v:5.4f}\".format(v = a)\n",
    "print(b)\n",
    "print(\"******************************\")\n",
    "c = 1234.45374684\n",
    "d = \"Formating the float value {v:8.6f}\".format(v = c)\n",
    "print(d)\n",
    "\n"
   ]
  },
  {
   "cell_type": "markdown",
   "metadata": {},
   "source": [
    "## Formated String or fstring\n",
    "\n",
    "similar to fstring\n",
    "In this values can be included directly"
   ]
  },
  {
   "cell_type": "code",
   "execution_count": 14,
   "metadata": {},
   "outputs": [
    {
     "name": "stdout",
     "output_type": "stream",
     "text": [
      "This is printed using fstring method : 'hello this is string ' \n",
      " And it can also print numbers and repeatedly : 1010,10\n",
      "******************************\n",
      "This values are assigned to variable using fstring method : 'hello this is string ' \n",
      "And it can also print numbers and repeatedly : 1010,10\n",
      "******************************\n"
     ]
    }
   ],
   "source": [
    "num = 10\n",
    "string = \"hello this is string\"\n",
    "print(f\"This is printed using fstring method : '{string} ' \\n And it can also print numbers and repeatedly : {num}{num},{num}\")\n",
    "print(\"******************************\")\n",
    "a = f\"This values are assigned to variable using fstring method : '{string} ' \\nAnd it can also print numbers and repeatedly : {num}{num},{num}\"\n",
    "print(a)\n",
    "print(\"******************************\")\n"
   ]
  },
  {
   "cell_type": "markdown",
   "metadata": {},
   "source": [
    "## LIST\n",
    "1. List are ordered Sequence that holds varieties of objects seperated by commas\n",
    "2. List can contain any kind of objects\n",
    "3. It starts with [ and ends with ] and seperated by , like [1,\"a\",2,4].\n",
    "4. List supports indexing, slicing and it also has useful pre-defiend methods."
   ]
  },
  {
   "cell_type": "code",
   "execution_count": 15,
   "metadata": {},
   "outputs": [
    {
     "name": "stdout",
     "output_type": "stream",
     "text": [
      " int_list [1, 2, 3, 4, 5]\n",
      " str_list ['hi', 'Hello', 'World'] \n",
      " mixed_list ['Hello', 2, 4.04, 'bye']\n"
     ]
    }
   ],
   "source": [
    "int_list = [1,2,3,4,5]\n",
    "str_list = [\"hi\",\"Hello\",\"World\"]\n",
    "mixed_list = [\"Hello\",2,4.04,\"bye\"]\n",
    "print(f\" int_list {int_list}\\n str_list {str_list} \\n mixed_list {mixed_list}\")"
   ]
  },
  {
   "cell_type": "code",
   "execution_count": 16,
   "metadata": {},
   "outputs": [
    {
     "name": "stdout",
     "output_type": "stream",
     "text": [
      " li_in World \n",
      " ****\n",
      " l1 [3, 4, 5]\n",
      " l2 [4, 5] \n",
      " l3 [2, 3] \n",
      " l4 [3, 4]\n"
     ]
    }
   ],
   "source": [
    "# retriving by index\n",
    "li_in = str_list[2]\n",
    "# slicing \n",
    "l1 = int_list[2:]\n",
    "l2 = int_list[-2:]\n",
    "l3 = int_list[-4:3]\n",
    "l4 = int_list[2:-1]\n",
    "print(f\" li_in {li_in} \\n ****\\n l1 {l1}\\n l2 {l2} \\n l3 {l3} \\n l4 {l4}\")"
   ]
  },
  {
   "cell_type": "code",
   "execution_count": 17,
   "metadata": {},
   "outputs": [
    {
     "name": "stdout",
     "output_type": "stream",
     "text": [
      " cin_list ['Hello', 2, 4.04, 'bye', 1, 2, 3, 4, 5]\n",
      " After updating cin_list ['updated value', 2, 4.04, 'bye', 1, 2, 3, 4, 5]\n",
      "Length 9\n"
     ]
    }
   ],
   "source": [
    "# Concatenazione of list\n",
    "con_list = mixed_list + int_list\n",
    "print(f\" cin_list {con_list}\")\n",
    "# list are mutable \n",
    "con_list[0] = \"updated value\"\n",
    "print(f\" After updating cin_list {con_list}\")\n",
    "# to know the length \n",
    "print(f\"Length {len(con_list)}\")"
   ]
  },
  {
   "cell_type": "code",
   "execution_count": 18,
   "metadata": {},
   "outputs": [
    {
     "name": "stdout",
     "output_type": "stream",
     "text": [
      " After adding [1, 2, 3, 4, 5, 1]\n",
      " After removing [1, 2, 3, 4, 5]\n",
      " After removing by index [1, 3, 4, 5]\n",
      " Removed value 2\n"
     ]
    }
   ],
   "source": [
    "# To Adding new values to list\n",
    "int_list.append(1)\n",
    "print(f\" After adding {int_list}\")\n",
    "# To Delete a value from list \n",
    "int_list.pop()\n",
    "print(f\" After removing {int_list}\")\n",
    "deleted_value = int_list.pop(1)\n",
    "print(f\" After removing by index {int_list}\")\n",
    "print(f\" Removed value {deleted_value}\")\n"
   ]
  },
  {
   "cell_type": "code",
   "execution_count": 23,
   "metadata": {},
   "outputs": [
    {
     "name": "stdout",
     "output_type": "stream",
     "text": [
      " Sorted List [0, 1, 2, 2.9, 3, 5, 58, 959]\n",
      " Sorted List ['a', 'bye', 'c', 'hello', 'world']\n",
      " Sorted List ['updated value', 2, 4.04, 'bye', 1, 2, 3, 4, 5]\n"
     ]
    }
   ],
   "source": [
    "# sorting a list\n",
    "# should habe same datatype\n",
    "# int and float\n",
    "int_so_list = [1,58,3,5,2.9,959,2,0]\n",
    "int_so_list.sort()\n",
    "print(f\" Sorted List {int_so_list}\")\n",
    "# string and character\n",
    "str_so_list = [\"hello\",\"world\",\"bye\",\"a\",'c']\n",
    "str_so_list.sort()\n",
    "print(f\" Sorted List {str_so_list}\")\n",
    "# Desecing of sorted list a list\n",
    "con_list.reverse()\n",
    "print(f\" Sorted List {con_list}\")\n"
   ]
  },
  {
   "cell_type": "markdown",
   "metadata": {},
   "source": [
    "## APPENDING LIST VS EXTENDING LIST\n",
    "1. Append add the value as it is to the list\n",
    "2. Extend add the value as single element in the list"
   ]
  },
  {
   "cell_type": "code",
   "execution_count": 24,
   "metadata": {},
   "outputs": [
    {
     "name": "stdout",
     "output_type": "stream",
     "text": [
      " Extending the List [1, 2, 5, 6, 3, 4, 5, 6, 7, 8]\n",
      " Appending the List [1, 2, 5, 6, 3, 4, 5, 6, 7, 8, [3, 4, 5, 6, 7, 8]]\n"
     ]
    }
   ],
   "source": [
    "# List extend()\n",
    "fir_list = [1,2,5,6]\n",
    "sec_list = [3,4,5,6,7,8]\n",
    "fir_list.extend(sec_list)\n",
    "print(f\" Extending the List {fir_list}\")\n",
    "# List append()\n",
    "fir_list.append(sec_list)\n",
    "print(f\" Appending the List {fir_list}\")"
   ]
  },
  {
   "cell_type": "markdown",
   "metadata": {},
   "source": [
    "#### Nested List\n",
    "To grab a value fom nested list, call the value by adding extra bracket"
   ]
  },
  {
   "cell_type": "code",
   "execution_count": 19,
   "metadata": {},
   "outputs": [
    {
     "name": "stdout",
     "output_type": "stream",
     "text": [
      " To print all list => ['Master list', 1, ['first nested list', ['Second nested list', 7, [8, 4, 'Third nested list', 9]], 2]]\n",
      "\n",
      " Master List => Master list\n",
      " First nested list => first nested list\n",
      " Second nested list => Second nested list\n",
      " Third nested list => Third nested list\n",
      " Third nested list full => [8, 4, 'Third nested list', 9]\n",
      " Second nested list full => ['Second nested list', 7, [8, 4, 'Third nested list', 9]]\n"
     ]
    }
   ],
   "source": [
    "nested_list = [\"Master list\",1,[\"first nested list\",[\"Second nested list\",7,[8,4,\"Third nested list\",9]],2]]\n",
    "print(f\" To print all list => {nested_list}\\n\")\n",
    "print(f\" Master List => {nested_list[0]}\")\n",
    "print(f\" First nested list => {nested_list[2][0]}\")\n",
    "print(f\" Second nested list => {nested_list[2][1][0]}\")\n",
    "print(f\" Third nested list => {nested_list[2][1][2][2]}\")\n",
    "print(f\" Third nested list full => {nested_list[2][1][2]}\")\n",
    "print(f\" Second nested list full => {nested_list[2][1]}\")"
   ]
  },
  {
   "cell_type": "markdown",
   "metadata": {},
   "source": [
    "## DICTIONARY \n",
    "1. Dictionary uses mapping concept to store values\n",
    "2. It has Key and Value\n",
    "3. Keys and values can be any type.\n",
    "4. Key and value are separated using : \n",
    "5. Each pairs are seperated between ,\n",
    "6. All pairs are  contained inside {}\n",
    "7. For example {\"key\":\"Value\",\"key1\":\"Value1\",\"key2\":\"Value2\"}\n",
    "8. With key we can easily  call the values, so index is not needed\n",
    "9. Cannot be ordered or sorted\n",
    "10. It can hold list or dict"
   ]
  },
  {
   "cell_type": "code",
   "execution_count": 20,
   "metadata": {},
   "outputs": [],
   "source": [
    "str_dict = {\"key\":\"Value\",\"key1\":\"Value1\",\"key2\":\"Value2\"}"
   ]
  },
  {
   "cell_type": "code",
   "execution_count": 21,
   "metadata": {},
   "outputs": [
    {
     "data": {
      "text/plain": [
       "'Value'"
      ]
     },
     "execution_count": 21,
     "metadata": {},
     "output_type": "execute_result"
    }
   ],
   "source": [
    "str_dict[\"key\"]"
   ]
  },
  {
   "cell_type": "code",
   "execution_count": 22,
   "metadata": {},
   "outputs": [],
   "source": [
    "veg_price_dic = {\"Carrot\":3.834,\"beans\":1.49,\"onions\":3.21,\"tomato\":4.1}"
   ]
  },
  {
   "cell_type": "code",
   "execution_count": 23,
   "metadata": {},
   "outputs": [
    {
     "data": {
      "text/plain": [
       "3.21"
      ]
     },
     "execution_count": 23,
     "metadata": {},
     "output_type": "execute_result"
    }
   ],
   "source": [
    "veg_price_dic[\"onions\"]"
   ]
  },
  {
   "cell_type": "code",
   "execution_count": 24,
   "metadata": {},
   "outputs": [],
   "source": [
    "all_data_type_dic = {9:3.834,789.89:1.49,\"onions\":3.21,\"tomato\":4.1}"
   ]
  },
  {
   "cell_type": "code",
   "execution_count": 25,
   "metadata": {},
   "outputs": [
    {
     "name": "stdout",
     "output_type": "stream",
     "text": [
      " value of a 1.49, value of (b,c) (3.21, 3.834)\n"
     ]
    }
   ],
   "source": [
    "a = all_data_type_dic[789.89]\n",
    "b = all_data_type_dic[\"onions\"]\n",
    "c = all_data_type_dic[9]\n",
    "print(f\" value of a {a}, value of (b,c) {b,c}\")"
   ]
  },
  {
   "cell_type": "code",
   "execution_count": 26,
   "metadata": {},
   "outputs": [],
   "source": [
    "all_data_type_dic = {\"onions\":3.21,\"tomato\":4.1,\"list\":int_list,\"dict\":str_dict}"
   ]
  },
  {
   "cell_type": "code",
   "execution_count": 27,
   "metadata": {},
   "outputs": [
    {
     "name": "stdout",
     "output_type": "stream",
     "text": [
      " value of a [1, 3, 4, 5]\n",
      " value of e 3.21\n",
      " value of f {'key': 'Value', 'key1': 'Value1', 'key2': 'Value2'}\n"
     ]
    }
   ],
   "source": [
    "d = all_data_type_dic[\"list\"]\n",
    "e = all_data_type_dic[\"onions\"]\n",
    "f = all_data_type_dic[\"dict\"]\n",
    "print(f\" value of a {d}\\n value of e {e}\\n value of f {f}\")"
   ]
  },
  {
   "cell_type": "code",
   "execution_count": 28,
   "metadata": {},
   "outputs": [
    {
     "name": "stdout",
     "output_type": "stream",
     "text": [
      " value of nested list 4\n",
      " value of nested dict Value2\n"
     ]
    }
   ],
   "source": [
    "# To get the value of list inside the Dictionary \n",
    "ind_list = all_data_type_dic[\"list\"][2]\n",
    "# To get the value of list inside the Dictionary \n",
    "key_dict = all_data_type_dic[\"dict\"][\"key2\"]\n",
    "print(f\" value of nested list {ind_list}\\n value of nested dict {key_dict}\")"
   ]
  },
  {
   "cell_type": "code",
   "execution_count": 29,
   "metadata": {},
   "outputs": [
    {
     "name": "stdout",
     "output_type": "stream",
     "text": [
      " Orginal values {'onions': 3.21, 'tomato': 4.1, 'list': [1, 3, 4, 5], 'dict': {'key': 'Value', 'key1': 'Value1', 'key2': 'Value2'}}\n",
      " value of nested list 4\n",
      " value of nested dict VALUE2\n",
      " After updating values {'onions': 3.21, 'tomato': 4.1, 'list': [1, 3, 5], 'dict': {'key': 'Value', 'key1': 'Value1', 'key2': 'Value2'}}\n"
     ]
    }
   ],
   "source": [
    "print(f\" Orginal values {all_data_type_dic}\")\n",
    "# Using the functions of string\n",
    "key_dict = all_data_type_dic[\"dict\"][\"key2\"].upper()\n",
    "# Using the functions of List\n",
    "ind_list = all_data_type_dic[\"list\"].pop(2)\n",
    "print(f\" value of nested list {ind_list}\\n value of nested dict {key_dict}\")\n",
    "print(f\" After updating values {all_data_type_dic}\")\n"
   ]
  },
  {
   "cell_type": "code",
   "execution_count": 30,
   "metadata": {},
   "outputs": [
    {
     "name": "stdout",
     "output_type": "stream",
     "text": [
      " Before Adding values {'key': 'Value', 'key1': 'Value1', 'key2': 'Value2'}\n",
      " After Adding values {'key': 'Value', 'key1': 'Value1', 'key2': 'Value2', 'key_added': 'Value_added'}\n"
     ]
    }
   ],
   "source": [
    "# Adding value to Dictionary\n",
    "str_dict = {\"key\":\"Value\",\"key1\":\"Value1\",\"key2\":\"Value2\"}\n",
    "print(f\" Before Adding values {str_dict}\")\n",
    "str_dict[\"key_added\"] =\"Value_added\"\n",
    "print(f\" After Adding values {str_dict}\")"
   ]
  },
  {
   "cell_type": "code",
   "execution_count": 31,
   "metadata": {},
   "outputs": [
    {
     "name": "stdout",
     "output_type": "stream",
     "text": [
      " Keys dict_keys(['key', 'key1', 'key2', 'key_added'])\n",
      " Value  dict_values(['Value', 'Value1', 'Value2', 'Value_added'])\n",
      " Items  dict_items([('key', 'Value'), ('key1', 'Value1'), ('key2', 'Value2'), ('key_added', 'Value_added')])\n"
     ]
    }
   ],
   "source": [
    "# To print Keys in dictionary \n",
    "keys_dict = str_dict.keys()\n",
    "val_dict = str_dict.values()\n",
    "items_dict = str_dict.items()\n",
    "print(f\" Keys {keys_dict}\\n Value  {val_dict}\\n Items  {items_dict}\")"
   ]
  },
  {
   "cell_type": "markdown",
   "metadata": {},
   "source": [
    "## TUPLES\n",
    "1. Tuples are similar to list but Tuples are immutable \n",
    "2. Ones value is inserted it cannot be edited or updsted\n",
    "3. Tuples uses Parentheses () and values are seperated by ,"
   ]
  },
  {
   "cell_type": "code",
   "execution_count": 32,
   "metadata": {},
   "outputs": [
    {
     "name": "stdout",
     "output_type": "stream",
     "text": [
      " int_tuples (1, 2, 3, 4, 5)\n",
      " str_tuples ('Hi', 'Hello', 'World', 'hi', 'Hi') \n",
      " mixed_tuples ('Hello', 2, 4.04, 'bye')\n"
     ]
    }
   ],
   "source": [
    "int_tuples = (1,2,3,4,5)\n",
    "str_tuples = (\"Hi\",\"Hello\",\"World\",'hi',\"Hi\")\n",
    "mixed_tuples = (\"Hello\",2,4.04,\"bye\")\n",
    "print(f\" int_tuples {int_tuples}\\n str_tuples {str_tuples} \\n mixed_tuples {mixed_tuples}\")"
   ]
  },
  {
   "cell_type": "code",
   "execution_count": 33,
   "metadata": {},
   "outputs": [
    {
     "name": "stdout",
     "output_type": "stream",
     "text": [
      " ti_in World \n",
      " ****\n",
      " t1 ('Hello', 'World', 'hi', 'Hi')\n",
      " t2 (4.04, 'bye') \n",
      " t3 (2, 3) \n",
      " t4 (3, 4)\n"
     ]
    }
   ],
   "source": [
    "# retriving by index\n",
    "ti_in = str_tuples[2]\n",
    "# slicing \n",
    "t1 = str_tuples[1:]\n",
    "t2 = mixed_tuples[-2:]\n",
    "t3 = int_tuples[-4:3]\n",
    "t4 = int_tuples[2:-1]\n",
    "print(f\" ti_in {li_in} \\n ****\\n t1 {t1}\\n t2 {t2} \\n t3 {t3} \\n t4 {t4}\")"
   ]
  },
  {
   "cell_type": "code",
   "execution_count": 34,
   "metadata": {},
   "outputs": [
    {
     "name": "stdout",
     "output_type": "stream",
     "text": [
      " count_t 2 \n",
      " index_t 0 \n",
      " len_t 5\n"
     ]
    }
   ],
   "source": [
    "# To count number of times of occurrence of a particular element \n",
    "count_t = str_tuples.count(\"Hi\")\n",
    "# To Find the index of a particular element \n",
    "index_t = str_tuples.index(\"Hi\") # It gives the first index\n",
    "# To find the length\n",
    "len_t = len(str_tuples)\n",
    "print(f\" count_t {count_t} \\n index_t {index_t} \\n len_t {len_t}\")"
   ]
  },
  {
   "cell_type": "markdown",
   "metadata": {},
   "source": [
    "## SETS\n",
    "1. Unordered Colections of element\n",
    "2. It stores only Unique values, Duplication is not possible\n",
    "3. ALL values are stored inside {} and seperated by , "
   ]
  },
  {
   "cell_type": "code",
   "execution_count": 35,
   "metadata": {},
   "outputs": [
    {
     "name": "stdout",
     "output_type": "stream",
     "text": [
      " int_sets {1, 2, 3, 4, 5}\n",
      " str_sets {'hi', 'Hello', 'Hi', 'World'} \n",
      " mixed_sets {2, 'Hello', 4.04, 'bye'}\n"
     ]
    }
   ],
   "source": [
    "int_sets = {1,2,3,4,5,5,5,5,3}\n",
    "str_sets = {\"Hi\",\"Hello\",\"World\",'hi',\"Hi\",\"Hello\",\"Hello\"}\n",
    "mixed_sets = {\"Hello\",2,4.04,\"bye\",4.04,4.04}\n",
    "print(f\" int_sets {int_sets}\\n str_sets {str_sets} \\n mixed_sets {mixed_sets}\")"
   ]
  },
  {
   "cell_type": "code",
   "execution_count": 36,
   "metadata": {},
   "outputs": [
    {
     "name": "stdout",
     "output_type": "stream",
     "text": [
      " str_tuples ('Hi', 'Hello', 'World', 'hi', 'Hi')\n",
      " Casted_set {'hi', 'Hello', 'Hi', 'World'}\n"
     ]
    }
   ],
   "source": [
    "# Casting tuples to set\n",
    "Casted_set = set(str_tuples)\n",
    "print(f\" str_tuples {str_tuples}\\n Casted_set {Casted_set}\")"
   ]
  },
  {
   "cell_type": "markdown",
   "metadata": {},
   "source": [
    "## BOOLEANS and NONE\n",
    "### Booleans\n",
    "1. True or False\n",
    "2. These are the results of logics "
   ]
  },
  {
   "cell_type": "markdown",
   "metadata": {},
   "source": [
    "### None\n",
    "1. None are used to declar variable without values"
   ]
  },
  {
   "cell_type": "code",
   "execution_count": 37,
   "metadata": {},
   "outputs": [
    {
     "name": "stdout",
     "output_type": "stream",
     "text": [
      " out_1 True\n",
      " out_2 False\n",
      " empty_variable => None, <class 'NoneType'>\n"
     ]
    }
   ],
   "source": [
    "# Boolean output True And False \n",
    "out_1 = 1 < 9\n",
    "out_2 = 1 > 9\n",
    "print(f\" out_1 {out_1}\\n out_2 {out_2}\")\n",
    "# None Variable Declaration\n",
    "empty_variable = None\n",
    "type_n = type(empty_variable)\n",
    "print(f\" empty_variable => {empty_variable}, {type_n}\")\n"
   ]
  },
  {
   "cell_type": "markdown",
   "metadata": {},
   "source": [
    "## FILE I/O"
   ]
  },
  {
   "cell_type": "code",
   "execution_count": 38,
   "metadata": {},
   "outputs": [
    {
     "name": "stdout",
     "output_type": "stream",
     "text": [
      "Overwriting textfile.txt\n"
     ]
    }
   ],
   "source": [
    "%%writefile textfile.txt\n",
    "Hello these are the text which will be inside the textfile.txt \n",
    "we can give any kind Of text inside\n",
    "Line 1\n",
    "Line 2\n",
    "\n",
    "#only compatible with jupiter nootbook\n",
    "\n"
   ]
  },
  {
   "cell_type": "code",
   "execution_count": 39,
   "metadata": {},
   "outputs": [],
   "source": [
    "# opening or importing a file\n",
    "imp_file = open(\"textfile.txt\")\n",
    "# Or one csn use full path\n",
    "# imp_file = open(\"/Users/Machine_Learning/Python/textfile.txt\")"
   ]
  },
  {
   "cell_type": "code",
   "execution_count": 40,
   "metadata": {},
   "outputs": [
    {
     "data": {
      "text/plain": [
       "'Hello these are the text which will be inside the textfile.txt \\nwe can give any kind Of text inside\\nLine 1\\nLine 2\\n\\n#only compatible with jupiter nootbook\\n'"
      ]
     },
     "execution_count": 40,
     "metadata": {},
     "output_type": "execute_result"
    }
   ],
   "source": [
    "# to read the file\n",
    "imp_file.read()"
   ]
  },
  {
   "cell_type": "code",
   "execution_count": 41,
   "metadata": {},
   "outputs": [
    {
     "name": "stdout",
     "output_type": "stream",
     "text": [
      "Reading the second time without seeking from 0 \n",
      "\t\n",
      "Reading the value after seeked from 0 \n",
      "\tHello these are the text which will be inside the textfile.txt \n",
      "we can give any kind Of text inside\n",
      "Line 1\n",
      "Line 2\n",
      "\n",
      "#only compatible with jupiter nootbook\n",
      "\n",
      "Reading the value after seeked from 10 \n",
      "\te are the text which will be inside the textfile.txt \n",
      "we can give any kind Of text inside\n",
      "Line 1\n",
      "Line 2\n",
      "\n",
      "#only compatible with jupiter nootbook\n",
      "\n"
     ]
    }
   ],
   "source": [
    "# To reset the cursor to read again as in python after reading the file the cursor rests at the last index of the file\n",
    "bf_se_r = imp_file.read()\n",
    "print(f\"Reading the second time without seeking from 0 \\n\\t{bf_se_r}\")\n",
    "imp_file.seek(0)\n",
    "se_0_r = imp_file.read()\n",
    "print(f\"Reading the value after seeked from 0 \\n\\t{se_0_r}\")\n",
    "imp_file.seek(10)\n",
    "se_10_r = imp_file.read()\n",
    "print(f\"Reading the value after seeked from 10 \\n\\t{se_10_r}\")\n"
   ]
  },
  {
   "cell_type": "code",
   "execution_count": 42,
   "metadata": {},
   "outputs": [
    {
     "name": "stdout",
     "output_type": "stream",
     "text": [
      "Reading all line and put into list  \n",
      "\t['Hello these are the text which will be inside the textfile.txt \\n', 'we can give any kind Of text inside\\n', 'Line 1\\n', 'Line 2\\n', '\\n', '#only compatible with jupiter nootbook\\n']\n",
      "\n",
      "Reads all line in the range and put into list \n",
      "\t['we can give any kind Of text inside\\n', 'Line 1\\n']\n",
      "\n"
     ]
    },
    {
     "data": {
      "text/plain": [
       "0"
      ]
     },
     "execution_count": 42,
     "metadata": {},
     "output_type": "execute_result"
    }
   ],
   "source": [
    "# To read Line by Line\n",
    "imp_file.seek(0)\n",
    "# Reads all line and put into list\n",
    "l_l_r = imp_file.readlines()\n",
    "print(f\"Reading all line and put into list  \\n\\t{l_l_r}\\n\")\n",
    "imp_file.seek(0)\n",
    "# Reads all line in the range and put into list\n",
    "l_l_r_r = imp_file.readlines()[1:3]\n",
    "print(f\"Reads all line in the range and put into list \\n\\t{l_l_r_r}\\n\")\n",
    "imp_file.seek(0)"
   ]
  },
  {
   "cell_type": "code",
   "execution_count": 43,
   "metadata": {},
   "outputs": [],
   "source": [
    "# To close the file\n",
    "imp_file.close()"
   ]
  },
  {
   "cell_type": "code",
   "execution_count": 44,
   "metadata": {},
   "outputs": [
    {
     "name": "stdout",
     "output_type": "stream",
     "text": [
      "Content of the text file.txt in content_textfile \n",
      "\tHello these are the text which will be inside the textfile.txt \n",
      "we can give any kind Of text inside\n",
      "Line 1\n",
      "Line 2\n",
      "\n",
      "#only compatible with jupiter nootbook\n",
      "\n",
      "\n"
     ]
    }
   ],
   "source": [
    "# To open safely a file to avoid closing problem\n",
    "# As soon as the blook ends the file will close\n",
    "with open(\"textfile.txt\") as newtextfile:\n",
    "    content_textfile = newtextfile.read()\n",
    "\n",
    "print(f\"Content of the text file.txt in content_textfile \\n\\t{content_textfile}\\n\")\n",
    "\n"
   ]
  },
  {
   "cell_type": "markdown",
   "metadata": {},
   "source": [
    "### Read, Write, Append, Read & Write and Writing and reading\n",
    "1. Read => r\n",
    "2. Write => w\n",
    "3. Append => a\n",
    "4. Read & Write => r+\n",
    "5. Write & Read => w+\n",
    "6. Syntax open (mode = 'r')"
   ]
  },
  {
   "cell_type": "code",
   "execution_count": 45,
   "metadata": {},
   "outputs": [
    {
     "name": "stdout",
     "output_type": "stream",
     "text": [
      "************************************************\n",
      "Reading content_textfile \n",
      "\tHello these are the text which will be inside the textfile.txt \n",
      "we can give any kind Of text inside\n",
      "Line 1\n",
      "Line 2\n",
      "\n",
      "#only compatible with jupiter nootbook\n",
      "\n",
      "\n",
      "************************************************\n",
      "verifing content_textfile \n",
      "\tHello these are the text which will be inside the textfile.txt \n",
      "we can give any kind Of text inside\n",
      "Line 1\n",
      "Line 2\n",
      "\n",
      "#only compatible with jupiter nootbook\n",
      "\n",
      "Hai this is the new line using append\n",
      "\n",
      "************************************************\n",
      "verifing content_textfile \n",
      "\t\n",
      "Hai this is the new line using Writing\n",
      "\n"
     ]
    }
   ],
   "source": [
    "with open(\"textfile.txt\",mode='r') as newtextfile:\n",
    "    read_textfile = newtextfile.read()\n",
    "print(\"************************************************\")\n",
    "print(f\"Reading content_textfile \\n\\t{read_textfile}\\n\")\n",
    "\n",
    "# Appending to the file\n",
    "with open(\"textfile.txt\",mode='a') as newtextfile:\n",
    "    newtextfile.write(\"\\nHai this is the new line using append\")\n",
    "    \n",
    "# verifing \n",
    "with open(\"textfile.txt\",mode='r') as newtextfile:\n",
    "    verifying_textfile = newtextfile.read()\n",
    "    \n",
    "print(\"************************************************\")\n",
    "print(f\"verifing content_textfile \\n\\t{verifying_textfile}\\n\")\n",
    "\n",
    "# Writing to the file\n",
    "with open(\"textfile.txt\",mode='w') as newtextfile:\n",
    "    newtextfile.write(\"\\nHai this is the new line using Writing\")\n",
    "    \n",
    "# verifing \n",
    "with open(\"textfile.txt\",mode='r') as newtextfile:\n",
    "    verifying_textfile = newtextfile.read()\n",
    "\n",
    "print(\"************************************************\")\n",
    "print(f\"verifing content_textfile \\n\\t{verifying_textfile}\\n\")\n",
    "\n"
   ]
  },
  {
   "cell_type": "markdown",
   "metadata": {},
   "source": [
    "## COMPARISON OPERATORS\n"
   ]
  },
  {
   "cell_type": "code",
   "execution_count": 46,
   "metadata": {},
   "outputs": [
    {
     "name": "stdout",
     "output_type": "stream",
     "text": [
      "OPERATIONS => RESULT OBTAINED \n",
      "Equal => False \n",
      "Not equal => True\n",
      "Greater => False \n",
      "Lesser => False \n",
      "Greater or equal => False \n",
      "Lesser or equal => False \n",
      "chain comparison 1 => True \n",
      "chain comparison 2 => False \n",
      "chain comparison 3 => True\n"
     ]
    }
   ],
   "source": [
    "## Equal\n",
    "ce = 1 == 2\n",
    "\n",
    "## Not equal\n",
    "cne = 1!= 2\n",
    "\n",
    "## Greater\n",
    "cg = 1 > 2\n",
    "\n",
    "## Lesser\n",
    "cl = 1 > 2\n",
    "\n",
    "## Greater or equal\n",
    "cge = 1 >= 2\n",
    "\n",
    "# Lesser or equal\n",
    "cle = 1 >= 2\n",
    "\n",
    "# chain comparison && higest priorities for False\n",
    "cc_1 = 1 < 2 < 3\n",
    "cc_2 = 1 < 2 > 3\n",
    "cc_3 = 1 < 2 >= 2\n",
    "\n",
    "print(f\"OPERATIONS => RESULT OBTAINED \\nEqual => {ce} \\nNot equal => {cne}\\nGreater => {cg} \\nLesser => {cl} \\nGreater or equal => {cge} \\nLesser or equal => {cle} \\nchain comparison 1 => {cc_1} \\nchain comparison 2 => {cc_2} \\nchain comparison 3 => {cc_3}\")"
   ]
  },
  {
   "cell_type": "markdown",
   "metadata": {},
   "source": [
    "## LOGICAL OPERATORS"
   ]
  },
  {
   "cell_type": "code",
   "execution_count": 47,
   "metadata": {},
   "outputs": [
    {
     "name": "stdout",
     "output_type": "stream",
     "text": [
      "Logical operation for AND => False \n",
      "Logical operation for OR => True \n",
      "Logical operation for NOT => True\n"
     ]
    }
   ],
   "source": [
    "# And : All value should be true to get True\n",
    "l_and = 1 < 2 and 2 > 2\n",
    "# OR : Atleast one value should be true to get True\n",
    "l_or = 1 < 2 or 2 > 2\n",
    "# And : Gives the Opposite Boolean value\n",
    "l_not = not l_and\n",
    "print(f\"Logical operation for AND => {l_and} \\nLogical operation for OR => {l_or} \\nLogical operation for NOT => {l_not}\")"
   ]
  },
  {
   "cell_type": "markdown",
   "metadata": {},
   "source": [
    "## IF,ELIF and ELSE\n",
    "1. IF\n",
    "\n",
    "    if condition:\n",
    "        //.....//\n",
    "\n",
    "2. IF...ELSE\n",
    "\n",
    "    if condition:\n",
    "        //.....//\n",
    "        \n",
    "    else:\n",
    "        //.....//\n",
    "3. IF...ELIF..ELSE\n",
    "\n",
    "   if condition:\n",
    "        //.....//\n",
    "   elif condition: \n",
    "        //.....//\n",
    "   else condition:\n",
    "        //.....//\n",
    "    \n",
    "4. IF...ELIF...ELIF\n",
    "\n",
    "   if condition:\n",
    "        //.....//\n",
    "        \n",
    "   elif condition 1: \n",
    "    .   //.....//\n",
    "    .\n",
    "    .\n",
    "    .\n",
    "    .\n",
    "   elif condition n: \n",
    "        //.....//\n",
    "\n",
    "5. IF...ELIF...ELIF...ELSE\n",
    "\n",
    "   if condition:\n",
    "        //.....//\n",
    "        \n",
    "   elif condition 1: \n",
    "    .   //.....//\n",
    "    .\n",
    "    .\n",
    "    .\n",
    "    .\n",
    "   elif condition n: \n",
    "        //.....//\n",
    "        \n",
    "   else condition:\n",
    "        //.....//\n",
    "    \n",
    "6. Colons and indent are the important sytax to be noted"
   ]
  },
  {
   "cell_type": "code",
   "execution_count": 48,
   "metadata": {},
   "outputs": [
    {
     "name": "stdout",
     "output_type": "stream",
     "text": [
      "1 => It is only a if condition\n",
      "2 => It is a if-else condition\n",
      "3 => It is a if-elif condition\n",
      "5 => It is a if-elif-else condition\n"
     ]
    }
   ],
   "source": [
    "# if\n",
    "if (1<2):\n",
    "    print(\"1 => It is only a if condition\")\n",
    "\n",
    "# if and else\n",
    "if (1>2):\n",
    "    print(\"It is true\")\n",
    "else:\n",
    "    print(\"2 => It is a if-else condition\")\n",
    "\n",
    "# if and elif\n",
    "if (1>2):\n",
    "    print(\"It is only a if condition\")\n",
    "elif (1==2):\n",
    "     print(\"It is a if-elif condition\")\n",
    "elif (1<=2):\n",
    "     print(\"3 => It is a if-elif condition\")\n",
    "else:\n",
    "    print(\"It is a if-else condition\")\n",
    "    \n",
    "# if elif and else\n",
    "if (1>2):\n",
    "    print(\"It is only a if condition\")\n",
    "elif (1==2):\n",
    "     print(\"It is a if-elif-else condition\")\n",
    "elif (1>=2):\n",
    "     print(\" It is a if-elif-else condition\")\n",
    "else:\n",
    "    print(\"5 => It is a if-elif-else condition\")\n"
   ]
  },
  {
   "cell_type": "markdown",
   "metadata": {},
   "source": [
    "## FOR LOOP\n",
    "1. Helps to create a iteration to retrive values, Printing output and much more.\n",
    "2. Syntax\n",
    "    \n",
    "    for var in tobriterated:\n",
    "        //....operations...//"
   ]
  },
  {
   "cell_type": "code",
   "execution_count": 49,
   "metadata": {},
   "outputs": [
    {
     "name": "stdout",
     "output_type": "stream",
     "text": [
      "H\n",
      "e\n",
      "l\n",
      "l\n",
      "o\n",
      " \n",
      "W\n",
      "o\n",
      "r\n",
      "l\n",
      "d\n",
      "\n",
      "1st Block ends (String)\n",
      "\n",
      "1\n",
      "2\n",
      "3\n",
      "List\n",
      "6.6789\n",
      "bye\n",
      "\n",
      "2nd Block ends (List)\n",
      "\n",
      "1\n",
      "2\n",
      "3\n",
      "tuples\n",
      "6.6789\n",
      "bye\n",
      "\n",
      "3rd Block ends (Tuples)\n",
      "\n",
      "1\n",
      "2\n",
      "3\n",
      "hello\n",
      "6.6789\n",
      "7\n",
      "8\n",
      "bye\n",
      "\n",
      "4th Block ends (Set)\n",
      "\n",
      "Printing Key => key\n",
      "Printing value => Value\n",
      "Printing Key => key1\n",
      "Printing value => Value1\n",
      "Printing Key => key2\n",
      "Printing value => Value2\n",
      "Printing Key => 3\n",
      "Printing value => hello\n",
      "Printing Key => 6.6789\n",
      "Printing value => bye\n",
      "\n",
      "5th Block ends (Dictionary)\n",
      "\n",
      "Printing only by using .values() function | value => Value\n",
      "Printing only by using .values() function | value => Value1\n",
      "Printing only by using .values() function | value => Value2\n",
      "Printing only by using .values() function | value => hello\n",
      "Printing only by using .values() function | value => bye\n",
      "\n",
      "5.1 Block ends (Dictionary)\n",
      "\n"
     ]
    }
   ],
   "source": [
    "# printing a string \n",
    "hw_string = \"Hello World\"\n",
    "for st in hw_string:\n",
    "    print(st)\n",
    "print(\"\\n1st Block ends (String)\\n\")\n",
    "# printing values from list\n",
    "vl_list =[1,2,3,\"List\",6.67890,\"bye\"]\n",
    "for vl in vl_list:\n",
    "    print(vl)\n",
    "print(\"\\n2nd Block ends (List)\\n\")\n",
    "\n",
    "# printing values from tuples\n",
    "tp_tuple =(1,2,3,\"tuples\",6.67890,\"bye\")\n",
    "for tp in tp_tuple:\n",
    "    print(tp)\n",
    "print(\"\\n3rd Block ends (Tuples)\\n\")\n",
    "\n",
    "# printing values from set\n",
    "st_set ={1,2,3,\"hello\",6.67890,\"bye\",7,3,2,8,\"hello\",6.67890,\"bye\"}\n",
    "for st in st_set:\n",
    "    print(st)\n",
    "print(\"\\n4th Block ends (Set)\\n\")\n",
    "\n",
    "# printing values from Dictionary \n",
    "# Note dictionaries dosent have order\n",
    "dt_dictionary ={\"key\":\"Value\",\"key1\":\"Value1\",\"key2\":\"Value2\",3:\"hello\",6.67890:\"bye\",}\n",
    "for dt in dt_dictionary:\n",
    "    print(f\"Printing Key => {dt}\")\n",
    "    print(f\"Printing value => {dt_dictionary[dt]}\")\n",
    "print(\"\\n5th Block ends (Dictionary)\\n\")\n",
    "# Same Process for dictionary can be done by different procedure \n",
    "for dt_v in dt_dictionary.values():\n",
    "    print(f\"Printing only by using .values() function | value => {dt_v}\")\n",
    "print(\"\\n5.1 Block ends (Dictionary)\\n\")"
   ]
  },
  {
   "cell_type": "markdown",
   "metadata": {},
   "source": [
    "## Nested Loop\n",
    "1. Creating a loop inside a loop\n",
    "2. Syntax \n",
    "    "
   ]
  },
  {
   "cell_type": "code",
   "execution_count": 50,
   "metadata": {},
   "outputs": [
    {
     "name": "stdout",
     "output_type": "stream",
     "text": [
      "Two Nested Loop\n",
      "\n",
      "x => 0, y => 0\n",
      "x => 0, y => 1\n",
      "x => 0, y => 2\n",
      "x => 1, y => 0\n",
      "x => 1, y => 1\n",
      "x => 1, y => 2\n",
      "\n",
      "Three Nested Loop\n",
      "\n",
      "x => 0, y => 0 ,z => 0\n",
      "x => 0, y => 0 ,z => 1\n",
      "x => 0, y => 1 ,z => 0\n",
      "x => 0, y => 1 ,z => 1\n",
      "x => 1, y => 0 ,z => 0\n",
      "x => 1, y => 0 ,z => 1\n",
      "x => 1, y => 1 ,z => 0\n",
      "x => 1, y => 1 ,z => 1\n"
     ]
    }
   ],
   "source": [
    "print(\"Two Nested Loop\\n\")\n",
    "# Two nested loop\n",
    "for x in range(2):\n",
    "        for y in range(3):\n",
    "            print(f\"x => {x}, y => {y}\")\n",
    "print(\"\\nThree Nested Loop\\n\")\n",
    "# Three Nested Loop\n",
    "for x in range(2):\n",
    "        for y in range(2):\n",
    "            for z in range(2):\n",
    "                print(f\"x => {x}, y => {y} ,z => {z}\")"
   ]
  },
  {
   "cell_type": "code",
   "execution_count": 51,
   "metadata": {},
   "outputs": [
    {
     "name": "stdout",
     "output_type": "stream",
     "text": [
      "\n",
      "key type is String\n",
      "Printing Key => key\n",
      "Printing value => Value\n",
      "\n",
      "key type is Float\n",
      "Printing Key => 6.6789\n",
      "Printing value => bye\n",
      "\n",
      "key type is String\n",
      "Printing Key => key1\n",
      "Printing value => Value1\n",
      "\n",
      "key type is Integer\n",
      "Printing Key => 3\n",
      "Printing value => hello\n",
      "\n",
      "key type is String\n",
      "Printing Key => key2\n",
      "Printing value => Value2\n"
     ]
    }
   ],
   "source": [
    "# using conditions inside loop\n",
    "# Dictionary \n",
    "dt_dictionary ={\"key\":\"Value\",6.67890:\"bye\",\"key1\":\"Value1\",3:\"hello\",\"key2\":\"Value2\"}\n",
    "for dt in dt_dictionary:\n",
    "    if type(dt) == str:\n",
    "        print(\"\\nkey type is String\")\n",
    "        print(f\"Printing Key => {dt}\")\n",
    "        print(f\"Printing value => {dt_dictionary[dt]}\")\n",
    "    elif type(dt) == int:\n",
    "        print(\"\\nkey type is Integer\")\n",
    "        print(f\"Printing Key => {dt}\")\n",
    "        print(f\"Printing value => {dt_dictionary[dt]}\")\n",
    "    elif type(dt) == float:\n",
    "        print(\"\\nkey type is Float\")\n",
    "        print(f\"Printing Key => {dt}\")\n",
    "        print(f\"Printing value => {dt_dictionary[dt]}\")\n",
    "    else:\n",
    "        print(\"\\nkey type is Unknown\")\n",
    "        print(f\"Printing Key => {dt}\")\n",
    "        print(f\"Printing value => {dt_dictionary[dt]}\")"
   ]
  },
  {
   "cell_type": "code",
   "execution_count": 52,
   "metadata": {},
   "outputs": [
    {
     "name": "stdout",
     "output_type": "stream",
     "text": [
      "Values from first for loop (1, 2) \n",
      "\n",
      "\tValues from second for loop 1 \n",
      "\n",
      "\tValues from second for loop 2 \n",
      "\n",
      "Values from first for loop (3, 4) \n",
      "\n",
      "\tValues from second for loop 3 \n",
      "\n",
      "\tValues from second for loop 4 \n",
      "\n",
      "Values from first for loop (5, 6) \n",
      "\n",
      "\tValues from second for loop 5 \n",
      "\n",
      "\tValues from second for loop 6 \n",
      "\n",
      "Values from first for loop (7, 8) \n",
      "\n",
      "\tValues from second for loop 7 \n",
      "\n",
      "\tValues from second for loop 8 \n",
      "\n",
      "SECOND PROCEDURE\n",
      "\n",
      "1st value of tuple 1 \n",
      "\n",
      "2nd value of tuple 2 \n",
      "\n",
      "1st value of tuple 3 \n",
      "\n",
      "2nd value of tuple 4 \n",
      "\n",
      "1st value of tuple 5 \n",
      "\n",
      "2nd value of tuple 6 \n",
      "\n",
      "1st value of tuple 7 \n",
      "\n",
      "2nd value of tuple 8 \n",
      "\n"
     ]
    }
   ],
   "source": [
    "# Tuples in list\n",
    "lt_list_tuple = [(1,2),(3,4),(5,6),(7,8)]\n",
    "for lt in lt_list_tuple:\n",
    "    print(f\"Values from first for loop {lt} \\n\")\n",
    "    for t in lt:\n",
    "        print(f\"\\tValues from second for loop {t} \\n\")\n",
    "\n",
    "print(\"SECOND PROCEDURE\\n\")\n",
    "# Same Process can be done by different procedure \n",
    "# But tuple should have same values\n",
    "for (t1,t2) in lt_list_tuple:\n",
    "        print(f\"1st value of tuple {t1} \\n\")\n",
    "        print(f\"2nd value of tuple {t2} \\n\")\n",
    "    "
   ]
  },
  {
   "cell_type": "markdown",
   "metadata": {},
   "source": [
    "### RANGE\n",
    "1. Range is used in for loop\n",
    "2. Last value in  given range is not included\n",
    "    For example in range(10) it will give 0 1o 9 and it will not include 10 because it   starts from zero\n",
    "3. range(Starting index, Ending index, Step size)"
   ]
  },
  {
   "cell_type": "code",
   "execution_count": 53,
   "metadata": {},
   "outputs": [
    {
     "name": "stdout",
     "output_type": "stream",
     "text": [
      "Only with range\n",
      "\n",
      "0\n",
      "1\n",
      "2\n",
      "3\n",
      "4\n",
      "5\n",
      "6\n",
      "7\n",
      "8\n",
      "9\n",
      "\n",
      "With starting, ending index and stepsize\n",
      "\n",
      "2\n",
      "5\n",
      "8\n",
      "\n",
      "Using range for index and list\n",
      "\n",
      "\n",
      "Range => (2, 4, 6, 8)\n",
      "\n",
      "\n",
      "List => [1, 5, 9, 13, 17]\n"
     ]
    }
   ],
   "source": [
    "print(\"Only with range\\n\")\n",
    "# Only range\n",
    "for i in range(10):\n",
    "    print(i)\n",
    "print(\"\\nWith starting, ending index and stepsize\\n\")\n",
    "# starting and ending index with stepsize\n",
    "for i in range(2,10,3):\n",
    "    print(i)\n",
    "\n",
    "print(\"\\nUsing range for index and list\\n\")\n",
    "# range can be used for different purposes also\n",
    "t_range = tuple(range(2,10,2))\n",
    "print(f\"\\nRange => {t_range}\\n\")\n",
    "l_range = list(range(1,20,4))\n",
    "print(f\"\\nList => {l_range}\")"
   ]
  },
  {
   "cell_type": "markdown",
   "metadata": {},
   "source": [
    "## ENUMERATE\n",
    "1. same as \"in\" but returns index as a Collection of tuples\n",
    "2. syntax\n",
    "\n",
    "    for i in enumerate(10):\n",
    "    \n",
    "        print(i)\n",
    "    "
   ]
  },
  {
   "cell_type": "code",
   "execution_count": 54,
   "metadata": {},
   "outputs": [
    {
     "name": "stdout",
     "output_type": "stream",
     "text": [
      "\n",
      "using enumerate\n",
      "\n",
      "(0, 'H')\n",
      "(1, 'e')\n",
      "(2, 'l')\n",
      "(3, 'l')\n",
      "(4, 'o')\n",
      "\n",
      "using enumerate and range in same loop\n",
      "\n",
      "(0, 5)\n",
      "(1, 15)\n",
      "(2, 25)\n",
      "(3, 35)\n",
      "(4, 45)\n",
      "(5, 55)\n",
      "(6, 65)\n",
      "(7, 75)\n",
      "(8, 85)\n",
      "(9, 95)\n",
      "\n",
      "using enumerate and range in same loop printing separately\n",
      "\n",
      "Index of Enumerated tuple 1 \n",
      "\n",
      "Value of Enumerated tuple 2 \n",
      "\n",
      "Index of Enumerated tuple 3 \n",
      "\n",
      "Value of Enumerated tuple 4 \n",
      "\n",
      "Index of Enumerated tuple 5 \n",
      "\n",
      "Value of Enumerated tuple 6 \n",
      "\n",
      "Index of Enumerated tuple 7 \n",
      "\n",
      "Value of Enumerated tuple 8 \n",
      "\n"
     ]
    }
   ],
   "source": [
    "print(\"\\nusing enumerate\\n\")\n",
    "for a in enumerate (\"Hello\"):\n",
    "    print(a)\n",
    "print(\"\\nusing enumerate and range in same loop\\n\")\n",
    "# using enumerate and range in same loop\n",
    "for a in enumerate (range(5,100,10)):\n",
    "    print(a)\n",
    "print(\"\\nusing enumerate and range in same loop printing separately\\n\")\n",
    "# using enumerate and range in same loop printing separately \n",
    "lt_list_tuple = [(1,2),(3,4),(5,6),(7,8)]\n",
    "for (ind,val) in  lt_list_tuple:\n",
    "        print(f\"Index of Enumerated tuple {ind} \\n\")\n",
    "        print(f\"Value of Enumerated tuple {val} \\n\")"
   ]
  },
  {
   "cell_type": "markdown",
   "metadata": {},
   "source": [
    "## ZIP\n",
    "1. It will create a tuple and concat the same indexed value\n",
    "2. It will zip upto the maximum of sortest index\n",
    "3. Syntax\n",
    "\n",
    "    zip(list1,list2,tuple1)"
   ]
  },
  {
   "cell_type": "code",
   "execution_count": 55,
   "metadata": {},
   "outputs": [
    {
     "name": "stdout",
     "output_type": "stream",
     "text": [
      "(1, 34, 'hai_1')\n",
      "(2, 'tup1', 12)\n",
      "(3, 3, 2.89403)\n",
      "(4, 'tup2', 'hello_4')\n",
      "(5, 'sin', 'how_5')\n"
     ]
    }
   ],
   "source": [
    "list1 = [\"hai_1\",12,2.89403,\"hello_4\",\"how_5\"]\n",
    "list2 = [1,2,3,4,5,6,7,8,9]\n",
    "tuple1 = (34,\"tup1\",3,\"tup2\",\"sin\",\"cos\",\"tan\")\n",
    "\n",
    "for zipped_val in zip(list2,tuple1,list1):\n",
    "    print(zipped_val)"
   ]
  },
  {
   "cell_type": "markdown",
   "metadata": {},
   "source": [
    "## LIST COMPREHENSIONS\n",
    "1. It Simplify the code and enhance the performance of the for loop\n",
    "2. Operation can performed with the returend value\n",
    "3. Conditions can be added at the end of the loop\n",
    "4. Syntax\n",
    "    \n",
    "    NOTE: \"-\" is white-space \n",
    "    \n",
    "    4.1. returend_input for grabbed_value in range_of_value conditions_if_needed\n",
    "    \n",
    "    4.2. Basic syntax\n",
    "            \n",
    "            -----x--------for-------x-------in--[1,2,3,4,5,6]--------------------\n",
    "    \n",
    "    4.3. With operations\n",
    "            \n",
    "            ----(x+2)*x----for-------x-------in--[1,2,3,4,5,6]--------------------\n",
    "    \n",
    "    4.4. With If condition\n",
    "            \n",
    "            ----(x+2)*x----for-------x-------in--[1,2,3,4,5,6]-----if (x%2)==0----\n",
    "    \n",
    "    4.5. If else in this order change IF..else comes next to returend_input and before for\n",
    "    \n",
    "            ----(x+2)*x--if (x%2)==0--else \"NOT EVEN\"--for-------x-------in--[1,2,3,4,5,6]\n",
    "            \n",
    "    4.6 Nested Loop\n",
    "            \n",
    "            ---x,y---for---x---in--[1,2,3,4,5,6]------for-----y-------in--[1,2,3,4,5,6]\n",
    "   \n",
    "5. It will work only with list but can be casted if needed\n"
   ]
  },
  {
   "cell_type": "code",
   "execution_count": 56,
   "metadata": {},
   "outputs": [
    {
     "name": "stdout",
     "output_type": "stream",
     "text": [
      "syntax 4.2 => [1, 2, 3, 4, 5, 6]\n",
      "\n",
      "syntax 4.3 => [3, 8, 15, 24, 35, 48]\n",
      "\n",
      "syntax 4.4 => [8, 24, 48]\n",
      "\n",
      "Using enumerate 4.5 => ['NOT EVEN', 8, 'NOT EVEN', 24, 'NOT EVEN', 48]\n",
      "\n",
      "syntax 4.6 => [[1, 0], [1, 1], [2, 0], [2, 1], [3, 0], [3, 1]]\n",
      "\n",
      "syntax 5 casted to tuple => (8, 24, 48)\n",
      "\n",
      "Using enumerate 1 => [-2, 4, 18]\n",
      "\n",
      "Using enumerate 2.1 => [(1, 2), (2, 3), (3, 4), (4, 5), (5, 6)]\n",
      "\n",
      "Using enumerate 2.1 => [(1, 2), (2, 3), (3, 4)]\n",
      "\n",
      "creating dictionary using nested for loop => {'Key1': 8, 'Key2': 8, 'Key3': 8, 'Key4': 8, 'Key5': 8, 'Key6': 8, 'Key7': 8}\n",
      "\n",
      "Verifying the type for Dictionary => <class 'dict'>\n",
      "\n",
      "Sample example to use string in list comprehensions => ['H', 'W', 't', 'i', 'a', 'S']\n"
     ]
    }
   ],
   "source": [
    "# 4.2\n",
    "c_2_list = [x for x in [1,2,3,4,5,6]]\n",
    "print(f\"syntax 4.2 => {c_2_list}\\n\")\n",
    "\n",
    "# 4.3\n",
    "c_3_list = [(x+2)*x for x in range(1,7)]\n",
    "print(f\"syntax 4.3 => {c_3_list}\\n\")\n",
    "\n",
    "# 4.4\n",
    "c_4_list = [(x+2)*x for x in [1,2,3,4,5,6] if (x%2)==0]\n",
    "print(f\"syntax 4.4 => {c_4_list}\\n\")\n",
    "\n",
    "# 4.5\n",
    "c_5_list = [ (x+2)*x if (x%2)==0  else \"NOT EVEN\" for x in [1,2,3,4,5,6] ]\n",
    "print(f\"Using enumerate 4.5 => {c_5_list}\\n\")\n",
    "\n",
    "#4.6 \n",
    "# [x,y] list in list and it can be tuple (x,y)or dictionary {x,y} in list \n",
    "c_6_list = [[x,y] for x in [1,2,3] for y in range(0,2)]\n",
    "print(f\"syntax 4.6 => {c_6_list}\\n\")\n",
    "\n",
    "# 5\n",
    "print(f\"syntax 5 casted to tuple => {tuple(c_4_list)}\\n\")\n",
    "\n",
    "# Using enumerate 1\n",
    "c_e_list = [(x+2)*(y-2) for (x,y) in enumerate(range(1,7)) if (x%2)==0]\n",
    "print(f\"Using enumerate 1 => {c_e_list}\\n\")\n",
    "\n",
    "# Using enumerate 2\n",
    "c_e_list = [ (x,y) for (x,y) in enumerate(range(1,7)) if x > 0 and y > 0 ]\n",
    "print(f\"Using enumerate 2.1 => {c_e_list}\\n\")\n",
    "c_e_list = [ (x,y) for (x,y) in enumerate(range(1,7)) if x > 0 and y < 5 ]\n",
    "print(f\"Using enumerate 2.1 => {c_e_list}\\n\")\n",
    "\n",
    "# Creating dictionary using nested for loop\n",
    "c_d_list = {\"Key\"+str(x):y for x in [1,2,3,4,5,6,7] for y in (1,2,3,4,5,6,7,8)}\n",
    "print(f\"creating dictionary using nested for loop => {c_d_list}\\n\\nVerifying the type for Dictionary => {type(c_d_list)}\")\n",
    "\n",
    "#Sample example to use string in list comprehensions\n",
    "s_string = \"Hello World this is a String\"\n",
    "l_letters = [w[0] for w in s_string.split()]\n",
    "print(f\"\\nSample example to use string in list comprehensions => {l_letters}\")"
   ]
  },
  {
   "cell_type": "markdown",
   "metadata": {},
   "source": [
    "## WHILE LOOP\n",
    "1. While Loop will execute until the condition is true\n",
    "2. Syntax\n",
    "    \n",
    "    1. while(Condition):\n",
    "         //....operation....//\n",
    "         \n",
    "    2. while(Condition):\n",
    "        //....operation....//\n",
    "       else:\n",
    "       //....operation....//\n",
    "\n",
    "\n",
    "3. Break\n",
    "\n",
    "    It will break the loop\n",
    "    \n",
    "4. Continue\n",
    "    \n",
    "    It will skip the current procees and proceed to next iteration\n",
    "    \n",
    "5. Pass\n",
    "\n",
    "    Pass do nothing its a place holder"
   ]
  },
  {
   "cell_type": "code",
   "execution_count": 57,
   "metadata": {},
   "outputs": [
    {
     "name": "stdout",
     "output_type": "stream",
     "text": [
      "\n",
      "Using while\n",
      "\n",
      "0 is less than 10, so Condition is True \n",
      "\n",
      "1 is less than 10, so Condition is True \n",
      "\n",
      "2 is less than 10, so Condition is True \n",
      "\n",
      "3 is less than 10, so Condition is True \n",
      "\n",
      "4 is less than 10, so Condition is True \n",
      "\n",
      "5 is less than 10, so Condition is True \n",
      "\n",
      "6 is less than 10, so Condition is True \n",
      "\n",
      "7 is less than 10, so Condition is True \n",
      "\n",
      "8 is less than 10, so Condition is True \n",
      "\n",
      "9 is less than 10, so Condition is True \n",
      "\n",
      "10 is not less than 10, so loop is breaked \n",
      "\n",
      "\n",
      "Using while....else\n",
      "\n",
      "0 is less than 10, so Condition is True \n",
      "\n",
      "1 is less than 10, so Condition is True \n",
      "\n",
      "2 is less than 10, so Condition is True \n",
      "\n",
      "3 is less than 10, so Condition is True \n",
      "\n",
      "4 is less than 10, so Condition is True \n",
      "\n",
      "5 is less than 10, so Condition is True \n",
      "\n",
      "6 is less than 10, so Condition is True \n",
      "\n",
      "7 is less than 10, so Condition is True \n",
      "\n",
      "8 is less than 10, so Condition is True \n",
      "\n",
      "9 is less than 10, so Condition is True \n",
      "\n",
      "10 is not less than 10, so loop is breaked \n",
      "\n",
      "\n",
      "Using Continue, Break and Pass\n",
      "\n",
      "\n",
      "1 is less than 10, so Condition is True \n",
      "\n",
      "\n",
      "3 is less than 10, so Condition is True \n",
      "\n",
      "\tPass dose nothing\n",
      "\n",
      "4 is less than 10, so Condition is True \n",
      "\n",
      "\tPass dose nothing\n",
      "\n",
      "5 is less than 10, so Condition is True \n",
      "\n",
      "\n",
      "6 is less than 10, so Condition is True \n",
      "\n",
      "\n",
      "7 is less than 10, so Condition is True \n",
      "\n",
      "8 is equal to 10, so the Condition is True and it's breaked \n",
      "\n"
     ]
    }
   ],
   "source": [
    "i = 0\n",
    "print(\"\\nUsing while\\n\")\n",
    "while(i<10):\n",
    "    print(f\"{i} is less than 10, so Condition is True \\n\")\n",
    "    i +=1\n",
    "print(f\"{i} is not less than 10, so loop is breaked \\n\")\n",
    "\n",
    "print(\"\\nUsing while....else\\n\")\n",
    "i = 0\n",
    "while(i<10):\n",
    "    print(f\"{i} is less than 10, so Condition is True \\n\")\n",
    "    i +=1\n",
    "else:\n",
    "    print(f\"{i} is not less than 10, so loop is breaked \\n\")\n",
    "\n",
    "\n",
    "print(\"\\nUsing Continue, Break and Pass\\n\")\n",
    "i = 0\n",
    "while(i<10):\n",
    "    i +=1\n",
    "    if(i==2):\n",
    "        continue\n",
    "        # continue will skip the current procees and proceed to next iteration\n",
    "    if (i == 8):\n",
    "        print(f\"{i} is equal to 10, so the Condition is True and it's breaked \\n\")\n",
    "        break\n",
    "    if(i>3 and i<6):\n",
    "        pass\n",
    "        print(\"\\tPass dose nothing\")\n",
    "    print(f\"\\n{i} is less than 10, so Condition is True \\n\")\n",
    "\n"
   ]
  },
  {
   "cell_type": "markdown",
   "metadata": {},
   "source": [
    "## IN\n",
    "1. To check the value is present in the list or tuple\n"
   ]
  },
  {
   "cell_type": "code",
   "execution_count": 58,
   "metadata": {},
   "outputs": [
    {
     "name": "stdout",
     "output_type": "stream",
     "text": [
      "Is 100 in list => False\n",
      "Is cos in tuple => True\n",
      "Is key1 in dictionary => True\n",
      "\n"
     ]
    }
   ],
   "source": [
    "l_in = 100 in [1,2,3,4,5,6,7,8,9]\n",
    "t_in = \"cos\" in (34,\"tup1\",3,\"tup2\",\"sin\",\"cos\",\"tan\")\n",
    "\n",
    "# \"IN\" in dictionary is only for keys\n",
    "in_dictionary ={\"key\":\"Value\",6.67890:\"bye\",\"key1\":\"Value1\",3:\"hello\",\"key2\":\"Value2\"}\n",
    "d_in = \"key1\" in in_dictionary\n",
    "print(f\"Is 100 in list => {l_in}\\nIs cos in tuple => {t_in}\\nIs key1 in dictionary => {d_in}\\n\")"
   ]
  },
  {
   "cell_type": "markdown",
   "metadata": {},
   "source": [
    "## MIN and MAX\n",
    "1. Min is to find minimum value\n",
    "2. Max is to find maximum value\n",
    "3. It should be in same data type"
   ]
  },
  {
   "cell_type": "code",
   "execution_count": 59,
   "metadata": {},
   "outputs": [
    {
     "name": "stdout",
     "output_type": "stream",
     "text": [
      " Minimum value in list => 1\n",
      " Maximum value in list => tup2\n",
      " Minimum value in Dictionary => key\n",
      "\n"
     ]
    }
   ],
   "source": [
    "# List\n",
    "l = [1,2,3,4,5,6,7,8,9]\n",
    "l_mm = min(l)\n",
    "# Tuple\n",
    "t = (\"tup2\",\"sin\",\"cos\",\"tan\")\n",
    "t_mm = max(t)\n",
    "# Dictionary \n",
    "d ={\"key\":\"Value\",\"key1\":\"Value1\",\"key2\":\"Value2\"}\n",
    "d_mm = min(d)\n",
    "\n",
    "print(f\" Minimum value in list => {l_mm}\\n Maximum value in list => {t_mm}\\n Minimum value in Dictionary => {d_mm}\\n\")"
   ]
  },
  {
   "cell_type": "markdown",
   "metadata": {},
   "source": [
    "## Random\n",
    "1. Random is a library which has methods for numeric operation\n",
    "2. some operations are \n",
    "    1.randint()\n",
    "    2.Shuffle"
   ]
  },
  {
   "cell_type": "code",
   "execution_count": 60,
   "metadata": {},
   "outputs": [
    {
     "name": "stdout",
     "output_type": "stream",
     "text": [
      "Generates a random int within given range 1 to 1000 => 874\n",
      "\n",
      "Generates a random float value => 0.9246615258292701\n"
     ]
    }
   ],
   "source": [
    "# Randint\n",
    "from random import randint\n",
    "rr = randint(1,1000)# from 0 to 1000\n",
    "print(f\"Generates a random int within given range 1 to 1000 => {rr}\\n\")\n",
    "# Random \n",
    "# dosent take range returns a float value randomly \n",
    "from random import random\n",
    "r = random()\n",
    "print(f\"Generates a random float value => {r}\")"
   ]
  },
  {
   "cell_type": "code",
   "execution_count": 61,
   "metadata": {},
   "outputs": [
    {
     "name": "stdout",
     "output_type": "stream",
     "text": [
      "shuffle 1 => [8, 6, 9, 5, 7, 2, 3, 1, 4]\n",
      "shuffle 2 => [6, 3, 1, 2, 5, 7, 8, 9, 4]\n",
      "shuffle 3 => [7, 5, 4, 1, 6, 9, 8, 2, 3]\n",
      "shuffle 4 => [2, 9, 8, 6, 7, 3, 1, 4, 5]\n",
      "shuffle 5 => [7, 6, 1, 4, 8, 2, 5, 3, 9]\n"
     ]
    }
   ],
   "source": [
    "# Shuffle the given value and place it in the same(given) variable \n",
    "from random import shuffle\n",
    "l = [1,2,3,4,5,6,7,8,9]\n",
    "for i in range(1,6):\n",
    "    shuffle(l)\n",
    "    print(f\"shuffle {i} => {l}\")"
   ]
  },
  {
   "cell_type": "markdown",
   "metadata": {},
   "source": [
    "## INPUT\n",
    "1. To get a in put value during runtime\n",
    "2. It always takes the value as a string but it can be casted to int or other datatypes in future"
   ]
  },
  {
   "cell_type": "code",
   "execution_count": 62,
   "metadata": {},
   "outputs": [
    {
     "name": "stdout",
     "output_type": "stream",
     "text": [
      "Enter the input: k\n",
      " Given Input k\n"
     ]
    }
   ],
   "source": [
    "inv = input(\"Enter the input: \")\n",
    "print(f\" Given Input {inv}\")"
   ]
  },
  {
   "cell_type": "code",
   "execution_count": 63,
   "metadata": {},
   "outputs": [
    {
     "name": "stdout",
     "output_type": "stream",
     "text": [
      "hello\n"
     ]
    }
   ],
   "source": [
    "print(\"hello\")"
   ]
  },
  {
   "cell_type": "markdown",
   "metadata": {},
   "source": [
    "## Method\n",
    "1. Methods are bultin function\n",
    "\n",
    "    1.Example\n",
    "        1. append()\n",
    "        2. type()\n",
    "        3. int()\n",
    "        4. randint()\n",
    "        5. random()\n",
    "2. Using help method we can view the information of the methods and much more.\n",
    "   help(randint)"
   ]
  },
  {
   "cell_type": "code",
   "execution_count": 64,
   "metadata": {},
   "outputs": [
    {
     "name": "stdout",
     "output_type": "stream",
     "text": [
      "Help on method randint in module random:\n",
      "\n",
      "randint(a, b) method of random.Random instance\n",
      "    Return random integer in range [a, b], including both end points.\n",
      "\n",
      "Generates a random int value => 748\n"
     ]
    }
   ],
   "source": [
    "# Help method\n",
    "help(randint)\n",
    "from random import randint\n",
    "r = randint(1,1000)\n",
    "print(f\"Generates a random int value => {r}\")"
   ]
  },
  {
   "cell_type": "markdown",
   "metadata": {},
   "source": [
    "## Functions\n",
    "1. It is ablock of code which can be reused any number of time when it's called\n",
    "2. It starts with \"def\" and ends with():\n",
    "3. Syntax\n",
    "\n",
    "    def function_name():\n",
    "        //....operations....//\n",
    "        \n",
    "4. Parametrised function\n",
    "\n",
    "    4.1 It takes parameter with it \n",
    "    \n",
    "    4.2 More than one is also possible\n",
    "    \n",
    "      def function_name(param_1):\n",
    "        //....operations....// \n",
    "        \n",
    "      def function_name(param_1,....,param_n):\n",
    "        //....operations....// \n",
    "5. Return \n",
    "\n",
    "    1. It returns a value from the function\n",
    "    \n",
    "          def function_name():\n",
    "            //....a = 1+2 ....//\n",
    "            return a\n",
    "            \n",
    "6. Default parameter\n",
    "\n",
    "    1. It will print the default value if value is not passed when calling the function\n",
    "    \n",
    "        def function_name(param_1 = \"default value\"):\n",
    "            //....operations....// \n",
    "        \n",
    "7. DocString\n",
    "    1. Used to creat a note about a function \n",
    "    2. It should be written inside the function \n",
    "    3. Syntax\n",
    "            def function_name():\n",
    "            \n",
    "            //..''' Here one can write the note '''..operations....//\n",
    "        \n",
    "        \n",
    "    4. It can be viewed using help method\n",
    "        help(function_name)\n",
    "        "
   ]
  },
  {
   "cell_type": "code",
   "execution_count": 65,
   "metadata": {},
   "outputs": [
    {
     "name": "stdout",
     "output_type": "stream",
     "text": [
      "hello => Function without parameter\n",
      "*******************\n",
      "\n",
      "Function with parameter\n",
      "\n",
      "welcome Message => Hello world\n",
      "bye Message => bye have a good day\n",
      "\n",
      " \n",
      "*******************\n",
      "Function with return and without parameter returend value => 3\n",
      "\n",
      "*******************\n",
      "Value of a is => 2\n",
      "Value of b is => 4\n",
      " \n",
      "Function with return and with parameter => 16\n",
      "\n",
      "*******************\n",
      "Default parameter \n",
      "Name: sam\n",
      "Age: AGE\n",
      " \n",
      "*******************\n",
      "\n",
      "Doc retrived using help method ------->\n",
      "\n",
      "Help on function doc_function in module __main__:\n",
      "\n",
      "doc_function(n, a)\n",
      "    n is the Name which is a String\n",
      "    a is the Age which is an Intrger\n",
      "\n",
      "Name: Jim\n",
      "Age: 22\n",
      " \n",
      "DocString returend value => None\n"
     ]
    }
   ],
   "source": [
    "# Function without parameter\n",
    "def without_parameter():\n",
    "     print(\"hello => Function without parameter\")\n",
    "        \n",
    "# Function with parameter\n",
    "def with_parameter(welcome,bye):\n",
    "     print(f\"\\nFunction with parameter\\n\\nwelcome Message => {welcome}\\nbye Message => {bye}\\n \")\n",
    "        \n",
    "# Function with return and without parameter       \n",
    "def with_return_w_o_p():\n",
    "        a = 1+2 \n",
    "        return a\n",
    "# Function with return and with parameter\n",
    "def with_return_w_p(a,b):\n",
    "         print(f\"Value of a is => {a}\\nValue of b is => {b}\\n \")\n",
    "         return a**b  \n",
    "# Default parameter\n",
    "\n",
    "# DocString\n",
    "def default_parm(n=\"NAME\",a=\"AGE\"):\n",
    "\n",
    "        print(f\"Default parameter \\nName: {n}\\nAge: {a}\\n \")\n",
    "        return \"Success\" \n",
    "    \n",
    "    \n",
    "# DocString\n",
    "def doc_function(n,a):\n",
    "        ''' \n",
    "          n is the Name which is a String\n",
    "          a is the Age which is an Intrger\n",
    "        '''\n",
    "        print(f\"Name: {n}\\nAge: {a}\\n \")\n",
    " \n",
    "        \n",
    "without_parameter()\n",
    "print(\"*******************\")\n",
    "\n",
    "with_parameter(\"Hello world\",\"bye have a good day\\n\")\n",
    "print(\"*******************\")\n",
    "\n",
    "r_o_v = with_return_w_o_p()\n",
    "print(f\"Function with return and without parameter returend value => {r_o_v}\\n\")\n",
    "print(\"*******************\")\n",
    "\n",
    "r_v = with_return_w_p(2,4)\n",
    "print(f\"Function with return and with parameter => {r_v}\\n\")\n",
    "print(\"*******************\")\n",
    "\n",
    "val_d = default_parm(\"sam\")\n",
    "\n",
    "print(\"*******************\")\n",
    "print(f\"\\nDoc retrived using help method ------->\\n\")\n",
    "doc_f = help(doc_function)\n",
    "sus_message = doc_function(\"Jim\", 22)\n",
    "print(f\"DocString returend value => {sus_message}\")"
   ]
  },
  {
   "cell_type": "code",
   "execution_count": 66,
   "metadata": {},
   "outputs": [
    {
     "name": "stdout",
     "output_type": "stream",
     "text": [
      "find_char_1 => False\n",
      "\n",
      "find_char_2 => True\n",
      "\n"
     ]
    }
   ],
   "source": [
    "#Using logics\n",
    "def find_char_1(c_ch=\"a\",c_string =\"string\"):\n",
    "    if c_ch.lower() in c_string.lower(): # to avoid case error\n",
    "        return True\n",
    "    else: \n",
    "        return False\n",
    "rv_1 = find_char_1('z',\"Hello this is a random string to check is a character is present or not\")\n",
    "print(f\"find_char_1 => {rv_1}\\n\")\n",
    "# same process in different Procedure \n",
    "def find_char_2(c_ch=\"a\",c_string =\"string\"):\n",
    "        return c_ch.lower() in c_string.lower() # to avoid case error\n",
    "rv_2 = find_char_2('A',\"Hello this is a random string to check is a character is present or not\")\n",
    "print(f\"find_char_2 => {rv_2}\\n\")"
   ]
  },
  {
   "cell_type": "markdown",
   "metadata": {},
   "source": [
    "## ARGS and Kwargs\n",
    "1. *args => arguments\n",
    "\n",
    "      1.1. Takes in any number of values passed while calling the parameterised function \n",
    "      \n",
    "      1.2. Syntax\n",
    "            def function_name(*args):\n",
    "                 //....operations....//\n",
    "      1.3. in this args can be replaced with any variable but using args is good practice\n",
    "      \n",
    "      1.4. It takes value as tuple\n",
    "      \n",
    "      \n",
    "2. **Kargs => Keyword Arguments\n",
    "\n",
    "      1.1. Takes in any number of values with Key passed while calling the parameterised function \n",
    "      \n",
    "      1.2. Syntax\n",
    "            def function_name(*kwargs):\n",
    "                 //....operations....//\n",
    "                 \n",
    "      1.3. in this kargs can be replaced with any variable but using kargs is good practice\n",
    "      \n",
    "      1.4. It takes value as dictionary\n",
    "      \n",
    "      "
   ]
  },
  {
   "cell_type": "code",
   "execution_count": 67,
   "metadata": {},
   "outputs": [
    {
     "name": "stdout",
     "output_type": "stream",
     "text": [
      "Sum of given n number of input to one arg => 36\n"
     ]
    }
   ],
   "source": [
    "def sum_function(*args):\n",
    "         return sum(args)\n",
    "sum_val = sum_function(1,2,3,4,5,6,7,8)\n",
    "print(f\"Sum of given n number of input to one arg => {sum_val}\")"
   ]
  },
  {
   "cell_type": "code",
   "execution_count": 68,
   "metadata": {},
   "outputs": [
    {
     "name": "stdout",
     "output_type": "stream",
     "text": [
      "Key_no = > key_val => current_sum\n",
      "   1   = >    1    =>     1\n",
      "   2   = >    2    =>     3\n",
      "   3   = >    3    =>     6\n",
      "   4   = >    4    =>     10\n",
      "   5   = >    5    =>     15\n",
      "   6   = >    6    =>     21\n",
      "   7   = >    7    =>     28\n",
      "   8   = >    8    =>     36\n",
      "\n",
      "Keys => dict_keys(['key1', 'key2', 'key3', 'key4', 'key5', 'key6', 'key7', 'key8'])\n",
      "Gicve values => dict_values([1, 2, 3, 4, 5, 6, 7, 8])\n",
      "\n",
      "Sum of given n number of input to one arg => 36\n"
     ]
    }
   ],
   "source": [
    "def sum_function_key(**kwargs):\n",
    "        sum_v = 0\n",
    "        k_n = 1\n",
    "        print(f\"Key_no = > key_val => current_sum\")\n",
    "        for _ in (kwargs):\n",
    "            k_v = \"key\"+str(k_n)\n",
    "            if  k_v in kwargs:\n",
    "                sum_v = sum_v+kwargs[k_v]\n",
    "                print(f\"   {k_n}   = >    {kwargs[k_v]}    =>     {sum_v}\")\n",
    "                k_n = k_n+1\n",
    "      \n",
    "        print(f\"\\nKeys => {kwargs.keys()}\\nGicve values => {kwargs.values()}\\n\")\n",
    "        return sum_v\n",
    "sum_k_val = sum_function_key(key1 =1, key2=2,key3=3, key4=4,key5=5, key6=6,key7=7,key8=8)\n",
    "print(f\"Sum of given n number of input to one arg => {sum_k_val}\")"
   ]
  },
  {
   "cell_type": "code",
   "execution_count": 69,
   "metadata": {},
   "outputs": [
    {
     "name": "stdout",
     "output_type": "stream",
     "text": [
      "(1, 2, 3, 4)\n",
      "2\n",
      "4\n"
     ]
    },
    {
     "data": {
      "text/plain": [
       "[2, 4]"
      ]
     },
     "execution_count": 69,
     "metadata": {},
     "output_type": "execute_result"
    }
   ],
   "source": [
    "# Adding n number of values to list\n",
    "li = []\n",
    "def myfunc(*args):\n",
    "    print(args)\n",
    "    for i in args:\n",
    "        if (i%2) == 0:\n",
    "            print(i)\n",
    "            li.append(i)\n",
    "    return li\n",
    "myfunc(1,2,3,4)"
   ]
  },
  {
   "cell_type": "code",
   "execution_count": 70,
   "metadata": {},
   "outputs": [
    {
     "name": "stdout",
     "output_type": "stream",
     "text": [
      "('hai', 'bye', 'Hello', 'how', 'are', 'YOU')\n"
     ]
    },
    {
     "data": {
      "text/plain": [
       "('HaI', 'ByE', 'HeLlO', 'HoW', 'ArE', 'YoU')"
      ]
     },
     "execution_count": 70,
     "metadata": {},
     "output_type": "execute_result"
    }
   ],
   "source": [
    "# Alternating the case of given string \n",
    "def myfunc_1(*args):\n",
    "    print(args)\n",
    "    v_n = 0 \n",
    "    ret_val = []\n",
    "    for i in range(len(args)):\n",
    "        count = 1\n",
    "        str_1 = \"\"\n",
    "        for j in args[i]:\n",
    "            if (count%2) == 0:\n",
    "                str_1 = str_1 + j.lower() \n",
    "\n",
    "            else: \n",
    "                str_1 = str_1 + j.upper()\n",
    "\n",
    "            count = count + 1\n",
    "        ret_val.append(str_1)\n",
    "    return tuple(ret_val)\n",
    "myfunc_1(\"hai\",\"bye\",\"Hello\",\"how\",\"are\",\"YOU\")"
   ]
  },
  {
   "cell_type": "markdown",
   "metadata": {},
   "source": [
    "## MAP\n",
    "1. Used to iterate a function for the given number of inputs\n",
    "2. It will iterate upto the minimum index value in list\n",
    "3. Syntax\n",
    "\n",
    "    map(function,input_para_1(iteration),.......,input_para_n(iteration))"
   ]
  },
  {
   "cell_type": "code",
   "execution_count": 71,
   "metadata": {},
   "outputs": [
    {
     "name": "stdout",
     "output_type": "stream",
     "text": [
      "Default parameter \n",
      "Name: Jim\n",
      "Age: 22\n",
      " \n",
      "Default parameter \n",
      "Name: Tom\n",
      "Age: 32\n",
      " \n",
      "Default parameter \n",
      "Name: Sam\n",
      "Age: 56\n",
      " \n",
      "Default parameter \n",
      "Name: kim\n",
      "Age: 30\n",
      " \n"
     ]
    },
    {
     "data": {
      "text/plain": [
       "['Success', 'Success', 'Success', 'Success']"
      ]
     },
     "execution_count": 71,
     "metadata": {},
     "output_type": "execute_result"
    }
   ],
   "source": [
    "def name_map(n=\"NAME\",a=\"AGE\"):\n",
    "\n",
    "        print(f\"Default parameter \\nName: {n}\\nAge: {a}\\n \")\n",
    "        return \"Success\"\n",
    "    \n",
    "name_in =  [\"Jim\",\"Tom\",\"Sam\",\"kim\"]\n",
    "age_in = [22,32,56,30,26]\n",
    "list(map(name_map,name_in,age_in))"
   ]
  },
  {
   "cell_type": "markdown",
   "metadata": {},
   "source": [
    "## FILTER\n",
    "1. Similar to map function but it will return the value that has been inputed instead of boolean output.\n",
    "2. It takes only two arguments\n",
    "3. Syntax\n",
    "\n",
    "    filter(function,input_para_1(iteration),.......,input_para_n(iteration)"
   ]
  },
  {
   "cell_type": "code",
   "execution_count": 72,
   "metadata": {},
   "outputs": [
    {
     "name": "stdout",
     "output_type": "stream",
     "text": [
      "2\n",
      "4\n",
      "6\n",
      "\n",
      "***************\n",
      "\n",
      "False\n",
      "True\n",
      "False\n",
      "True\n",
      "False\n",
      "True\n"
     ]
    }
   ],
   "source": [
    "def check_eoo(num):\n",
    "    return num%2 == 0\n",
    "num = [1,2,3,4,5,6]\n",
    "for i in filter(check_eoo,num):\n",
    "    print(i)\n",
    "\n",
    "print(\"\\n***************\\n\")\n",
    "\n",
    "for i in map(check_eoo,num):\n",
    "    print(i)"
   ]
  },
  {
   "cell_type": "markdown",
   "metadata": {},
   "source": [
    "## LAMBDA\n",
    "1. Anonymous function\n",
    "2. It is used to convert the simple functions into lambda function to save memory\n",
    "3. syntax \n",
    "\n",
    "    1.lambda input values:operations (and returns the operation result)\n"
   ]
  },
  {
   "cell_type": "code",
   "execution_count": 73,
   "metadata": {},
   "outputs": [
    {
     "name": "stdout",
     "output_type": "stream",
     "text": [
      "\n",
      "******* basic use ********\n",
      "\n",
      "4\n",
      "\n",
      "******* using map 1 input ********\n",
      "\n",
      "[1, 4, 9, 16]\n",
      "\n",
      "******* using map 2 input ********\n",
      "\n",
      "[5, 12, 21, 32]\n",
      "\n",
      "******* Using tuple ********\n",
      "\n",
      "(2, 4, 6)\n",
      "\n",
      "***************\n",
      "\n"
     ]
    }
   ],
   "source": [
    "# basic use\n",
    "print(\"\\n******* basic use ********\\n\")\n",
    "sq = lambda num:num*num\n",
    "print(f\"{sq(2)}\")\n",
    "\n",
    "print(\"\\n******* using map 1 input ********\\n\")\n",
    "# using map 1 input\n",
    "ti_in = (1,2,3,4)\n",
    "l_m_v = list(map(lambda num:num*num,ti_in))\n",
    "print(f\"{l_m_v}\")\n",
    "\n",
    "print(\"\\n******* using map 2 input ********\\n\")\n",
    "# using map 2 input\n",
    "ti_in = (1,2,3,4)\n",
    "li_in = (5,6,7,8)\n",
    "l_m_v = list(map(lambda num1,num2:num1*num2,ti_in,li_in))\n",
    "print(f\"{l_m_v}\")\n",
    "\n",
    "print(\"\\n******* Using tuple ********\\n\")\n",
    "# using tuple\n",
    "num_f = [1,2,3,4,5,6]\n",
    "num_f_fil = tuple(filter(lambda num:num%2 == 0,num_f))\n",
    "print(f\"{num_f_fil}\")\n",
    "\n",
    "print(\"\\n***************\\n\")\n"
   ]
  },
  {
   "cell_type": "markdown",
   "metadata": {},
   "source": [
    "## ALL AND ANY\n",
    "1. All\n",
    "    \n",
    "    This function returns True if all the given inputs are true\n",
    "2. Any\n",
    "    \n",
    "    This function returns True if any of the given inputs are true"
   ]
  },
  {
   "cell_type": "code",
   "execution_count": 74,
   "metadata": {},
   "outputs": [
    {
     "name": "stdout",
     "output_type": "stream",
     "text": [
      "print if all boolean value is true => False\n",
      "print if any boolean value is true => True\n"
     ]
    }
   ],
   "source": [
    "Boolean_val = [True,True,True,False]\n",
    "all_v = all(Boolean_val)\n",
    "any_v = any(Boolean_val)\n",
    "print (f\"print if all boolean value is true => {all_v}\\nprint if any boolean value is true => {any_v}\")"
   ]
  },
  {
   "cell_type": "markdown",
   "metadata": {},
   "source": [
    "## VARIABLE PRIORITY'S\n",
    "### LEGB\n",
    "1. Local \n",
    "\n",
    "    Assigned inside the function or lambda\n",
    "    \n",
    "2. Enclosing function local\n",
    "\n",
    "    It is the variable declared in the nested functions\n",
    "    For example:\n",
    "        function 1():\n",
    "            var 1 | Enclosing function local\n",
    "            function 2():\n",
    "                var 2 | local function\n",
    "    \n",
    "3. Global\n",
    "\n",
    "    Varriables assigned in top level of the module file or with \"global\" keyword.\n",
    "    \n",
    "4. Built-in \n",
    "    \n",
    "    Variables which are built in like open range\n"
   ]
  },
  {
   "cell_type": "code",
   "execution_count": 75,
   "metadata": {},
   "outputs": [
    {
     "name": "stdout",
     "output_type": "stream",
     "text": [
      "\n",
      "Global variable\n",
      "\n",
      "\n",
      "Local variable 1 (Enclosing function local)\n",
      "\n",
      "\n",
      "Local variable 2\n",
      "\n"
     ]
    }
   ],
   "source": [
    "g_var = \"\\nGlobal variable\\n\"\n",
    "def function_1():\n",
    "    print(g_var) # Global Variable\n",
    "    e_var = \"\\nLocal variable 1 (Enclosing function local)\\n\"\n",
    "    def function_2():\n",
    "        print(e_var) # Enclosing function local\n",
    "        l_var = \"\\nLocal variable 2\\n\"\n",
    "        print(l_var) # Local Variable\n",
    "    function_2()\n",
    "function_1()    \n",
    "\n",
    "    "
   ]
  },
  {
   "cell_type": "markdown",
   "metadata": {},
   "source": [
    "## GLOBAL KEYWORD\n",
    "1. To define global variable inside a function (for local variable)\n",
    "2. Syntax \n",
    "\n",
    "    global global_variable\n",
    "    \n",
    "    # Example\n",
    "    \n",
    "    global_variable = \"some string\"\n",
    "    def  function_1():\n",
    "        global global_variable\n",
    "        global_variable = \"Some string is re assigned globaly\""
   ]
  },
  {
   "cell_type": "code",
   "execution_count": 76,
   "metadata": {},
   "outputs": [
    {
     "name": "stdout",
     "output_type": "stream",
     "text": [
      "\n",
      "Before calling the function:\n",
      "\tglobal_variable_str = > some string\n",
      "\tglobal_variable_int => 1\n",
      "\n",
      "\n",
      "Inside the function :\n",
      "\tglobal_variable_str = > Some string is reassigned globaly\n",
      "\tglobal_variable_int => 10.25\n",
      "\n",
      "\n",
      "After calling the function:\n",
      "\tglobal_variable_str = > Some string is reassigned globaly\n",
      "\tglobal_variable_int => 10.25\n",
      "\n"
     ]
    }
   ],
   "source": [
    "global_variable_str = \"some string\"\n",
    "global_variable_int = 1\n",
    "def  function_1():\n",
    "    global global_variable_str\n",
    "    global global_variable_int\n",
    "    global_variable_str = \"Some string is reassigned globaly\"\n",
    "    global_variable_int = 10.25\n",
    "    print(f\"\\nInside the function :\\n\\tglobal_variable_str = > {global_variable_str}\\n\\tglobal_variable_int => {global_variable_int}\\n\")\n",
    "print(f\"\\nBefore calling the function:\\n\\tglobal_variable_str = > {global_variable_str}\\n\\tglobal_variable_int => {global_variable_int}\\n\")        \n",
    "function_1()\n",
    "print(f\"\\nAfter calling the function:\\n\\tglobal_variable_str = > {global_variable_str}\\n\\tglobal_variable_int => {global_variable_int}\\n\")"
   ]
  },
  {
   "cell_type": "markdown",
   "metadata": {},
   "source": [
    "## OOPs\n",
    "\n",
    "1. Python allows us to develop applications using Object Oriented approach.\n",
    "2. It simulates the real world entity. So real world problems can be easily solved through oops.\n",
    "\n",
    "3. Object\n",
    "\n",
    "    - It is an real time entity that has state and behavior.\n",
    "    \n",
    "4. Class\n",
    "\n",
    "    - Class can be defined as a collection of objects.\n",
    "    - It is a logical entity that has some specific attributes and methods. \n",
    "    - class ClassName():  \n",
    "        other operation-1 \n",
    "        \n",
    "        ......\n",
    "        \n",
    "        other operation - n\n",
    "        \n",
    "5. Attributes\n",
    "    - Attributes are similar to constructor which has to be implemented when a class is declared and need to be used \n",
    "    - While calling attributes no need of parentheses ()\n",
    "    - Takes atleast 1 argument(default argument) \"self\"\n",
    "    - syntax\n",
    "    \n",
    "        def __ init __ (self,para,1...,paran):\n",
    "    - __ __init__ __ \n",
    "        - It is the Constructor of the class and it called automatically wheninstence of the class is created   \n",
    "        - It is the First method\n",
    "    - __self__ is the instance of the object itself, can be any name by self is preferred as it's easy for future reference.\n",
    "6. Class object attributes \n",
    "    - Defined inside the class\n",
    "    - It can be called during run time\n",
    "    - Not connected to self or instance\n",
    "7. Method\n",
    "    - Method is a function that is associated with an object.\n",
    "    - It is called method when it is inside the class.\n",
    "    - In Python, method is not unique to class instances. \n",
    "    - While calling methods parentheses () is needed\n",
    "    - Takes atleast 1 argument(default argument) \"self\"\n",
    "        - Self is used to refer outside arguments which is inside the class\n",
    "    - syntax\n",
    "    \n",
    "        def method (self,para,1...,paran):"
   ]
  },
  {
   "cell_type": "code",
   "execution_count": 77,
   "metadata": {},
   "outputs": [
    {
     "name": "stdout",
     "output_type": "stream",
     "text": [
      "Type of the samo_class => <class '__main__.ClassName'>\n"
     ]
    }
   ],
   "source": [
    "class ClassName():\n",
    "    pass\n",
    "samp_class = ClassName()\n",
    "print(f\"Type of the samo_class => {type(samp_class)}\")"
   ]
  },
  {
   "cell_type": "code",
   "execution_count": 78,
   "metadata": {},
   "outputs": [
    {
     "name": "stdout",
     "output_type": "stream",
     "text": [
      "Nothing other than self\n"
     ]
    }
   ],
   "source": [
    "class Pet():\n",
    "        def __init__(self):# taking the argument\n",
    "            print(\"Nothing other than self\")\n",
    "my_pet = Pet()\n",
    "\n"
   ]
  },
  {
   "cell_type": "code",
   "execution_count": 79,
   "metadata": {},
   "outputs": [
    {
     "name": "stdout",
     "output_type": "stream",
     "text": [
      "Type of the Pet => <class 'str'>\n",
      "Attributes of the my_pet => Dog\n",
      "Attributes of the my_pet => Lab\n",
      "\n",
      "Type of the Pet => <class 'tuple'>\n",
      "Attributes of the my_pet => ('Cat', 'Abyssinian')\n"
     ]
    }
   ],
   "source": [
    "class Pet():\n",
    "    def __init__(self,animal,breed):# taking the argument\n",
    "        self.pet_anmial = animal# Assigning to self attributes \n",
    "        self.pet_breed = breed# Assigning to self attributes \n",
    "\n",
    "\n",
    "my_pet = Pet(animal=\"Dog\",breed=\"Lab\") \n",
    "my_pet_animal = my_pet.pet_anmial\n",
    "my_pet_breed = my_pet.pet_breed\n",
    "print(f\"Type of the Pet => {type(my_pet_animal)}\\nAttributes of the my_pet => {my_pet_animal}\\nAttributes of the my_pet => {my_pet_breed}\")\n",
    "\n",
    "my_pet = Pet(\"Cat\",\"Abyssinian\")\n",
    "my_pet_list = my_pet.pet_anmial,my_pet.pet_breed\n",
    "print(f\"\\nType of the Pet => {type(my_pet_list)}\\nAttributes of the my_pet => {my_pet_list}\")"
   ]
  },
  {
   "cell_type": "code",
   "execution_count": 80,
   "metadata": {},
   "outputs": [
    {
     "name": "stdout",
     "output_type": "stream",
     "text": [
      "Type of the Pet => <class 'str'>\n",
      "Attributes of the my_pet => Dog\n",
      "Attributes of the my_pet => Lab\n",
      "Attributes of the my_pet => MAMMAL\n",
      "\n",
      "Type of the Pet => <class 'tuple'>\n",
      "Attributes of the my_pet => ('Cat', 'Abyssinian', 'MAMMAL')\n"
     ]
    }
   ],
   "source": [
    "class Pet():\n",
    "    Species = \"MAMMAL\" #Class object attributes \n",
    "    def __init__(self,animal,breed):# taking the argument\n",
    "        self.pet_anmial = animal# Assigning to self attributes \n",
    "        self.pet_breed = breed# Assigning to self attributes\n",
    "        \n",
    "\n",
    "my_pet = Pet(animal=\"Dog\",breed=\"Lab\") \n",
    "my_pet_animal = my_pet.pet_anmial\n",
    "my_pet_breed = my_pet.pet_breed\n",
    "my_pet_Species = my_pet.Species\n",
    "print(f\"Type of the Pet => {type(my_pet_animal)}\\nAttributes of the my_pet => {my_pet_animal}\\nAttributes of the my_pet => {my_pet_breed}\\nAttributes of the my_pet => {my_pet_Species}\")\n",
    "\n",
    "my_pet = Pet(\"Cat\",\"Abyssinian\")\n",
    "my_pet_list = my_pet.pet_anmial,my_pet.pet_breed,my_pet.Species\n",
    "print(f\"\\nType of the Pet => {type(my_pet_list)}\\nAttributes of the my_pet => {my_pet_list}\")"
   ]
  },
  {
   "cell_type": "code",
   "execution_count": 81,
   "metadata": {},
   "outputs": [
    {
     "name": "stdout",
     "output_type": "stream",
     "text": [
      "MAMMAL\n"
     ]
    }
   ],
   "source": [
    "class Pet():\n",
    "        species = \"MAMMAL\" # Class object attributes \n",
    "        def __init__(self):# taking the argument\n",
    "            print(self.species)# calling Class object attributes inside attribute to print\n",
    "my_pet = Pet()\n",
    "\n",
    "\n"
   ]
  },
  {
   "cell_type": "code",
   "execution_count": 82,
   "metadata": {},
   "outputs": [
    {
     "name": "stdout",
     "output_type": "stream",
     "text": [
      "Type of the Pet => <class 'str'>\n",
      "Attributes of the my_pet => Dog\n",
      "Attributes of the my_pet => Lab\n",
      "Attributes of the my_pet => MAMMAL\n",
      "Dog: Mammal name woooooooof\n",
      "\n",
      "Type of the Pet => <class 'tuple'>\n",
      "Attributes of the my_pet => ('Cat', 'Abyssinian', 'MAMMAL')\n",
      "Cat: Tom Meeeeeeeow\n"
     ]
    }
   ],
   "source": [
    "class Pet():\n",
    "    Species = \"MAMMAL\" #Class object attributes \n",
    "    my_name = \"Mammal name\" \n",
    "    def __init__(self,animal,breed):# taking the argument\n",
    "        self.pet_anmial = animal# Assigning to self attributes \n",
    "        self.pet_breed = breed# Assigning to self attributes\n",
    "    def sound_dog(self,name = my_name): # Method \"Action/operations\" && self is used to refer outside arguments of the class\n",
    "        print(f\"{self.pet_anmial}: {name} woooooooof\")\n",
    "    def sound_cat(self,name = my_name): # Method \"Action/operations\"\n",
    "        print(f\"{self.pet_anmial}: {name} Meeeeeeeow\")\n",
    "        \n",
    "#DOG\n",
    "my_pet = Pet(animal=\"Dog\",breed=\"Lab\") \n",
    "my_pet_animal = my_pet.pet_anmial\n",
    "my_pet_breed = my_pet.pet_breed\n",
    "my_pet_Species = my_pet.Species\n",
    "print(f\"Type of the Pet => {type(my_pet_animal)}\\nAttributes of the my_pet => {my_pet_animal}\\nAttributes of the my_pet => {my_pet_breed}\\nAttributes of the my_pet => {my_pet_Species}\")\n",
    "my_pet.sound_dog()\n",
    "\n",
    "#CAT\n",
    "my_pet = Pet(\"Cat\",\"Abyssinian\")\n",
    "my_pet_list = my_pet.pet_anmial,my_pet.pet_breed,my_pet.Species\n",
    "print(f\"\\nType of the Pet => {type(my_pet_list)}\\nAttributes of the my_pet => {my_pet_list}\")\n",
    "my_pet.sound_cat(\"Tom\")"
   ]
  },
  {
   "cell_type": "code",
   "execution_count": 83,
   "metadata": {},
   "outputs": [
    {
     "name": "stdout",
     "output_type": "stream",
     "text": [
      "28.285714285714285\n",
      "9\n"
     ]
    },
    {
     "data": {
      "text/plain": [
       "4701.714285714285"
      ]
     },
     "execution_count": 83,
     "metadata": {},
     "output_type": "execute_result"
    }
   ],
   "source": [
    "class Circle():\n",
    "    pi = 22/7\n",
    "    \n",
    "    def __init__(self,radius=1): # Default value for radius\n",
    "        self.radius = radius\n",
    "        self.circumference = self.pi*r*2\n",
    "        # similar to self.radius\n",
    "    def area(self,pi = pi):\n",
    "        r = self.radius\n",
    "        print(pi*(r**2))\n",
    "        return pi*(r**2)\n",
    "    def diameter(self):\n",
    "        r = self.radius\n",
    "        print(r*r)\n",
    "        return r*r\n",
    "cir = Circle(3)\n",
    "cir.area()\n",
    "cir.diameter()\n",
    "cir.circumference"
   ]
  },
  {
   "cell_type": "markdown",
   "metadata": {},
   "source": [
    "## OOPs - INHERITANCE\n",
    "1. It inherit the one class into another class.\n",
    "2. Technically it inherit parent class into child class.\n",
    "3. It has all the functionality of parent class and it can be overwritten.\n",
    "4. Extra methods can be also added to child class\n",
    "5. Syntax\n",
    "\n",
    "    class Parent_class():\n",
    "        ...\n",
    "    class Child_class(Parent_class) "
   ]
  },
  {
   "cell_type": "code",
   "execution_count": 84,
   "metadata": {},
   "outputs": [
    {
     "name": "stdout",
     "output_type": "stream",
     "text": [
      "Dog class has been created (Child class)\n",
      "Animal class has been created (Parent class)\n",
      "Animal class has been inherited into Dog class (Parent class Inherited into Child class)\n",
      "I can eat\n",
      "I can run\n",
      "I am a Dog (i_am() method of the Animal class has been overwritten)\n"
     ]
    }
   ],
   "source": [
    "# Parent Class\n",
    "class Animal(): \n",
    "    \n",
    "    def __init__(self):\n",
    "        print (\"Animal class has been created (Parent class)\")\n",
    "    \n",
    "    def eat(self):\n",
    "        print(\"I can eat\")\n",
    "        \n",
    "    def run(self):\n",
    "        print(\"I can run\")\n",
    "        \n",
    "    def i_am(self):\n",
    "        print(\"I am an animal\")\n",
    "        \n",
    "# Child Class\n",
    "class Dog(Animal): \n",
    "    \n",
    "    def __init__(self):\n",
    "        print (\"Dog class has been created (Child class)\")\n",
    "        Animal.__init__(self)\n",
    "        print (\"Animal class has been inherited into Dog class (Parent class Inherited into Child class)\")\n",
    "    def i_am(self):\n",
    "        print(\"I am a Dog (i_am() method of the Animal class has been overwritten)\")\n",
    "        \n",
    "dog = Dog()\n",
    "dog.eat()\n",
    "dog.run()\n",
    "dog.i_am()"
   ]
  },
  {
   "cell_type": "markdown",
   "metadata": {},
   "source": [
    "## OOPs - POLYMOROHISM\n",
    "1. Using same method name in different class. \n",
    "2. Methods are called using classes."
   ]
  },
  {
   "cell_type": "code",
   "execution_count": 85,
   "metadata": {},
   "outputs": [
    {
     "name": "stdout",
     "output_type": "stream",
     "text": [
      "I am a dog\n",
      "I am a cat\n",
      "\n",
      "I am scooby\n",
      "\tI bark\n",
      "\n",
      "I am tom\n",
      "\tI purrf\n"
     ]
    }
   ],
   "source": [
    "class Dog(): \n",
    "    \n",
    "    def __init__(self,name):\n",
    "        self.name = name\n",
    "        print (\"I am a dog\")\n",
    "    def sound(self):\n",
    "        print(\"\\tI bark\")\n",
    "class Cat(): \n",
    "    \n",
    "    def __init__(self,name):\n",
    "        self.name = name\n",
    "        print (\"I am a cat\")\n",
    "    def sound(self):\n",
    "        print(\"\\tI purrf\")\n",
    "        \n",
    "scooby = Dog(\"scooby\")\n",
    "tom = Cat(\"tom\")\n",
    "pets =[scooby,tom]\n",
    "for pet in pets:\n",
    "    print(f\"\\nI am {pet.name}\")\n",
    "    pet.sound()"
   ]
  },
  {
   "cell_type": "markdown",
   "metadata": {},
   "source": [
    "## Abstract class\n",
    "1. Abstract class has abstract methods.\n",
    "2. Defying a method in base class, which can be used in future when a class is inherited.\n"
   ]
  },
  {
   "cell_type": "code",
   "execution_count": 86,
   "metadata": {},
   "outputs": [
    {
     "name": "stdout",
     "output_type": "stream",
     "text": [
      "Dog class has been created (Child class)\n",
      "Animal class has been created (Parent class)\n",
      "Animal class has been inherited into Dog class (Parent class Inherited into Child class)\n",
      "I can run\n",
      "I can eat (eat() method of the Animal class has been Implemented)\n"
     ]
    }
   ],
   "source": [
    "# Parent Class\n",
    "class Animal(): \n",
    "    \n",
    "    def __init__(self):\n",
    "        print (\"Animal class has been created (Parent class)\")\n",
    "    \n",
    "    def eat(self):\n",
    "        raise NotImplementedError(\"Not Implemented \")\n",
    "    def run(self):\n",
    "        print(\"I can run\")\n",
    "        \n",
    "# Child Class\n",
    "class Dog(Animal): \n",
    "    \n",
    "    def __init__(self):\n",
    "        print (\"Dog class has been created (Child class)\")\n",
    "        Animal.__init__(self)\n",
    "        print (\"Animal class has been inherited into Dog class (Parent class Inherited into Child class)\")\n",
    "    def eat(self):\n",
    "        print(\"I can eat (eat() method of the Animal class has been Implemented)\")\n",
    "        \n",
    "dog = Dog()\n",
    "dog.run()\n",
    "dog.eat()"
   ]
  },
  {
   "cell_type": "markdown",
   "metadata": {},
   "source": [
    "## SPECIAL METHODS\n",
    "1. Special methods are also caled as Magic or Dunder\n",
    "2. Syntax\n",
    "    - For str\n",
    "    \n",
    "        def __ str __(self):\n",
    "            operations"
   ]
  },
  {
   "cell_type": "code",
   "execution_count": 87,
   "metadata": {},
   "outputs": [
    {
     "name": "stdout",
     "output_type": "stream",
     "text": [
      "Dog class has been created\n",
      "I can eat\n",
      "When len method used: 3\n",
      "When str method used: Dog  \n",
      "Dog class has been deleted successfully\n"
     ]
    }
   ],
   "source": [
    "class Dog(): \n",
    "    \n",
    "    def __init__(self):\n",
    "        print (\"Dog class has been created\")\n",
    "\n",
    "    def eat(self):\n",
    "        print(\"I can eat\")\n",
    "    def __str__(self):\n",
    "        return \"Dog\"\n",
    "    def __len__(self):\n",
    "        return len(\"Dog\")\n",
    "    def __del__(self):\n",
    "        print(\"Dog class has been deleted successfully\")\n",
    "        \n",
    "dog = Dog()\n",
    "dog.eat()\n",
    "ln = len(dog)\n",
    "st = str(dog)\n",
    "print(f\"When len method used: {ln}\\nWhen str method used: {st}  \")\n",
    "del dog"
   ]
  },
  {
   "cell_type": "markdown",
   "metadata": {},
   "source": [
    "### Updating Self value"
   ]
  },
  {
   "cell_type": "code",
   "execution_count": 88,
   "metadata": {},
   "outputs": [
    {
     "name": "stdout",
     "output_type": "stream",
     "text": [
      "Word_count class has been created\n",
      "Initial count value has been set to 0\n",
      "value of Count can be updated if neede\n",
      "\n",
      "The total number of words: 8\n",
      "\n"
     ]
    }
   ],
   "source": [
    "class Word_count(): \n",
    "    \n",
    "    def __init__(self,count = 0):\n",
    "        print (\"Word_count class has been created\\nInitial count value has been set to 0\\nvalue of Count can be updated if neede\")\n",
    "        self.count = count\n",
    "    def wordcount(self,wc):\n",
    "        for w in (wc.split()):\n",
    "            self.count = self.count + 1\n",
    "        print(f\"\\nThe total number of words: {self.count}\\n\")\n",
    "            \n",
    "wc = Word_count()\n",
    "wc.wordcount(\"Hello world this is a word count programme\")\n",
    "\n"
   ]
  },
  {
   "cell_type": "code",
   "execution_count": 89,
   "metadata": {},
   "outputs": [
    {
     "name": "stdout",
     "output_type": "stream",
     "text": [
      "Overwriting textfile.txt\n"
     ]
    }
   ],
   "source": [
    "%%writefile textfile.txt\n",
    "Hello these are the text which will be inside the textfile.txt \n",
    "we can give any kind Of text inside\n",
    "Line 1\n",
    "Line 2"
   ]
  },
  {
   "cell_type": "markdown",
   "metadata": {},
   "source": [
    "## Modules and packages\n",
    "1. Modules are the collection of pre-written python file which can have function or class which can be used in future by importing.\n",
    "2. Packages are the collection of those modules(python file or its sub folders).\n",
    "3. If we are placing the python file inside a folder __init__.py file should be placed in same folder which helps the python to identify it as packages.\n"
   ]
  },
  {
   "cell_type": "code",
   "execution_count": 90,
   "metadata": {},
   "outputs": [
    {
     "name": "stdout",
     "output_type": "stream",
     "text": [
      "Overwriting hello_module.py\n"
     ]
    }
   ],
   "source": [
    "%%writefile hello_module.py \n",
    "# creating .py file\n",
    "def print_me():\n",
    "    print(\"Hello, I am  hello_module.py\")\n",
    "    "
   ]
  },
  {
   "cell_type": "code",
   "execution_count": 91,
   "metadata": {},
   "outputs": [
    {
     "name": "stdout",
     "output_type": "stream",
     "text": [
      "\u001b[34mComplete-Python-3-Bootcamp-master\u001b[m\u001b[m/     Python_A_-_Z_5_25_1.ipynb\r\n",
      "Complete-Python-3-Bootcamp-master.zip  Python_A_-_Z_5_25_2.ipynb\r\n",
      "Python_A_-_Z_1_16.ipynb                Python_A_-_Z_6_27_1.ipynb\r\n",
      "Python_A_-_Z_2_19_1.ipynb              Python_A_-_Z_7_28_1.ipynb\r\n",
      "Python_A_-_Z_2_19_2.ipynb              Untitled-Copy1.ipynb\r\n",
      "Python_A_-_Z_3_20_1.ipynb              Untitled.ipynb\r\n",
      "Python_A_-_Z_3_20_2.ipynb              Untitled1.ipynb\r\n",
      "Python_A_-_Z_4_21_1.ipynb              \u001b[34m__pycache__\u001b[m\u001b[m/\r\n",
      "Python_A_-_Z_4_21_2.ipynb              \u001b[34mhello_main_pack\u001b[m\u001b[m/\r\n",
      "Python_A_-_Z_4_21_2_back.ipynb         hello_module.py\r\n",
      "Python_A_-_Z_4_22_1.ipynb              textfile.txt\r\n",
      "Python_A_-_Z_4_23_1.ipynb\r\n"
     ]
    }
   ],
   "source": [
    "ls"
   ]
  },
  {
   "cell_type": "code",
   "execution_count": 92,
   "metadata": {},
   "outputs": [
    {
     "name": "stdout",
     "output_type": "stream",
     "text": [
      "Hello, I am  hello_module.py\n"
     ]
    }
   ],
   "source": [
    "# importing and printing from user Defined modules\n",
    "from hello_module import print_me\n",
    "print_me()"
   ]
  },
  {
   "cell_type": "markdown",
   "metadata": {},
   "source": [
    "#### - Creating and using a folder called hello _ main _ pack and hello _ main _ pack/hello _ sub _ pack\n",
    "#### - Creating __ init __.py file in hello _ main _ pack and hello _ main _ pack/hello _ sub _ pack"
   ]
  },
  {
   "cell_type": "code",
   "execution_count": 93,
   "metadata": {},
   "outputs": [
    {
     "name": "stdout",
     "output_type": "stream",
     "text": [
      "Overwriting hello_main_pack/__init__.py\n"
     ]
    }
   ],
   "source": [
    "%%writefile hello_main_pack/__init__.py \n",
    " "
   ]
  },
  {
   "cell_type": "code",
   "execution_count": 94,
   "metadata": {},
   "outputs": [
    {
     "name": "stdout",
     "output_type": "stream",
     "text": [
      "Overwriting hello_main_pack/hello_sub_pack/__init__.py\n"
     ]
    }
   ],
   "source": [
    "%%writefile hello_main_pack/hello_sub_pack/__init__.py \n",
    " "
   ]
  },
  {
   "cell_type": "code",
   "execution_count": 95,
   "metadata": {},
   "outputs": [
    {
     "name": "stdout",
     "output_type": "stream",
     "text": [
      "Overwriting hello_main_pack/hello_main_module.py\n"
     ]
    }
   ],
   "source": [
    "%%writefile hello_main_pack/hello_main_module.py \n",
    "# creating .py file\n",
    "def print_me_main():\n",
    "    print(\"Hello, I am  hello_main_module.py\")"
   ]
  },
  {
   "cell_type": "code",
   "execution_count": 96,
   "metadata": {},
   "outputs": [
    {
     "name": "stdout",
     "output_type": "stream",
     "text": [
      "Overwriting hello_main_pack/hello_sub_pack/hello_sub_module.py\n"
     ]
    }
   ],
   "source": [
    "%%writefile hello_main_pack/hello_sub_pack/hello_sub_module.py \n",
    "# creating .py file\n",
    "def print_me_sub():\n",
    "    print(\"Hello, I am  hello_sub_module.py\")"
   ]
  },
  {
   "cell_type": "code",
   "execution_count": 97,
   "metadata": {},
   "outputs": [
    {
     "name": "stdout",
     "output_type": "stream",
     "text": [
      "Hello, I am  hello_main_module.py\n",
      "Hello, I am  hello_sub_module.py\n"
     ]
    }
   ],
   "source": [
    "from hello_main_pack import hello_main_module\n",
    "from hello_main_pack.hello_sub_pack import hello_sub_module\n",
    "\n",
    "hello_main_module.print_me_main()\n",
    "sub_mod = hello_sub_module\n",
    "sub_mod.print_me_sub()"
   ]
  },
  {
   "cell_type": "markdown",
   "metadata": {},
   "source": [
    "## ERROR AND EXCEPTION HANDLING\n",
    "1. Using this we can handel runtime error.\n",
    "2. We can catch the exception or error with __except__ and do some operation with it.\n",
    "3. We can avoid the total break down of the program using __finnaly__ method.\n",
    "4. Else can be used when you need to some operation if there is no error\n",
    "4. Syntax\n",
    "\n",
    "    try:\n",
    "        //...operations...//\n",
    "    except: \n",
    "        //...operations...//\n",
    "        .\n",
    "        .\n",
    "        .\n",
    "    except:\n",
    "        //...operations...//\n",
    "        .\n",
    "        .\n",
    "        .\n",
    "    else:\n",
    "        //...operations...//  \n",
    "    finally:\n",
    "        //...operations...//"
   ]
  },
  {
   "cell_type": "code",
   "execution_count": 124,
   "metadata": {},
   "outputs": [
    {
     "name": "stdout",
     "output_type": "stream",
     "text": [
      "Enter a number the dividend0\n",
      "\n",
      "\t0\n",
      "Enter a number the divisor\n",
      "\n",
      "\t8\n",
      "***************************************************\n",
      "\n",
      "Divided value => 0/8 = 0.0\n",
      "\n",
      "***************************************************\n",
      "You successfully completed a Division\n",
      "\n",
      "Thank you for trying\n",
      "\n"
     ]
    }
   ],
   "source": [
    "while(True):\n",
    "    num_dd = input(\"Enter a number the dividend0\\n\\n\\t\")\n",
    "    num_dr = input(\"Enter a number the divisor\\n\\n\\t\")\n",
    "    try:\n",
    "        add_v = int(num_dd) / int(num_dr) \n",
    "        print(\"***************************************************\")\n",
    "        print(f\"\\nDivided value => {num_dd}/{num_dr} = {add_v}\\n\")\n",
    "        print(\"***************************************************\")\n",
    "    except TypeError:\n",
    "        print(\"\\nFound a TypeError\\n\")\n",
    "    except ValueError:\n",
    "        print(\"\\nFound ValueError Give an NUMBER as an input \\n\")\n",
    "    except ZeroDivisionError:\n",
    "        print(\"***************************************************\")\n",
    "        print(\"\\nAnything divided by zero is undefined \\n\")\n",
    "        print(\"***************************************************\")\n",
    "        break\n",
    "    except:\n",
    "        print(\"\\nFound one exception\\n\")\n",
    "        break\n",
    "    else:\n",
    "        print(\"You successfully completed a Division\")\n",
    "        break\n",
    "    finally:\n",
    "        print(\"\\nThank you for trying\\n\")"
   ]
  },
  {
   "cell_type": "markdown",
   "metadata": {},
   "source": [
    "## RETURNING A FUNCTION\n",
    "\n",
    "function1():\n",
    "\n",
    "    function2():\n",
    "    \n",
    "    //....operations....//\n",
    "    \n",
    "    return function2"
   ]
  },
  {
   "cell_type": "code",
   "execution_count": 117,
   "metadata": {},
   "outputs": [
    {
     "name": "stdout",
     "output_type": "stream",
     "text": [
      "Hello this is a Greeting message \n"
     ]
    }
   ],
   "source": [
    "def hello():\n",
    "    print(\"Hello this is a Greeting message \")\n",
    "    def bye():\n",
    "        print(\"This is a message for send off\")\n",
    "    return bye # returning a function\n",
    "bye_r = hello()\n"
   ]
  },
  {
   "cell_type": "code",
   "execution_count": 118,
   "metadata": {},
   "outputs": [
    {
     "name": "stdout",
     "output_type": "stream",
     "text": [
      "This is a message for send off\n"
     ]
    }
   ],
   "source": [
    "bye_r() # returned function"
   ]
  },
  {
   "cell_type": "markdown",
   "metadata": {},
   "source": [
    "## PASSING A FUNCTION\n",
    "function1():\n",
    "    \n",
    "    //....operations....//\n",
    "    \n",
    "function2(function1_in):\n",
    "    \n",
    "    function1_in()\n",
    "    \n",
    "    //....operations....//\n",
    "    \n",
    "function2(function1)"
   ]
  },
  {
   "cell_type": "code",
   "execution_count": 119,
   "metadata": {},
   "outputs": [],
   "source": [
    "# Function 1\n",
    "def input_int():\n",
    "    while(True):   \n",
    "        try:\n",
    "            inp_i = int(input())\n",
    "            return inp_i\n",
    "            break\n",
    "        except ValueError:\n",
    "            print(f\"\\n please give an Number\\n\")"
   ]
  },
  {
   "cell_type": "code",
   "execution_count": 120,
   "metadata": {},
   "outputs": [],
   "source": [
    "# Function 2\n",
    "def address(num_int): # reciving the function\n",
    "    print(\"Please Enter your Address\")\n",
    "    address = input() \n",
    "    print(\"Please Enter your Phone number\")\n",
    "    phone_num = num_int() # calling the function\n",
    "    \n",
    "    print(f\"\\nYour Address :\\n\\t{address}\\nYour Phone Number: \\n\\t{phone_num}\")\n",
    "    \n"
   ]
  },
  {
   "cell_type": "code",
   "execution_count": 121,
   "metadata": {},
   "outputs": [
    {
     "name": "stdout",
     "output_type": "stream",
     "text": [
      "Please Enter your Address\n",
      "458, gbhxb, hbhbsf,b 83764, zx\n",
      "Please Enter your Phone number\n",
      "286367385\n",
      "\n",
      "Your Address :\n",
      "\t458, gbhxb, hbhbsf,b 83764, zx\n",
      "Your Phone Number: \n",
      "\t286367385\n"
     ]
    }
   ],
   "source": [
    "address(input_int) # passing the function"
   ]
  },
  {
   "cell_type": "markdown",
   "metadata": {},
   "source": [
    "## DECORATORS\n",
    "1. used to wrap the functions\n",
    "2. Using the @ symbol and the function name needed to be added and this should be mentioned above the function that has to be added with.\n",
    "3. Commenting or removing the @ line will unwrap the function\n",
    "4. syntax\n",
    "\n",
    "        function1(function2_in):\n",
    "            wrap_fun():\n",
    "                function2_in():\n",
    "                     //....operations....//\n",
    "            //....operations....//\n",
    "            \n",
    "            return wrap_fun\n",
    "        \n",
    "        @function1\n",
    "        function2():\n",
    "\n",
    "\n",
    "            //....operations....//\n",
    "\n",
    "        function2()\n",
    "\n"
   ]
  },
  {
   "cell_type": "code",
   "execution_count": 126,
   "metadata": {},
   "outputs": [],
   "source": [
    "def hello_fun(in_func):\n",
    "    def wrap_func():\n",
    "        in_func()\n",
    "        print(\"hello world => bye_fun() is executed, to combine both properties/nIf not executed it will have only hello_fun() Properties\")\n",
    "        print(\"The wrap_func should be returend to give the combiend properties of two functions\")\n",
    "    return wrap_func\n"
   ]
  },
  {
   "cell_type": "code",
   "execution_count": 127,
   "metadata": {},
   "outputs": [],
   "source": [
    "@hello_fun\n",
    "def bye_fun():\n",
    "    print(\"Good Bye\")"
   ]
  },
  {
   "cell_type": "code",
   "execution_count": 124,
   "metadata": {},
   "outputs": [
    {
     "name": "stdout",
     "output_type": "stream",
     "text": [
      "Good Bye\n",
      "hello world => bye_fun() is executed, to combine both properties/nIf not executed it will have only hello_fun() Properties\n",
      "The wrap_func should be returend to give the combiend properties of two functions\n"
     ]
    }
   ],
   "source": [
    "bye_fun()"
   ]
  },
  {
   "cell_type": "code",
   "execution_count": 125,
   "metadata": {},
   "outputs": [
    {
     "name": "stdout",
     "output_type": "stream",
     "text": [
      "Good Bye\n"
     ]
    }
   ],
   "source": [
    "#@hello_fun\n",
    "def bye_fun():\n",
    "    print(\"Good Bye\")\n",
    "bye_fun()"
   ]
  },
  {
   "cell_type": "markdown",
   "metadata": {},
   "source": [
    "## GENERATOR FUNCTIONS\n",
    "1. It will generate a sequence value.\n",
    "2. It computes one value and Wait for another value to be called to compute. \n",
    "3. Using generator function we can reduce the Memory consumption.\n",
    "4. Keywords\n",
    "    - yield\n",
    "    - next()\n",
    "    - iter()\n"
   ]
  },
  {
   "cell_type": "markdown",
   "metadata": {},
   "source": [
    "## YIELD\n",
    "1. It Collect the sequence of value like adding value to list.\n",
    "2. It is more efficient in terms of memory compared to list.\n",
    "3. Yield are used in Python generators\n",
    "4. It is similar to return\n",
    "5. Syntax\n",
    "\n",
    "    yield value"
   ]
  },
  {
   "cell_type": "code",
   "execution_count": 155,
   "metadata": {},
   "outputs": [],
   "source": [
    "def y_t(in_v):\n",
    "    for i in range(1,in_v):\n",
    "        yield i**10 # using yield to collect value"
   ]
  },
  {
   "cell_type": "code",
   "execution_count": 156,
   "metadata": {},
   "outputs": [
    {
     "name": "stdout",
     "output_type": "stream",
     "text": [
      "[1, 1024, 59049, 1048576, 9765625, 60466176, 282475249, 1073741824, 3486784401]\n"
     ]
    }
   ],
   "source": [
    "print(list(y_t(10))) # Casting to list and Printing the value"
   ]
  },
  {
   "cell_type": "markdown",
   "metadata": {},
   "source": [
    "## NEXT \n",
    "1. It gives the value by remembering the privious value it given.\n",
    "2. It will give StopIteration error if there is no value."
   ]
  },
  {
   "cell_type": "code",
   "execution_count": 227,
   "metadata": {},
   "outputs": [],
   "source": [
    "lis_val = y_t(10)"
   ]
  },
  {
   "cell_type": "code",
   "execution_count": 228,
   "metadata": {},
   "outputs": [
    {
     "name": "stdout",
     "output_type": "stream",
     "text": [
      "1\n",
      "1024\n",
      "59049\n",
      "1048576\n",
      "9765625\n",
      "60466176\n",
      "282475249\n",
      "1073741824\n",
      "3486784401\n"
     ]
    },
    {
     "ename": "StopIteration",
     "evalue": "",
     "output_type": "error",
     "traceback": [
      "\u001b[0;31m---------------------------------------------------------------------------\u001b[0m",
      "\u001b[0;31mStopIteration\u001b[0m                             Traceback (most recent call last)",
      "\u001b[0;32m<ipython-input-228-c860c83fe7d3>\u001b[0m in \u001b[0;36m<module>\u001b[0;34m()\u001b[0m\n\u001b[1;32m      1\u001b[0m \u001b[0;32mwhile\u001b[0m\u001b[0;34m(\u001b[0m\u001b[0;32mTrue\u001b[0m\u001b[0;34m)\u001b[0m\u001b[0;34m:\u001b[0m\u001b[0;34m\u001b[0m\u001b[0m\n\u001b[0;32m----> 2\u001b[0;31m     \u001b[0mn_v\u001b[0m \u001b[0;34m=\u001b[0m \u001b[0mnext\u001b[0m\u001b[0;34m(\u001b[0m\u001b[0mlis_val\u001b[0m\u001b[0;34m)\u001b[0m\u001b[0;34m\u001b[0m\u001b[0m\n\u001b[0m\u001b[1;32m      3\u001b[0m     \u001b[0mprint\u001b[0m\u001b[0;34m(\u001b[0m\u001b[0mn_v\u001b[0m\u001b[0;34m)\u001b[0m\u001b[0;34m\u001b[0m\u001b[0m\n",
      "\u001b[0;31mStopIteration\u001b[0m: "
     ]
    }
   ],
   "source": [
    "while(True):\n",
    "    n_v = next(lis_val)\n",
    "    print(n_v)"
   ]
  },
  {
   "cell_type": "markdown",
   "metadata": {},
   "source": [
    "## ITER \n",
    "1. This function convert the variable to generator type\n",
    "2. syntax\n",
    "    \n",
    "    iter(value)"
   ]
  },
  {
   "cell_type": "code",
   "execution_count": 229,
   "metadata": {},
   "outputs": [
    {
     "ename": "TypeError",
     "evalue": "'list' object is not an iterator",
     "output_type": "error",
     "traceback": [
      "\u001b[0;31m---------------------------------------------------------------------------\u001b[0m",
      "\u001b[0;31mTypeError\u001b[0m                                 Traceback (most recent call last)",
      "\u001b[0;32m<ipython-input-229-c455fd3b8e10>\u001b[0m in \u001b[0;36m<module>\u001b[0;34m()\u001b[0m\n\u001b[0;32m----> 1\u001b[0;31m \u001b[0mnext\u001b[0m\u001b[0;34m(\u001b[0m\u001b[0mlist\u001b[0m\u001b[0;34m(\u001b[0m\u001b[0my_t\u001b[0m\u001b[0;34m(\u001b[0m\u001b[0;36m10\u001b[0m\u001b[0;34m)\u001b[0m\u001b[0;34m)\u001b[0m\u001b[0;34m)\u001b[0m\u001b[0;34m\u001b[0m\u001b[0m\n\u001b[0m",
      "\u001b[0;31mTypeError\u001b[0m: 'list' object is not an iterator"
     ]
    }
   ],
   "source": [
    "next(list(y_t(10)))"
   ]
  },
  {
   "cell_type": "code",
   "execution_count": 230,
   "metadata": {},
   "outputs": [
    {
     "data": {
      "text/plain": [
       "1"
      ]
     },
     "execution_count": 230,
     "metadata": {},
     "output_type": "execute_result"
    }
   ],
   "source": [
    "next(iter(list(y_t(10))))"
   ]
  },
  {
   "cell_type": "markdown",
   "metadata": {},
   "source": [
    "## COLLECTIONS MODULE\n",
    "1. IT has many datatype which is very Useful for programing\n",
    "2. Datatypes\n",
    "    - Counter\n",
    "        - Counts the number of occurrence and return the result.\n",
    "    - defaultdict\n",
    "        - Avoids key error by adding by itself in a given range\n",
    "    - orderdict\n",
    "        - It will remember the order of the key and value.\n",
    "    - namedtuple\n",
    "        - It is used to call the tuple with name instead of using index."
   ]
  },
  {
   "cell_type": "code",
   "execution_count": 90,
   "metadata": {},
   "outputs": [
    {
     "name": "stdout",
     "output_type": "stream",
     "text": [
      "Counter({1: 5, 3: 4, 7: 4, 5: 3, 6: 3, 8: 2, 4: 2, 2: 1, 9: 1, 0: 1})\n"
     ]
    }
   ],
   "source": [
    "from collections import Counter\n",
    "a_list = [1,1,1,3,1,1,5,7,8,4,6,3,7,8,7,3,5,7,6,6,4,3,2,9,0,5]\n",
    "\n",
    "a_counter = Counter(a_list)\n",
    "print(a_counter)"
   ]
  },
  {
   "cell_type": "code",
   "execution_count": 91,
   "metadata": {},
   "outputs": [],
   "source": [
    "# Word count\n",
    "st = \"Hello world and new world\"\n",
    "st = st.split()\n",
    "wc = Counter(st)"
   ]
  },
  {
   "cell_type": "code",
   "execution_count": 92,
   "metadata": {},
   "outputs": [
    {
     "name": "stdout",
     "output_type": "stream",
     "text": [
      "a_counter_m => [(1, 5), (3, 4)]\n",
      "a_counter_k => dict_keys([1, 3, 5, 7, 8, 4, 6, 2, 9, 0])\n",
      "a_total_num => 5\n"
     ]
    }
   ],
   "source": [
    "a_counter_m = a_counter.most_common(2) # returns top two most common values\n",
    "a_counter_k = a_counter.keys() # Returns only the key\n",
    "a_total_num = sum(wc.values()) # Counting the total number of words\n",
    "print(f\"a_counter_m => {a_counter_m}\\na_counter_k => {a_counter_k}\\na_total_num => {a_total_num}\")"
   ]
  },
  {
   "cell_type": "code",
   "execution_count": 93,
   "metadata": {},
   "outputs": [
    {
     "data": {
      "text/plain": [
       "defaultdict(<function __main__.<lambda>()>, {'hai': 100, 1: 82})"
      ]
     },
     "execution_count": 93,
     "metadata": {},
     "output_type": "execute_result"
    }
   ],
   "source": [
    "# Defaultdict\n",
    "from collections import defaultdict\n",
    "d_dict = defaultdict(lambda:random.randint(1,100))\n",
    "d_dict[\"hai\"]\n",
    "d_dict[1]\n",
    "d_dict"
   ]
  },
  {
   "cell_type": "code",
   "execution_count": 94,
   "metadata": {},
   "outputs": [
    {
     "name": "stdout",
     "output_type": "stream",
     "text": [
      "Key => 1\tValues => a\n",
      "Key => 2\tValues => b\n",
      "Key => 3\tValues => c\n",
      "Key => 4\tValues => d\n",
      "Key => 5\tValues => e\n",
      "Key => 6\tValues => f\n",
      "Key => 7\tValues => g\n"
     ]
    }
   ],
   "source": [
    "#Order Dictionary \n",
    "from collections import OrderedDict\n",
    "o_dict = OrderedDict()\n",
    "o_dict[1] = \"a\"\n",
    "o_dict[2] = \"b\"\n",
    "o_dict[3] = \"c\"\n",
    "o_dict[4] = \"d\"\n",
    "o_dict[5] = \"e\"\n",
    "o_dict[6] = \"f\"\n",
    "o_dict[7] = \"g\"\n",
    "for k,v in o_dict.items():\n",
    "    print(f\"Key => {k}\\tValues => {v}\")"
   ]
  },
  {
   "cell_type": "code",
   "execution_count": 95,
   "metadata": {},
   "outputs": [],
   "source": [
    "from collections import namedtuple\n",
    "dog = namedtuple(\"dog\",\"sound Breed colour\")"
   ]
  },
  {
   "cell_type": "code",
   "execution_count": 96,
   "metadata": {},
   "outputs": [],
   "source": [
    "dog_nt = dog(sound = \"bsrk\", Breed = \"Lab\",colour = \"Black\" )"
   ]
  },
  {
   "cell_type": "code",
   "execution_count": 97,
   "metadata": {},
   "outputs": [
    {
     "name": "stdout",
     "output_type": "stream",
     "text": [
      "Using index => Lab\n",
      "Using Name => Lab\n"
     ]
    }
   ],
   "source": [
    "dog_nt_index = dog_nt[1]\n",
    "dog_nt_name = dog_nt.Breed\n",
    "print(f\"Using index => {dog_nt_index}\\nUsing Name => {dog_nt_name}\")"
   ]
  },
  {
   "cell_type": "markdown",
   "metadata": {},
   "source": [
    "## DATE AND TIME\n"
   ]
  },
  {
   "cell_type": "code",
   "execution_count": 103,
   "metadata": {},
   "outputs": [
    {
     "name": "stdout",
     "output_type": "stream",
     "text": [
      "05:21:01.000003\n",
      "Hour => 5\n",
      "Microsecond = > 3\n"
     ]
    }
   ],
   "source": [
    "# date and time\n",
    "import datetime\n",
    "t = datetime.time(5,21,1,3)\n",
    "print(t)\n",
    "print(f\"Hour => {t.hour}\\nMicrosecond = > {t.microsecond}\")\n"
   ]
  },
  {
   "cell_type": "code",
   "execution_count": 110,
   "metadata": {},
   "outputs": [
    {
     "name": "stdout",
     "output_type": "stream",
     "text": [
      "00:00:00\n",
      "23:59:59.999999\n"
     ]
    }
   ],
   "source": [
    "print (datetime.time.min) # print's minimum time in a day \n",
    "print (datetime.time.max) # print's maximum time in a day "
   ]
  },
  {
   "cell_type": "code",
   "execution_count": 159,
   "metadata": {},
   "outputs": [
    {
     "name": "stdout",
     "output_type": "stream",
     "text": [
      "2017-03-04\n",
      "4\n",
      "3\n",
      "2017\n",
      "0001-01-01\n",
      "9999-12-31\n"
     ]
    }
   ],
   "source": [
    "date_in = datetime.date(2017,3,4)\n",
    "print(date_in) # print's Date\n",
    "print(date_in.day) # print's Day\n",
    "print(date_in.month) # print's Month\n",
    "print(date_in.year) # print's Year\n",
    "print(datetime.date.min) # print's Min date\n",
    "print(datetime.date.max) # print's Max date"
   ]
  },
  {
   "cell_type": "markdown",
   "metadata": {},
   "source": [
    "## TIMEIT\n",
    "1. to check the time of your code"
   ]
  },
  {
   "cell_type": "code",
   "execution_count": 160,
   "metadata": {},
   "outputs": [
    {
     "name": "stdout",
     "output_type": "stream",
     "text": [
      "Time taken by code (non list) => 0.30248554199988575\n",
      "Time taken by code (list) => 0.20334017499953916\n"
     ]
    }
   ],
   "source": [
    "import timeit\n",
    "time_n_l = timeit.timeit('\"-\".join(str(n) for n in range (100))', number=10000)\n",
    "time_l = timeit.timeit('\"-\".join([str(n) for n in range (100)])', number=10000)\n",
    "print(f\"Time taken by code (non list) => {time_n_l}\\nTime taken by code (list) => {time_l}\")"
   ]
  }
 ],
 "metadata": {
  "kernelspec": {
   "display_name": "Python 3",
   "language": "python",
   "name": "python3"
  },
  "language_info": {
   "codemirror_mode": {
    "name": "ipython",
    "version": 3
   },
   "file_extension": ".py",
   "mimetype": "text/x-python",
   "name": "python",
   "nbconvert_exporter": "python",
   "pygments_lexer": "ipython3",
   "version": "3.6.6"
  }
 },
 "nbformat": 4,
 "nbformat_minor": 2
}
