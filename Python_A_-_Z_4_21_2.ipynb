{
 "cells": [
  {
   "cell_type": "markdown",
   "metadata": {
    "collapsed": true
   },
   "source": [
    "# PYTHON 3 A - Z"
   ]
  },
  {
   "cell_type": "markdown",
   "metadata": {},
   "source": [
    "## Let's start with Hello World"
   ]
  },
  {
   "cell_type": "code",
   "execution_count": 1,
   "metadata": {},
   "outputs": [
    {
     "name": "stdout",
     "output_type": "stream",
     "text": [
      "Hello world\n"
     ]
    }
   ],
   "source": [
    "print(\"Hello world\")"
   ]
  },
  {
   "cell_type": "markdown",
   "metadata": {},
   "source": [
    "Python Data Types\n",
    "\n",
    "NAME           => DESCRIPTION                                               => TYPE\n",
    "\n",
    "Integer        => whole numbers (1, 45, 800)                                => Int\n",
    "\n",
    "Floating Point => Decimals (1.0, 45.8, 800.008)                             => float\n",
    "\n",
    "String         => Sequence of Characters inside \"\" or ''                    => str\n",
    "\n",
    "List           => ordered sequence of object ['hello',\"123\",\"world,100.6\"]  => list\n",
    "\n",
    "Dictionary     => key and value pair => {\"hi\":\"hello\",\"Key\":\"Value\"}        => dict\n",
    "\n",
    "Tuples         => Imutable sequence of object ('hello',\"123\",\"world,100.6\") => tup\n",
    "\n",
    "Sets           => unordered collection of unique object {\"a\",\"b\"}           => set\n",
    "\n",
    "Boolean        => True or false binary output                               => bool\n"
   ]
  },
  {
   "cell_type": "markdown",
   "metadata": {},
   "source": [
    "Arithmetic operation \n",
    "\n",
    "1. Addition "
   ]
  },
  {
   "cell_type": "code",
   "execution_count": 2,
   "metadata": {},
   "outputs": [
    {
     "data": {
      "text/plain": [
       "15"
      ]
     },
     "execution_count": 2,
     "metadata": {},
     "output_type": "execute_result"
    }
   ],
   "source": [
    "10+5"
   ]
  },
  {
   "cell_type": "markdown",
   "metadata": {},
   "source": [
    "2. Subtraction "
   ]
  },
  {
   "cell_type": "code",
   "execution_count": 3,
   "metadata": {},
   "outputs": [
    {
     "data": {
      "text/plain": [
       "5"
      ]
     },
     "execution_count": 3,
     "metadata": {},
     "output_type": "execute_result"
    }
   ],
   "source": [
    "10-5"
   ]
  },
  {
   "cell_type": "markdown",
   "metadata": {},
   "source": [
    "3. Multiplication "
   ]
  },
  {
   "cell_type": "code",
   "execution_count": 4,
   "metadata": {},
   "outputs": [
    {
     "data": {
      "text/plain": [
       "50"
      ]
     },
     "execution_count": 4,
     "metadata": {},
     "output_type": "execute_result"
    }
   ],
   "source": [
    "10*5"
   ]
  },
  {
   "cell_type": "markdown",
   "metadata": {},
   "source": [
    "4. Division "
   ]
  },
  {
   "cell_type": "code",
   "execution_count": 5,
   "metadata": {},
   "outputs": [
    {
     "data": {
      "text/plain": [
       "2.0"
      ]
     },
     "execution_count": 5,
     "metadata": {},
     "output_type": "execute_result"
    }
   ],
   "source": [
    "10/5"
   ]
  },
  {
   "cell_type": "markdown",
   "metadata": {},
   "source": [
    "5. Mod\n",
    "    It gives the reminder as output"
   ]
  },
  {
   "cell_type": "code",
   "execution_count": 6,
   "metadata": {},
   "outputs": [
    {
     "data": {
      "text/plain": [
       "0"
      ]
     },
     "execution_count": 6,
     "metadata": {},
     "output_type": "execute_result"
    }
   ],
   "source": [
    "10%5"
   ]
  },
  {
   "cell_type": "markdown",
   "metadata": {},
   "source": [
    "6. Exponents"
   ]
  },
  {
   "cell_type": "code",
   "execution_count": 7,
   "metadata": {},
   "outputs": [
    {
     "data": {
      "text/plain": [
       "100"
      ]
     },
     "execution_count": 7,
     "metadata": {},
     "output_type": "execute_result"
    }
   ],
   "source": [
    "10**2"
   ]
  },
  {
   "cell_type": "markdown",
   "metadata": {},
   "source": [
    "## Python operator precedence are listed below. \n",
    "### It is in descending order. Higher to Lower\n",
    "\n",
    "#### NO. OPERATORS => MEANING\n",
    "\n",
    "1. () => Parentheses\n",
    "\n",
    "2. **\tExponent\n",
    "\n",
    "3. +x, -x, ~x => Unary plus, Unary minus, Bitwise NOT\n",
    "\n",
    "4. *, /, //, % => Multiplication, Division, Floor division, Modulus\n",
    "\n",
    "5. +, - => Addition, Subtraction\n",
    "\n",
    "6. <<, >> => Bitwise shift operators\n",
    "\n",
    "7. & => Bitwise AND\n",
    "\n",
    "8. ^ => Bitwise XOR\n",
    "\n",
    "9. | => Bitwise OR\n",
    "\n",
    "10. ==, !=, >, >=, <, <=, is, is not, in, not in => Comparisions, Identity, Membership operators\n",
    "\n",
    "11. not => Logical NOT\n",
    "\n",
    "12. and => Logical AND\n",
    "\n",
    "13. or => Logical OR\n"
   ]
  },
  {
   "cell_type": "code",
   "execution_count": 8,
   "metadata": {},
   "outputs": [
    {
     "data": {
      "text/plain": [
       "0.6000000000000001"
      ]
     },
     "execution_count": 8,
     "metadata": {},
     "output_type": "execute_result"
    }
   ],
   "source": [
    "1+2-3*4/5\n"
   ]
  },
  {
   "cell_type": "code",
   "execution_count": 9,
   "metadata": {},
   "outputs": [
    {
     "data": {
      "text/plain": [
       "True"
      ]
     },
     "execution_count": 9,
     "metadata": {},
     "output_type": "execute_result"
    }
   ],
   "source": [
    "1+2-3*4/5 == (1+2-3*4/5)"
   ]
  },
  {
   "cell_type": "markdown",
   "metadata": {},
   "source": [
    "## VARIABLE\n",
    "\n",
    "Variables are reference to datatypes \n",
    "\n",
    "which are reserved memory locations to store values.\n",
    "\n",
    "Lowercase is preferable.\n",
    "\n",
    "Avoid predifiend keyword\n",
    "\n",
    "Variables can be used as it is not static"
   ]
  },
  {
   "cell_type": "code",
   "execution_count": 10,
   "metadata": {},
   "outputs": [
    {
     "name": "stdout",
     "output_type": "stream",
     "text": [
      "3\n",
      "6\n",
      "0.6000000000000001\n"
     ]
    },
    {
     "data": {
      "text/plain": [
       "float"
      ]
     },
     "execution_count": 10,
     "metadata": {},
     "output_type": "execute_result"
    }
   ],
   "source": [
    "# Assigning the values\n",
    "a = 1\n",
    "b = 2\n",
    "c = a + b\n",
    "# Printing the c\n",
    "print (c)\n",
    "# Adding the c by itself\n",
    "c = c + c\n",
    "print(c)\n",
    "# To know the Data type\n",
    "c = 1+2-3*4/5\n",
    "print(c)\n",
    "type(c)"
   ]
  },
  {
   "cell_type": "markdown",
   "metadata": {},
   "source": [
    "## STRING\n",
    "\n",
    "Sequence of characters \n",
    "\n",
    "Inside \"\" or ''\n",
    "\n",
    "String in python are Immutable\n",
    "\n",
    "Uses Indexing\n",
    "\n",
    "In python index starts at 0\n",
    "\n",
    "Python also has reverse indexing and it starts at -1\n",
    "\n",
    "Slicing is available in python string \n",
    "\n",
    "    It has\n",
    "    \n",
    "        starting index \n",
    "        \n",
    "        ending index\n",
    "            \n",
    "            Not included\n",
    "        \n",
    "        Skiping or jump\n",
    "        \n",
    "        [start:stop:skip]\n",
    "    "
   ]
  },
  {
   "cell_type": "code",
   "execution_count": 11,
   "metadata": {},
   "outputs": [
    {
     "name": "stdout",
     "output_type": "stream",
     "text": [
      "Hello world\n",
      "d\n",
      "******************************\n",
      "Hello\n",
      "******************************\n",
      "Hlo\n",
      "******************************\n",
      "o world\n",
      "******************************\n",
      "Hell\n",
      "******************************\n",
      "rld\n",
      "******************************\n",
      "Hlwl\n",
      "******************************\n",
      "dlrow olleH\n",
      "******************************\n",
      "11\n",
      "******************************\n",
      "1\n",
      "******************************\n",
      "5\n",
      "******************************\n",
      "******************************\n",
      "3\n",
      "******************************\n",
      "Helloworld\n",
      "******************************\n",
      "Helloworld\tHelloworld\tHelloworld\t\n",
      "******************************\n",
      "Hello\n",
      "world\n",
      "******************************\n",
      "HELLO WORLD\n",
      "******************************\n",
      "True\n",
      "******************************\n",
      "['HELLO', 'WORLD']\n",
      "<class 'list'>\n",
      "******************************\n",
      "['HE', '', 'O WOR', 'D']\n",
      "******************************\n"
     ]
    }
   ],
   "source": [
    "#assigning the string to variable\n",
    "a = \"Hello world\"\n",
    "print(a)\n",
    "# Grabing the first index\n",
    "b = a[0]\n",
    "# Grabing the last index\n",
    "c = a[-1]\n",
    "# Grabing the required sequence of index \n",
    "d = a[0:5]\n",
    "# Grabing the required sequence of index with step size of skipping by 2\n",
    "e = a[0:5:2]\n",
    "# Grabing the required sequence from the index 4\n",
    "f = a[4:]\n",
    "# Grabing the required sequence upto the index 4\n",
    "g = a[:4]\n",
    "# Grabing the required sequence from the index -3\n",
    "h = a[-3:]\n",
    "# Grabing the required sequence of index with skipping by 3\n",
    "i = a[::3]\n",
    "\n",
    "# GReversing the string \n",
    "j = a[::-1]\n",
    "print(c)\n",
    "print(\"******************************\")\n",
    "print(d)\n",
    "print(\"******************************\")\n",
    "print(e)\n",
    "print(\"******************************\")\n",
    "print(f)\n",
    "print(\"******************************\")\n",
    "print(g)\n",
    "print(\"******************************\")\n",
    "print(h)\n",
    "print(\"******************************\")\n",
    "print(i)\n",
    "print(\"******************************\")\n",
    "print(j)\n",
    "print(\"******************************\")\n",
    "#printing the length of the string\n",
    "print(len(a))\n",
    "print(\"******************************\")\n",
    "print(len(c))\n",
    "print(\"******************************\")\n",
    "print(len(d))\n",
    "print(\"******************************\")\n",
    "k = len(e)\n",
    "print(\"******************************\")\n",
    "print(k)\n",
    "print(\"******************************\")\n",
    "#concatenation of string && it should in string datatype\n",
    "l = d + a[-5:]\n",
    "print(l)\n",
    "print(\"******************************\")\n",
    "# Adding tab space and multipling the string \n",
    "m = (l+\"\\t\")*3\n",
    "print(m)\n",
    "print(\"******************************\")\n",
    "# Adding new line space\n",
    "n = d+\"\\n\"+ a[-5:]\n",
    "print(n)\n",
    "print(\"******************************\")\n",
    "# using Default function\n",
    "o = a.upper()\n",
    "print(o)\n",
    "print(\"******************************\")\n",
    "p = o.isupper()\n",
    "print(p)\n",
    "print(\"******************************\")\n",
    "#splitting and adding to list && default white space\n",
    "q = o.split()\n",
    "print(q)\n",
    "print(type(q))\n",
    "print(\"******************************\")\n",
    "#splitting using the chsractor\n",
    "r = o.split(\"L\")\n",
    "print(r)\n",
    "print(\"******************************\")\n"
   ]
  },
  {
   "cell_type": "markdown",
   "metadata": {},
   "source": [
    "## STRING FORMAT METHOD\n",
    "\n",
    "printing during runtime using the metho .format() \n",
    "\n",
    "the values inside the format is list and separated by \n",
    "\n",
    "for example .format(\"hi\",\"hello\") in this hi is at index 0 and hello is at index 1\n",
    "\n",
    "if {} inside the string is not equal to the contrnt inside format it throws error\n",
    "\n",
    "    Example ERROR : print(\"This {0} is printed using {2}.format(\"hello\"))\n",
    "    \n",
    "    To avoid this use indexing\n",
    "    \n",
    "Values can be repeated using indexing repeatedly "
   ]
  },
  {
   "cell_type": "code",
   "execution_count": 12,
   "metadata": {
    "scrolled": false
   },
   "outputs": [
    {
     "name": "stdout",
     "output_type": "stream",
     "text": [
      "This hello is printed using format Method and it can also print numbers 55,5\n",
      "******************************\n",
      "Formated output  can be assigned to variables *** 'indexing avoid error' *** 'indexing avoid error'\n",
      "******************************\n",
      "Format values can be assigned to variables *** assigined to variable *** assigined to variable\n",
      "******************************\n",
      "Formating the float value 0.4537\n",
      "******************************\n",
      "Formating the float value 1234.453747\n"
     ]
    }
   ],
   "source": [
    "print(\"This {0} is printed using {2} {1} and it can also print numbers {3}{3},{3}\".format(\"hello\",\"Method\",\"format\",5,\"Extra values 'indexing avoid error'\"))\n",
    "print(\"******************************\")\n",
    "s = \"Formated output  can be assigned to variables *** {0} *** {0}\".format(\"'indexing avoid error'\")\n",
    "print(s)\n",
    "print(\"******************************\")\n",
    "# values inside format this to variable\n",
    "t = \"Format values can be assigned to variables *** {vari} *** {vari}\".format(vari = \"assigined to variable\")\n",
    "print(t)\n",
    "print(\"******************************\")\n",
    "\n",
    "# Formating the float using format\n",
    "# 4f and 6f is the values included after . that is decimal \n",
    "# 5 and 8 are the width values\n",
    "a = 0.45374684\n",
    "b = \"Formating the float value {v:5.4f}\".format(v = a)\n",
    "print(b)\n",
    "print(\"******************************\")\n",
    "c = 1234.45374684\n",
    "d = \"Formating the float value {v:8.6f}\".format(v = c)\n",
    "print(d)\n",
    "\n"
   ]
  },
  {
   "cell_type": "markdown",
   "metadata": {},
   "source": [
    "## Formated String or fstring\n",
    "\n",
    "similar to fstring\n",
    "In this values can be included directly"
   ]
  },
  {
   "cell_type": "code",
   "execution_count": 13,
   "metadata": {},
   "outputs": [
    {
     "name": "stdout",
     "output_type": "stream",
     "text": [
      "This is printed using fstring method : 'hello this is string ' \n",
      " And it can also print numbers and repeatedly : 1010,10\n",
      "******************************\n",
      "This values are assigned to variable using fstring method : 'hello this is string ' \n",
      "And it can also print numbers and repeatedly : 1010,10\n",
      "******************************\n"
     ]
    }
   ],
   "source": [
    "num = 10\n",
    "string = \"hello this is string\"\n",
    "print(f\"This is printed using fstring method : '{string} ' \\n And it can also print numbers and repeatedly : {num}{num},{num}\")\n",
    "print(\"******************************\")\n",
    "a = f\"This values are assigned to variable using fstring method : '{string} ' \\nAnd it can also print numbers and repeatedly : {num}{num},{num}\"\n",
    "print(a)\n",
    "print(\"******************************\")\n"
   ]
  },
  {
   "cell_type": "markdown",
   "metadata": {},
   "source": [
    "## LIST\n",
    "1. List are ordered Sequence that holds varieties of objects seperated by commas\n",
    "2. List can contain any kind of objects\n",
    "3. It starts with [ and ends with ] and seperated by , like [1,\"a\",2,4].\n",
    "4. List supports indexing, slicing and it also has useful pre-defiend methods."
   ]
  },
  {
   "cell_type": "code",
   "execution_count": 14,
   "metadata": {},
   "outputs": [
    {
     "name": "stdout",
     "output_type": "stream",
     "text": [
      " int_list [1, 2, 3, 4, 5]\n",
      " str_list ['hi', 'Hello', 'World'] \n",
      " mixed_list ['Hello', 2, 4.04, 'bye']\n"
     ]
    }
   ],
   "source": [
    "int_list = [1,2,3,4,5]\n",
    "str_list = [\"hi\",\"Hello\",\"World\"]\n",
    "mixed_list = [\"Hello\",2,4.04,\"bye\"]\n",
    "print(f\" int_list {int_list}\\n str_list {str_list} \\n mixed_list {mixed_list}\")"
   ]
  },
  {
   "cell_type": "code",
   "execution_count": 15,
   "metadata": {},
   "outputs": [
    {
     "name": "stdout",
     "output_type": "stream",
     "text": [
      " li_in World \n",
      " ****\n",
      " l1 [3, 4, 5]\n",
      " l2 [4, 5] \n",
      " l3 [2, 3] \n",
      " l4 [3, 4]\n"
     ]
    }
   ],
   "source": [
    "# retriving by index\n",
    "li_in = str_list[2]\n",
    "# slicing \n",
    "l1 = int_list[2:]\n",
    "l2 = int_list[-2:]\n",
    "l3 = int_list[-4:3]\n",
    "l4 = int_list[2:-1]\n",
    "print(f\" li_in {li_in} \\n ****\\n l1 {l1}\\n l2 {l2} \\n l3 {l3} \\n l4 {l4}\")"
   ]
  },
  {
   "cell_type": "code",
   "execution_count": 16,
   "metadata": {},
   "outputs": [
    {
     "name": "stdout",
     "output_type": "stream",
     "text": [
      " cin_list ['Hello', 2, 4.04, 'bye', 1, 2, 3, 4, 5]\n",
      " After updating cin_list ['updated value', 2, 4.04, 'bye', 1, 2, 3, 4, 5]\n",
      "Length 9\n"
     ]
    }
   ],
   "source": [
    "# Concatenazione of list\n",
    "con_list = mixed_list + int_list\n",
    "print(f\" cin_list {con_list}\")\n",
    "# list are mutable \n",
    "con_list[0] = \"updated value\"\n",
    "print(f\" After updating cin_list {con_list}\")\n",
    "# to know the length \n",
    "print(f\"Length {len(con_list)}\")"
   ]
  },
  {
   "cell_type": "code",
   "execution_count": 17,
   "metadata": {},
   "outputs": [
    {
     "name": "stdout",
     "output_type": "stream",
     "text": [
      " After adding [1, 2, 3, 4, 5, 1]\n",
      " After removing [1, 2, 3, 4, 5]\n",
      " After removing by index [1, 3, 4, 5]\n",
      " Removed value 2\n"
     ]
    }
   ],
   "source": [
    "# To Adding new values to list\n",
    "int_list.append(1)\n",
    "print(f\" After adding {int_list}\")\n",
    "# To Delete a value from list \n",
    "int_list.pop()\n",
    "print(f\" After removing {int_list}\")\n",
    "deleted_value = int_list.pop(1)\n",
    "print(f\" After removing by index {int_list}\")\n",
    "print(f\" Removed value {deleted_value}\")\n"
   ]
  },
  {
   "cell_type": "code",
   "execution_count": 18,
   "metadata": {},
   "outputs": [
    {
     "name": "stdout",
     "output_type": "stream",
     "text": [
      " Sorted List [0, 1, 2, 2.9, 3, 5, 58, 959]\n",
      " Sorted List ['a', 'bye', 'c', 'hello', 'world']\n",
      " Sorted List [5, 4, 3, 2, 1, 'bye', 4.04, 2, 'updated value']\n"
     ]
    }
   ],
   "source": [
    "# sorting a list\n",
    "# should habe same datatype\n",
    "# int and float\n",
    "int_so_list = [1,58,3,5,2.9,959,2,0]\n",
    "int_so_list.sort()\n",
    "print(f\" Sorted List {int_so_list}\")\n",
    "# string and character\n",
    "str_so_list = [\"hello\",\"world\",\"bye\",\"a\",'c']\n",
    "str_so_list.sort()\n",
    "print(f\" Sorted List {str_so_list}\")\n",
    "# Desecing of sorted list a list\n",
    "con_list.reverse()\n",
    "print(f\" Sorted List {con_list}\")"
   ]
  },
  {
   "cell_type": "markdown",
   "metadata": {},
   "source": [
    "#### Nested List\n",
    "To grab a value fom nested list, call the value by adding extra bracket"
   ]
  },
  {
   "cell_type": "code",
   "execution_count": 19,
   "metadata": {},
   "outputs": [
    {
     "name": "stdout",
     "output_type": "stream",
     "text": [
      " To print all list => ['Master list', 1, ['first nested list', ['Second nested list', 7, [8, 4, 'Third nested list', 9]], 2]]\n",
      "\n",
      " Master List => Master list\n",
      " First nested list => first nested list\n",
      " Second nested list => Second nested list\n",
      " Third nested list => Third nested list\n",
      " Third nested list full => [8, 4, 'Third nested list', 9]\n",
      " Second nested list full => ['Second nested list', 7, [8, 4, 'Third nested list', 9]]\n"
     ]
    }
   ],
   "source": [
    "nested_list = [\"Master list\",1,[\"first nested list\",[\"Second nested list\",7,[8,4,\"Third nested list\",9]],2]]\n",
    "print(f\" To print all list => {nested_list}\\n\")\n",
    "print(f\" Master List => {nested_list[0]}\")\n",
    "print(f\" First nested list => {nested_list[2][0]}\")\n",
    "print(f\" Second nested list => {nested_list[2][1][0]}\")\n",
    "print(f\" Third nested list => {nested_list[2][1][2][2]}\")\n",
    "print(f\" Third nested list full => {nested_list[2][1][2]}\")\n",
    "print(f\" Second nested list full => {nested_list[2][1]}\")"
   ]
  },
  {
   "cell_type": "markdown",
   "metadata": {},
   "source": [
    "## DICTIONARY \n",
    "1. Dictionary uses mapping concept to store values\n",
    "2. It has Key and Value\n",
    "3. Keys and values can be any type.\n",
    "4. Key and value are separated using : \n",
    "5. Each pairs are seperated between ,\n",
    "6. All pairs are  contained inside {}\n",
    "7. For example {\"key\":\"Value\",\"key1\":\"Value1\",\"key2\":\"Value2\"}\n",
    "8. With key we can easily  call the values, so index is not needed\n",
    "9. Cannot be ordered or sorted\n",
    "10. It can hold list or dict"
   ]
  },
  {
   "cell_type": "code",
   "execution_count": 20,
   "metadata": {},
   "outputs": [],
   "source": [
    "str_dict = {\"key\":\"Value\",\"key1\":\"Value1\",\"key2\":\"Value2\"}"
   ]
  },
  {
   "cell_type": "code",
   "execution_count": 21,
   "metadata": {},
   "outputs": [
    {
     "data": {
      "text/plain": [
       "'Value'"
      ]
     },
     "execution_count": 21,
     "metadata": {},
     "output_type": "execute_result"
    }
   ],
   "source": [
    "str_dict[\"key\"]"
   ]
  },
  {
   "cell_type": "code",
   "execution_count": 22,
   "metadata": {},
   "outputs": [],
   "source": [
    "veg_price_dic = {\"Carrot\":3.834,\"beans\":1.49,\"onions\":3.21,\"tomato\":4.1}"
   ]
  },
  {
   "cell_type": "code",
   "execution_count": 23,
   "metadata": {},
   "outputs": [
    {
     "data": {
      "text/plain": [
       "3.21"
      ]
     },
     "execution_count": 23,
     "metadata": {},
     "output_type": "execute_result"
    }
   ],
   "source": [
    "veg_price_dic[\"onions\"]"
   ]
  },
  {
   "cell_type": "code",
   "execution_count": 24,
   "metadata": {},
   "outputs": [],
   "source": [
    "all_data_type_dic = {9:3.834,789.89:1.49,\"onions\":3.21,\"tomato\":4.1}"
   ]
  },
  {
   "cell_type": "code",
   "execution_count": 25,
   "metadata": {},
   "outputs": [
    {
     "name": "stdout",
     "output_type": "stream",
     "text": [
      " value of a 1.49, value of (b,c) (3.21, 3.834)\n"
     ]
    }
   ],
   "source": [
    "a = all_data_type_dic[789.89]\n",
    "b = all_data_type_dic[\"onions\"]\n",
    "c = all_data_type_dic[9]\n",
    "print(f\" value of a {a}, value of (b,c) {b,c}\")"
   ]
  },
  {
   "cell_type": "code",
   "execution_count": 26,
   "metadata": {},
   "outputs": [],
   "source": [
    "all_data_type_dic = {\"onions\":3.21,\"tomato\":4.1,\"list\":int_list,\"dict\":str_dict}"
   ]
  },
  {
   "cell_type": "code",
   "execution_count": 27,
   "metadata": {},
   "outputs": [
    {
     "name": "stdout",
     "output_type": "stream",
     "text": [
      " value of a [1, 3, 4, 5]\n",
      " value of e 3.21\n",
      " value of f {'key': 'Value', 'key1': 'Value1', 'key2': 'Value2'}\n"
     ]
    }
   ],
   "source": [
    "d = all_data_type_dic[\"list\"]\n",
    "e = all_data_type_dic[\"onions\"]\n",
    "f = all_data_type_dic[\"dict\"]\n",
    "print(f\" value of a {d}\\n value of e {e}\\n value of f {f}\")"
   ]
  },
  {
   "cell_type": "code",
   "execution_count": 28,
   "metadata": {},
   "outputs": [
    {
     "name": "stdout",
     "output_type": "stream",
     "text": [
      " value of nested list 4\n",
      " value of nested dict Value2\n"
     ]
    }
   ],
   "source": [
    "# To get the value of list inside the Dictionary \n",
    "ind_list = all_data_type_dic[\"list\"][2]\n",
    "# To get the value of list inside the Dictionary \n",
    "key_dict = all_data_type_dic[\"dict\"][\"key2\"]\n",
    "print(f\" value of nested list {ind_list}\\n value of nested dict {key_dict}\")"
   ]
  },
  {
   "cell_type": "code",
   "execution_count": 29,
   "metadata": {},
   "outputs": [
    {
     "name": "stdout",
     "output_type": "stream",
     "text": [
      " Orginal values {'onions': 3.21, 'tomato': 4.1, 'list': [1, 3, 4, 5], 'dict': {'key': 'Value', 'key1': 'Value1', 'key2': 'Value2'}}\n",
      " value of nested list 4\n",
      " value of nested dict VALUE2\n",
      " After updating values {'onions': 3.21, 'tomato': 4.1, 'list': [1, 3, 5], 'dict': {'key': 'Value', 'key1': 'Value1', 'key2': 'Value2'}}\n"
     ]
    }
   ],
   "source": [
    "print(f\" Orginal values {all_data_type_dic}\")\n",
    "# Using the functions of string\n",
    "key_dict = all_data_type_dic[\"dict\"][\"key2\"].upper()\n",
    "# Using the functions of List\n",
    "ind_list = all_data_type_dic[\"list\"].pop(2)\n",
    "print(f\" value of nested list {ind_list}\\n value of nested dict {key_dict}\")\n",
    "print(f\" After updating values {all_data_type_dic}\")\n"
   ]
  },
  {
   "cell_type": "code",
   "execution_count": 30,
   "metadata": {},
   "outputs": [
    {
     "name": "stdout",
     "output_type": "stream",
     "text": [
      " Before Adding values {'key': 'Value', 'key1': 'Value1', 'key2': 'Value2'}\n",
      " After Adding values {'key': 'Value', 'key1': 'Value1', 'key2': 'Value2', 'key_added': 'Value_added'}\n"
     ]
    }
   ],
   "source": [
    "# Adding value to Dictionary\n",
    "str_dict = {\"key\":\"Value\",\"key1\":\"Value1\",\"key2\":\"Value2\"}\n",
    "print(f\" Before Adding values {str_dict}\")\n",
    "str_dict[\"key_added\"] =\"Value_added\"\n",
    "print(f\" After Adding values {str_dict}\")"
   ]
  },
  {
   "cell_type": "code",
   "execution_count": 31,
   "metadata": {},
   "outputs": [
    {
     "name": "stdout",
     "output_type": "stream",
     "text": [
      " Keys dict_keys(['key', 'key1', 'key2', 'key_added'])\n",
      " Value  dict_values(['Value', 'Value1', 'Value2', 'Value_added'])\n",
      " Items  dict_items([('key', 'Value'), ('key1', 'Value1'), ('key2', 'Value2'), ('key_added', 'Value_added')])\n"
     ]
    }
   ],
   "source": [
    "# To print Keys in dictionary \n",
    "keys_dict = str_dict.keys()\n",
    "val_dict = str_dict.values()\n",
    "items_dict = str_dict.items()\n",
    "print(f\" Keys {keys_dict}\\n Value  {val_dict}\\n Items  {items_dict}\")"
   ]
  },
  {
   "cell_type": "markdown",
   "metadata": {},
   "source": [
    "## TUPLES\n",
    "1. Tuples are similar to list but Tuples are immutable \n",
    "2. Ones value is inserted it cannot be edited or updsted\n",
    "3. Tuples uses Parentheses () and values are seperated by ,"
   ]
  },
  {
   "cell_type": "code",
   "execution_count": 32,
   "metadata": {},
   "outputs": [
    {
     "name": "stdout",
     "output_type": "stream",
     "text": [
      " int_tuples (1, 2, 3, 4, 5)\n",
      " str_tuples ('Hi', 'Hello', 'World', 'hi', 'Hi') \n",
      " mixed_tuples ('Hello', 2, 4.04, 'bye')\n"
     ]
    }
   ],
   "source": [
    "int_tuples = (1,2,3,4,5)\n",
    "str_tuples = (\"Hi\",\"Hello\",\"World\",'hi',\"Hi\")\n",
    "mixed_tuples = (\"Hello\",2,4.04,\"bye\")\n",
    "print(f\" int_tuples {int_tuples}\\n str_tuples {str_tuples} \\n mixed_tuples {mixed_tuples}\")"
   ]
  },
  {
   "cell_type": "code",
   "execution_count": 33,
   "metadata": {},
   "outputs": [
    {
     "name": "stdout",
     "output_type": "stream",
     "text": [
      " ti_in World \n",
      " ****\n",
      " t1 ('Hello', 'World', 'hi', 'Hi')\n",
      " t2 (4.04, 'bye') \n",
      " t3 (2, 3) \n",
      " t4 (3, 4)\n"
     ]
    }
   ],
   "source": [
    "# retriving by index\n",
    "ti_in = str_tuples[2]\n",
    "# slicing \n",
    "t1 = str_tuples[1:]\n",
    "t2 = mixed_tuples[-2:]\n",
    "t3 = int_tuples[-4:3]\n",
    "t4 = int_tuples[2:-1]\n",
    "print(f\" ti_in {li_in} \\n ****\\n t1 {t1}\\n t2 {t2} \\n t3 {t3} \\n t4 {t4}\")"
   ]
  },
  {
   "cell_type": "code",
   "execution_count": 34,
   "metadata": {},
   "outputs": [
    {
     "name": "stdout",
     "output_type": "stream",
     "text": [
      " count_t 2 \n",
      " index_t 0 \n",
      " len_t 5\n"
     ]
    }
   ],
   "source": [
    "# To count number of times of occurrence of a particular element \n",
    "count_t = str_tuples.count(\"Hi\")\n",
    "# To Find the index of a particular element \n",
    "index_t = str_tuples.index(\"Hi\") # It gives the first index\n",
    "# To find the length\n",
    "len_t = len(str_tuples)\n",
    "print(f\" count_t {count_t} \\n index_t {index_t} \\n len_t {len_t}\")"
   ]
  },
  {
   "cell_type": "markdown",
   "metadata": {},
   "source": [
    "## SETS\n",
    "1. Unordered Colections of element\n",
    "2. It stores only Unique values, Duplication is not possible\n",
    "3. ALL values are stored inside {} and seperated by , "
   ]
  },
  {
   "cell_type": "code",
   "execution_count": 35,
   "metadata": {},
   "outputs": [
    {
     "name": "stdout",
     "output_type": "stream",
     "text": [
      " int_sets {1, 2, 3, 4, 5}\n",
      " str_sets {'Hi', 'Hello', 'hi', 'World'} \n",
      " mixed_sets {2, 'Hello', 4.04, 'bye'}\n"
     ]
    }
   ],
   "source": [
    "int_sets = {1,2,3,4,5,5,5,5,3}\n",
    "str_sets = {\"Hi\",\"Hello\",\"World\",'hi',\"Hi\",\"Hello\",\"Hello\"}\n",
    "mixed_sets = {\"Hello\",2,4.04,\"bye\",4.04,4.04}\n",
    "print(f\" int_sets {int_sets}\\n str_sets {str_sets} \\n mixed_sets {mixed_sets}\")"
   ]
  },
  {
   "cell_type": "code",
   "execution_count": 36,
   "metadata": {},
   "outputs": [
    {
     "name": "stdout",
     "output_type": "stream",
     "text": [
      " str_tuples ('Hi', 'Hello', 'World', 'hi', 'Hi')\n",
      " Casted_set {'Hi', 'Hello', 'hi', 'World'}\n"
     ]
    }
   ],
   "source": [
    "# Casting tuples to set\n",
    "Casted_set = set(str_tuples)\n",
    "print(f\" str_tuples {str_tuples}\\n Casted_set {Casted_set}\")"
   ]
  },
  {
   "cell_type": "markdown",
   "metadata": {},
   "source": [
    "## BOOLEANS and NONE\n",
    "### Booleans\n",
    "1. True or False\n",
    "2. These are the results of logics "
   ]
  },
  {
   "cell_type": "markdown",
   "metadata": {},
   "source": [
    "### None\n",
    "1. None are used to declar variable without values"
   ]
  },
  {
   "cell_type": "code",
   "execution_count": 37,
   "metadata": {},
   "outputs": [
    {
     "name": "stdout",
     "output_type": "stream",
     "text": [
      " out_1 True\n",
      " out_2 False\n",
      " empty_variable => None, <class 'NoneType'>\n"
     ]
    }
   ],
   "source": [
    "# Boolean output True And False \n",
    "out_1 = 1 < 9\n",
    "out_2 = 1 > 9\n",
    "print(f\" out_1 {out_1}\\n out_2 {out_2}\")\n",
    "# None Variable Declaration\n",
    "empty_variable = None\n",
    "type_n = type(empty_variable)\n",
    "print(f\" empty_variable => {empty_variable}, {type_n}\")\n"
   ]
  },
  {
   "cell_type": "markdown",
   "metadata": {},
   "source": [
    "## FILE I/O"
   ]
  },
  {
   "cell_type": "code",
   "execution_count": 38,
   "metadata": {},
   "outputs": [
    {
     "name": "stdout",
     "output_type": "stream",
     "text": [
      "Overwriting textfile.txt\n"
     ]
    }
   ],
   "source": [
    "%%writefile textfile.txt\n",
    "Hello these are the text which will be inside the textfile.txt \n",
    "we can give any kind Of text inside\n",
    "Line 1\n",
    "Line 2\n",
    "\n",
    "#only compatible with jupiter nootbook\n",
    "\n"
   ]
  },
  {
   "cell_type": "code",
   "execution_count": 39,
   "metadata": {},
   "outputs": [],
   "source": [
    "# opening or importing a file\n",
    "imp_file = open(\"textfile.txt\")\n",
    "# Or one csn use full path\n",
    "# imp_file = open(\"/Users/Machine_Learning/Python/textfile.txt\")"
   ]
  },
  {
   "cell_type": "code",
   "execution_count": 40,
   "metadata": {},
   "outputs": [
    {
     "data": {
      "text/plain": [
       "'Hello these are the text which will be inside the textfile.txt \\nwe can give any kind Of text inside\\nLine 1\\nLine 2\\n\\n#only compatible with jupiter nootbook\\n'"
      ]
     },
     "execution_count": 40,
     "metadata": {},
     "output_type": "execute_result"
    }
   ],
   "source": [
    "# to read the file\n",
    "imp_file.read()"
   ]
  },
  {
   "cell_type": "code",
   "execution_count": 41,
   "metadata": {},
   "outputs": [
    {
     "name": "stdout",
     "output_type": "stream",
     "text": [
      "Reading the second time without seeking from 0 \n",
      "\t\n",
      "Reading the value after seeked from 0 \n",
      "\tHello these are the text which will be inside the textfile.txt \n",
      "we can give any kind Of text inside\n",
      "Line 1\n",
      "Line 2\n",
      "\n",
      "#only compatible with jupiter nootbook\n",
      "\n",
      "Reading the value after seeked from 10 \n",
      "\te are the text which will be inside the textfile.txt \n",
      "we can give any kind Of text inside\n",
      "Line 1\n",
      "Line 2\n",
      "\n",
      "#only compatible with jupiter nootbook\n",
      "\n"
     ]
    }
   ],
   "source": [
    "# To reset the cursor to read again as in python after reading the file the cursor rests at the last index of the file\n",
    "bf_se_r = imp_file.read()\n",
    "print(f\"Reading the second time without seeking from 0 \\n\\t{bf_se_r}\")\n",
    "imp_file.seek(0)\n",
    "se_0_r = imp_file.read()\n",
    "print(f\"Reading the value after seeked from 0 \\n\\t{se_0_r}\")\n",
    "imp_file.seek(10)\n",
    "se_10_r = imp_file.read()\n",
    "print(f\"Reading the value after seeked from 10 \\n\\t{se_10_r}\")\n"
   ]
  },
  {
   "cell_type": "code",
   "execution_count": 42,
   "metadata": {},
   "outputs": [
    {
     "name": "stdout",
     "output_type": "stream",
     "text": [
      "Reading all line and put into list  \n",
      "\t['Hello these are the text which will be inside the textfile.txt \\n', 'we can give any kind Of text inside\\n', 'Line 1\\n', 'Line 2\\n', '\\n', '#only compatible with jupiter nootbook\\n']\n",
      "\n",
      "Reads all line in the range and put into list \n",
      "\t['we can give any kind Of text inside\\n', 'Line 1\\n']\n",
      "\n"
     ]
    },
    {
     "data": {
      "text/plain": [
       "0"
      ]
     },
     "execution_count": 42,
     "metadata": {},
     "output_type": "execute_result"
    }
   ],
   "source": [
    "# To read Line by Line\n",
    "imp_file.seek(0)\n",
    "# Reads all line and put into list\n",
    "l_l_r = imp_file.readlines()\n",
    "print(f\"Reading all line and put into list  \\n\\t{l_l_r}\\n\")\n",
    "imp_file.seek(0)\n",
    "# Reads all line in the range and put into list\n",
    "l_l_r_r = imp_file.readlines()[1:3]\n",
    "print(f\"Reads all line in the range and put into list \\n\\t{l_l_r_r}\\n\")\n",
    "imp_file.seek(0)"
   ]
  },
  {
   "cell_type": "code",
   "execution_count": 43,
   "metadata": {},
   "outputs": [],
   "source": [
    "# To close the file\n",
    "imp_file.close()"
   ]
  },
  {
   "cell_type": "code",
   "execution_count": 44,
   "metadata": {},
   "outputs": [
    {
     "name": "stdout",
     "output_type": "stream",
     "text": [
      "Content of the text file.txt in content_textfile \n",
      "\tHello these are the text which will be inside the textfile.txt \n",
      "we can give any kind Of text inside\n",
      "Line 1\n",
      "Line 2\n",
      "\n",
      "#only compatible with jupiter nootbook\n",
      "\n",
      "\n"
     ]
    }
   ],
   "source": [
    "# To open safely a file to avoid closing problem\n",
    "# As soon as the blook ends the file will close\n",
    "with open(\"textfile.txt\") as newtextfile:\n",
    "    content_textfile = newtextfile.read()\n",
    "\n",
    "print(f\"Content of the text file.txt in content_textfile \\n\\t{content_textfile}\\n\")\n",
    "\n"
   ]
  },
  {
   "cell_type": "markdown",
   "metadata": {},
   "source": [
    "### Read, Write, Append, Read & Write and Writing and reading\n",
    "1. Read => r\n",
    "2. Write => w\n",
    "3. Append => a\n",
    "4. Read & Write => r+\n",
    "5. Write & Read => w+\n",
    "6. Syntax open (mode = 'r')"
   ]
  },
  {
   "cell_type": "code",
   "execution_count": 45,
   "metadata": {},
   "outputs": [
    {
     "name": "stdout",
     "output_type": "stream",
     "text": [
      "************************************************\n",
      "Reading content_textfile \n",
      "\tHello these are the text which will be inside the textfile.txt \n",
      "we can give any kind Of text inside\n",
      "Line 1\n",
      "Line 2\n",
      "\n",
      "#only compatible with jupiter nootbook\n",
      "\n",
      "\n",
      "************************************************\n",
      "verifing content_textfile \n",
      "\tHello these are the text which will be inside the textfile.txt \n",
      "we can give any kind Of text inside\n",
      "Line 1\n",
      "Line 2\n",
      "\n",
      "#only compatible with jupiter nootbook\n",
      "\n",
      "Hai this is the new line using append\n",
      "\n",
      "************************************************\n",
      "verifing content_textfile \n",
      "\t\n",
      "Hai this is the new line using Writing\n",
      "\n"
     ]
    }
   ],
   "source": [
    "with open(\"textfile.txt\",mode='r') as newtextfile:\n",
    "    read_textfile = newtextfile.read()\n",
    "print(\"************************************************\")\n",
    "print(f\"Reading content_textfile \\n\\t{read_textfile}\\n\")\n",
    "\n",
    "# Appending to the file\n",
    "with open(\"textfile.txt\",mode='a') as newtextfile:\n",
    "    newtextfile.write(\"\\nHai this is the new line using append\")\n",
    "    \n",
    "# verifing \n",
    "with open(\"textfile.txt\",mode='r') as newtextfile:\n",
    "    verifying_textfile = newtextfile.read()\n",
    "    \n",
    "print(\"************************************************\")\n",
    "print(f\"verifing content_textfile \\n\\t{verifying_textfile}\\n\")\n",
    "\n",
    "# Writing to the file\n",
    "with open(\"textfile.txt\",mode='w') as newtextfile:\n",
    "    newtextfile.write(\"\\nHai this is the new line using Writing\")\n",
    "    \n",
    "# verifing \n",
    "with open(\"textfile.txt\",mode='r') as newtextfile:\n",
    "    verifying_textfile = newtextfile.read()\n",
    "\n",
    "print(\"************************************************\")\n",
    "print(f\"verifing content_textfile \\n\\t{verifying_textfile}\\n\")\n",
    "\n"
   ]
  },
  {
   "cell_type": "markdown",
   "metadata": {},
   "source": [
    "## COMPARISON OPERATORS\n"
   ]
  },
  {
   "cell_type": "code",
   "execution_count": 46,
   "metadata": {},
   "outputs": [
    {
     "name": "stdout",
     "output_type": "stream",
     "text": [
      "OPERATIONS => RESULT OBTAINED \n",
      "Equal => False \n",
      "Not equal => True\n",
      "Greater => False \n",
      "Lesser => False \n",
      "Greater or equal => False \n",
      "Lesser or equal => False \n",
      "chain comparison 1 => True \n",
      "chain comparison 2 => False \n",
      "chain comparison 3 => True\n"
     ]
    }
   ],
   "source": [
    "## Equal\n",
    "ce = 1 == 2\n",
    "\n",
    "## Not equal\n",
    "cne = 1!= 2\n",
    "\n",
    "## Greater\n",
    "cg = 1 > 2\n",
    "\n",
    "## Lesser\n",
    "cl = 1 > 2\n",
    "\n",
    "## Greater or equal\n",
    "cge = 1 >= 2\n",
    "\n",
    "# Lesser or equal\n",
    "cle = 1 >= 2\n",
    "\n",
    "# chain comparison && higest priorities for False\n",
    "cc_1 = 1 < 2 < 3\n",
    "cc_2 = 1 < 2 > 3\n",
    "cc_3 = 1 < 2 >= 2\n",
    "\n",
    "print(f\"OPERATIONS => RESULT OBTAINED \\nEqual => {ce} \\nNot equal => {cne}\\nGreater => {cg} \\nLesser => {cl} \\nGreater or equal => {cge} \\nLesser or equal => {cle} \\nchain comparison 1 => {cc_1} \\nchain comparison 2 => {cc_2} \\nchain comparison 3 => {cc_3}\")"
   ]
  },
  {
   "cell_type": "markdown",
   "metadata": {},
   "source": [
    "## LOGICAL OPERATORS"
   ]
  },
  {
   "cell_type": "code",
   "execution_count": 47,
   "metadata": {},
   "outputs": [
    {
     "name": "stdout",
     "output_type": "stream",
     "text": [
      "Logical operation for AND => False \n",
      "Logical operation for OR => True \n",
      "Logical operation for NOT => True\n"
     ]
    }
   ],
   "source": [
    "# And : All value should be true to get True\n",
    "l_and = 1 < 2 and 2 > 2\n",
    "# OR : Atleast one value should be true to get True\n",
    "l_or = 1 < 2 or 2 > 2\n",
    "# And : Gives the Opposite Boolean value\n",
    "l_not = not l_and\n",
    "print(f\"Logical operation for AND => {l_and} \\nLogical operation for OR => {l_or} \\nLogical operation for NOT => {l_not}\")"
   ]
  },
  {
   "cell_type": "markdown",
   "metadata": {},
   "source": [
    "## IF,ELIF and ELSE\n",
    "1. IF\n",
    "\n",
    "    if condition:\n",
    "        //.....//\n",
    "\n",
    "2. IF...ELSE\n",
    "\n",
    "    if condition:\n",
    "        //.....//\n",
    "        \n",
    "    else:\n",
    "        //.....//\n",
    "3. IF...ELIF..ELSE\n",
    "\n",
    "   if condition:\n",
    "        //.....//\n",
    "   elif condition: \n",
    "        //.....//\n",
    "   else condition:\n",
    "        //.....//\n",
    "    \n",
    "4. IF...ELIF...ELIF\n",
    "\n",
    "   if condition:\n",
    "        //.....//\n",
    "        \n",
    "   elif condition 1: \n",
    "    .   //.....//\n",
    "    .\n",
    "    .\n",
    "    .\n",
    "    .\n",
    "   elif condition n: \n",
    "        //.....//\n",
    "\n",
    "5. IF...ELIF...ELIF...ELSE\n",
    "\n",
    "   if condition:\n",
    "        //.....//\n",
    "        \n",
    "   elif condition 1: \n",
    "    .   //.....//\n",
    "    .\n",
    "    .\n",
    "    .\n",
    "    .\n",
    "   elif condition n: \n",
    "        //.....//\n",
    "        \n",
    "   else condition:\n",
    "        //.....//\n",
    "    \n",
    "6. Colons and indent are the important sytax to be noted"
   ]
  },
  {
   "cell_type": "code",
   "execution_count": 48,
   "metadata": {},
   "outputs": [
    {
     "name": "stdout",
     "output_type": "stream",
     "text": [
      "1 => It is only a if condition\n",
      "2 => It is a if-else condition\n",
      "3 => It is a if-elif condition\n",
      "5 => It is a if-elif-else condition\n"
     ]
    }
   ],
   "source": [
    "# if\n",
    "if (1<2):\n",
    "    print(\"1 => It is only a if condition\")\n",
    "\n",
    "# if and else\n",
    "if (1>2):\n",
    "    print(\"It is true\")\n",
    "else:\n",
    "    print(\"2 => It is a if-else condition\")\n",
    "\n",
    "# if and elif\n",
    "if (1>2):\n",
    "    print(\"It is only a if condition\")\n",
    "elif (1==2):\n",
    "     print(\"It is a if-elif condition\")\n",
    "elif (1<=2):\n",
    "     print(\"3 => It is a if-elif condition\")\n",
    "else:\n",
    "    print(\"It is a if-else condition\")\n",
    "    \n",
    "# if elif and else\n",
    "if (1>2):\n",
    "    print(\"It is only a if condition\")\n",
    "elif (1==2):\n",
    "     print(\"It is a if-elif-else condition\")\n",
    "elif (1>=2):\n",
    "     print(\" It is a if-elif-else condition\")\n",
    "else:\n",
    "    print(\"5 => It is a if-elif-else condition\")\n"
   ]
  },
  {
   "cell_type": "markdown",
   "metadata": {},
   "source": [
    "## FOR LOOP\n",
    "1. Helps to create a iteration to retrive values, Printing output and much more.\n",
    "2. Syntax\n",
    "    \n",
    "    for var in tobriterated:\n",
    "        //....operations...//"
   ]
  },
  {
   "cell_type": "code",
   "execution_count": 49,
   "metadata": {},
   "outputs": [
    {
     "name": "stdout",
     "output_type": "stream",
     "text": [
      "H\n",
      "e\n",
      "l\n",
      "l\n",
      "o\n",
      " \n",
      "W\n",
      "o\n",
      "r\n",
      "l\n",
      "d\n",
      "\n",
      "1st Block ends (String)\n",
      "\n",
      "1\n",
      "2\n",
      "3\n",
      "List\n",
      "6.6789\n",
      "bye\n",
      "\n",
      "2nd Block ends (List)\n",
      "\n",
      "1\n",
      "2\n",
      "3\n",
      "tuples\n",
      "6.6789\n",
      "bye\n",
      "\n",
      "3rd Block ends (Tuples)\n",
      "\n",
      "1\n",
      "2\n",
      "3\n",
      "6.6789\n",
      "7\n",
      "8\n",
      "bye\n",
      "hello\n",
      "\n",
      "4th Block ends (Set)\n",
      "\n",
      "Printing Key => key\n",
      "Printing value => Value\n",
      "Printing Key => key1\n",
      "Printing value => Value1\n",
      "Printing Key => key2\n",
      "Printing value => Value2\n",
      "Printing Key => 3\n",
      "Printing value => hello\n",
      "Printing Key => 6.6789\n",
      "Printing value => bye\n",
      "\n",
      "5th Block ends (Dictionary)\n",
      "\n",
      "Printing only by using .values() function | value => Value\n",
      "Printing only by using .values() function | value => Value1\n",
      "Printing only by using .values() function | value => Value2\n",
      "Printing only by using .values() function | value => hello\n",
      "Printing only by using .values() function | value => bye\n",
      "\n",
      "5.1 Block ends (Dictionary)\n",
      "\n"
     ]
    }
   ],
   "source": [
    "# printing a string \n",
    "hw_string = \"Hello World\"\n",
    "for st in hw_string:\n",
    "    print(st)\n",
    "print(\"\\n1st Block ends (String)\\n\")\n",
    "# printing values from list\n",
    "vl_list =[1,2,3,\"List\",6.67890,\"bye\"]\n",
    "for vl in vl_list:\n",
    "    print(vl)\n",
    "print(\"\\n2nd Block ends (List)\\n\")\n",
    "\n",
    "# printing values from tuples\n",
    "tp_tuple =(1,2,3,\"tuples\",6.67890,\"bye\")\n",
    "for tp in tp_tuple:\n",
    "    print(tp)\n",
    "print(\"\\n3rd Block ends (Tuples)\\n\")\n",
    "\n",
    "# printing values from set\n",
    "st_set ={1,2,3,\"hello\",6.67890,\"bye\",7,3,2,8,\"hello\",6.67890,\"bye\"}\n",
    "for st in st_set:\n",
    "    print(st)\n",
    "print(\"\\n4th Block ends (Set)\\n\")\n",
    "\n",
    "# printing values from Dictionary \n",
    "# Note dictionaries dosent have order\n",
    "dt_dictionary ={\"key\":\"Value\",\"key1\":\"Value1\",\"key2\":\"Value2\",3:\"hello\",6.67890:\"bye\",}\n",
    "for dt in dt_dictionary:\n",
    "    print(f\"Printing Key => {dt}\")\n",
    "    print(f\"Printing value => {dt_dictionary[dt]}\")\n",
    "print(\"\\n5th Block ends (Dictionary)\\n\")\n",
    "# Same Process for dictionary can be done by different procedure \n",
    "for dt_v in dt_dictionary.values():\n",
    "    print(f\"Printing only by using .values() function | value => {dt_v}\")\n",
    "print(\"\\n5.1 Block ends (Dictionary)\\n\")"
   ]
  },
  {
   "cell_type": "markdown",
   "metadata": {},
   "source": [
    "## Nested Loop\n",
    "1. Creating a loop inside a loop\n",
    "2. Syntax \n",
    "    "
   ]
  },
  {
   "cell_type": "code",
   "execution_count": 50,
   "metadata": {},
   "outputs": [
    {
     "name": "stdout",
     "output_type": "stream",
     "text": [
      "Two Nested Loop\n",
      "\n",
      "x => 0, y => 0\n",
      "x => 0, y => 1\n",
      "x => 0, y => 2\n",
      "x => 1, y => 0\n",
      "x => 1, y => 1\n",
      "x => 1, y => 2\n",
      "\n",
      "Three Nested Loop\n",
      "\n",
      "x => 0, y => 0 ,z => 0\n",
      "x => 0, y => 0 ,z => 1\n",
      "x => 0, y => 1 ,z => 0\n",
      "x => 0, y => 1 ,z => 1\n",
      "x => 1, y => 0 ,z => 0\n",
      "x => 1, y => 0 ,z => 1\n",
      "x => 1, y => 1 ,z => 0\n",
      "x => 1, y => 1 ,z => 1\n"
     ]
    }
   ],
   "source": [
    "print(\"Two Nested Loop\\n\")\n",
    "# Two nested loop\n",
    "for x in range(2):\n",
    "        for y in range(3):\n",
    "            print(f\"x => {x}, y => {y}\")\n",
    "print(\"\\nThree Nested Loop\\n\")\n",
    "# Three Nested Loop\n",
    "for x in range(2):\n",
    "        for y in range(2):\n",
    "            for z in range(2):\n",
    "                print(f\"x => {x}, y => {y} ,z => {z}\")"
   ]
  },
  {
   "cell_type": "code",
   "execution_count": 51,
   "metadata": {},
   "outputs": [
    {
     "name": "stdout",
     "output_type": "stream",
     "text": [
      "\n",
      "key type is String\n",
      "Printing Key => key\n",
      "Printing value => Value\n",
      "\n",
      "key type is Float\n",
      "Printing Key => 6.6789\n",
      "Printing value => bye\n",
      "\n",
      "key type is String\n",
      "Printing Key => key1\n",
      "Printing value => Value1\n",
      "\n",
      "key type is Integer\n",
      "Printing Key => 3\n",
      "Printing value => hello\n",
      "\n",
      "key type is String\n",
      "Printing Key => key2\n",
      "Printing value => Value2\n"
     ]
    }
   ],
   "source": [
    "# using conditions inside loop\n",
    "# Dictionary \n",
    "dt_dictionary ={\"key\":\"Value\",6.67890:\"bye\",\"key1\":\"Value1\",3:\"hello\",\"key2\":\"Value2\"}\n",
    "for dt in dt_dictionary:\n",
    "    if type(dt) == str:\n",
    "        print(\"\\nkey type is String\")\n",
    "        print(f\"Printing Key => {dt}\")\n",
    "        print(f\"Printing value => {dt_dictionary[dt]}\")\n",
    "    elif type(dt) == int:\n",
    "        print(\"\\nkey type is Integer\")\n",
    "        print(f\"Printing Key => {dt}\")\n",
    "        print(f\"Printing value => {dt_dictionary[dt]}\")\n",
    "    elif type(dt) == float:\n",
    "        print(\"\\nkey type is Float\")\n",
    "        print(f\"Printing Key => {dt}\")\n",
    "        print(f\"Printing value => {dt_dictionary[dt]}\")\n",
    "    else:\n",
    "        print(\"\\nkey type is Unknown\")\n",
    "        print(f\"Printing Key => {dt}\")\n",
    "        print(f\"Printing value => {dt_dictionary[dt]}\")"
   ]
  },
  {
   "cell_type": "code",
   "execution_count": 52,
   "metadata": {},
   "outputs": [
    {
     "name": "stdout",
     "output_type": "stream",
     "text": [
      "Values from first for loop (1, 2) \n",
      "\n",
      "\tValues from second for loop 1 \n",
      "\n",
      "\tValues from second for loop 2 \n",
      "\n",
      "Values from first for loop (3, 4) \n",
      "\n",
      "\tValues from second for loop 3 \n",
      "\n",
      "\tValues from second for loop 4 \n",
      "\n",
      "Values from first for loop (5, 6) \n",
      "\n",
      "\tValues from second for loop 5 \n",
      "\n",
      "\tValues from second for loop 6 \n",
      "\n",
      "Values from first for loop (7, 8) \n",
      "\n",
      "\tValues from second for loop 7 \n",
      "\n",
      "\tValues from second for loop 8 \n",
      "\n",
      "SECOND PROCEDURE\n",
      "\n",
      "1st value of tuple 1 \n",
      "\n",
      "2nd value of tuple 2 \n",
      "\n",
      "1st value of tuple 3 \n",
      "\n",
      "2nd value of tuple 4 \n",
      "\n",
      "1st value of tuple 5 \n",
      "\n",
      "2nd value of tuple 6 \n",
      "\n",
      "1st value of tuple 7 \n",
      "\n",
      "2nd value of tuple 8 \n",
      "\n"
     ]
    }
   ],
   "source": [
    "# Tuples in list\n",
    "lt_list_tuple = [(1,2),(3,4),(5,6),(7,8)]\n",
    "for lt in lt_list_tuple:\n",
    "    print(f\"Values from first for loop {lt} \\n\")\n",
    "    for t in lt:\n",
    "        print(f\"\\tValues from second for loop {t} \\n\")\n",
    "\n",
    "print(\"SECOND PROCEDURE\\n\")\n",
    "# Same Process can be done by different procedure \n",
    "# But tuple should have same values\n",
    "for (t1,t2) in lt_list_tuple:\n",
    "        print(f\"1st value of tuple {t1} \\n\")\n",
    "        print(f\"2nd value of tuple {t2} \\n\")\n",
    "    "
   ]
  },
  {
   "cell_type": "markdown",
   "metadata": {},
   "source": [
    "### RANGE\n",
    "1. Range is used in for loop\n",
    "2. Last value in  given range is not included\n",
    "    For example in range(10) it will give 0 1o 9 and it will not include 10 because it   starts from zero\n",
    "3. range(Starting index, Ending index, Step size)"
   ]
  },
  {
   "cell_type": "code",
   "execution_count": 53,
   "metadata": {},
   "outputs": [
    {
     "name": "stdout",
     "output_type": "stream",
     "text": [
      "Only with range\n",
      "\n",
      "0\n",
      "1\n",
      "2\n",
      "3\n",
      "4\n",
      "5\n",
      "6\n",
      "7\n",
      "8\n",
      "9\n",
      "\n",
      "With starting, ending index and stepsize\n",
      "\n",
      "2\n",
      "5\n",
      "8\n",
      "\n",
      "Using range for index and list\n",
      "\n",
      "\n",
      "Range => (2, 4, 6, 8)\n",
      "\n",
      "\n",
      "List => [1, 5, 9, 13, 17]\n"
     ]
    }
   ],
   "source": [
    "print(\"Only with range\\n\")\n",
    "# Only range\n",
    "for i in range(10):\n",
    "    print(i)\n",
    "print(\"\\nWith starting, ending index and stepsize\\n\")\n",
    "# starting and ending index with stepsize\n",
    "for i in range(2,10,3):\n",
    "    print(i)\n",
    "\n",
    "print(\"\\nUsing range for index and list\\n\")\n",
    "# range can be used for different purposes also\n",
    "t_range = tuple(range(2,10,2))\n",
    "print(f\"\\nRange => {t_range}\\n\")\n",
    "l_range = list(range(1,20,4))\n",
    "print(f\"\\nList => {l_range}\")"
   ]
  },
  {
   "cell_type": "markdown",
   "metadata": {},
   "source": [
    "## ENUMERATE\n",
    "1. same as \"in\" but returns index as a Collection of tuples\n",
    "2. syntax\n",
    "\n",
    "    for i in enumerate(10):\n",
    "    \n",
    "        print(i)\n",
    "    "
   ]
  },
  {
   "cell_type": "code",
   "execution_count": 54,
   "metadata": {},
   "outputs": [
    {
     "name": "stdout",
     "output_type": "stream",
     "text": [
      "\n",
      "using enumerate\n",
      "\n",
      "(0, 'H')\n",
      "(1, 'e')\n",
      "(2, 'l')\n",
      "(3, 'l')\n",
      "(4, 'o')\n",
      "\n",
      "using enumerate and range in same loop\n",
      "\n",
      "(0, 5)\n",
      "(1, 15)\n",
      "(2, 25)\n",
      "(3, 35)\n",
      "(4, 45)\n",
      "(5, 55)\n",
      "(6, 65)\n",
      "(7, 75)\n",
      "(8, 85)\n",
      "(9, 95)\n",
      "\n",
      "using enumerate and range in same loop printing separately\n",
      "\n",
      "Index of Enumerated tuple 1 \n",
      "\n",
      "Value of Enumerated tuple 2 \n",
      "\n",
      "Index of Enumerated tuple 3 \n",
      "\n",
      "Value of Enumerated tuple 4 \n",
      "\n",
      "Index of Enumerated tuple 5 \n",
      "\n",
      "Value of Enumerated tuple 6 \n",
      "\n",
      "Index of Enumerated tuple 7 \n",
      "\n",
      "Value of Enumerated tuple 8 \n",
      "\n"
     ]
    }
   ],
   "source": [
    "print(\"\\nusing enumerate\\n\")\n",
    "for a in enumerate (\"Hello\"):\n",
    "    print(a)\n",
    "print(\"\\nusing enumerate and range in same loop\\n\")\n",
    "# using enumerate and range in same loop\n",
    "for a in enumerate (range(5,100,10)):\n",
    "    print(a)\n",
    "print(\"\\nusing enumerate and range in same loop printing separately\\n\")\n",
    "# using enumerate and range in same loop printing separately \n",
    "lt_list_tuple = [(1,2),(3,4),(5,6),(7,8)]\n",
    "for (ind,val) in  lt_list_tuple:\n",
    "        print(f\"Index of Enumerated tuple {ind} \\n\")\n",
    "        print(f\"Value of Enumerated tuple {val} \\n\")"
   ]
  },
  {
   "cell_type": "markdown",
   "metadata": {},
   "source": [
    "## ZIP\n",
    "1. It will create a tuple and concat the same indexed value\n",
    "2. It will zip upto the maximum of sortest index\n",
    "3. Syntax\n",
    "\n",
    "    zip(list1,list2,tuple1)"
   ]
  },
  {
   "cell_type": "code",
   "execution_count": 55,
   "metadata": {},
   "outputs": [
    {
     "name": "stdout",
     "output_type": "stream",
     "text": [
      "(1, 34, 'hai_1')\n",
      "(2, 'tup1', 12)\n",
      "(3, 3, 2.89403)\n",
      "(4, 'tup2', 'hello_4')\n",
      "(5, 'sin', 'how_5')\n"
     ]
    }
   ],
   "source": [
    "list1 = [\"hai_1\",12,2.89403,\"hello_4\",\"how_5\"]\n",
    "list2 = [1,2,3,4,5,6,7,8,9]\n",
    "tuple1 = (34,\"tup1\",3,\"tup2\",\"sin\",\"cos\",\"tan\")\n",
    "\n",
    "for zipped_val in zip(list2,tuple1,list1):\n",
    "    print(zipped_val)"
   ]
  },
  {
   "cell_type": "markdown",
   "metadata": {},
   "source": [
    "## LIST COMPREHENSIONS\n",
    "1. It Simplify the code and enhance the performance of the for loop\n",
    "2. Operation can performed with the returend value\n",
    "3. Conditions can be added at the end of the loop\n",
    "4. Syntax\n",
    "    \n",
    "    NOTE: \"-\" is white-space \n",
    "    \n",
    "    4.1. returend_input for grabbed_value in range_of_value conditions_if_needed\n",
    "    \n",
    "    4.2. Basic syntax\n",
    "            \n",
    "            -----x--------for-------x-------in--[1,2,3,4,5,6]--------------------\n",
    "    \n",
    "    4.3. With operations\n",
    "            \n",
    "            ----(x+2)*x----for-------x-------in--[1,2,3,4,5,6]--------------------\n",
    "    \n",
    "    4.4. With If condition\n",
    "            \n",
    "            ----(x+2)*x----for-------x-------in--[1,2,3,4,5,6]-----if (x%2)==0----\n",
    "    \n",
    "    4.5. If else in this order change IF..else comes next to returend_input and before for\n",
    "    \n",
    "            ----(x+2)*x--if (x%2)==0--else \"NOT EVEN\"--for-------x-------in--[1,2,3,4,5,6]\n",
    "            \n",
    "    4.6 Nested Loop\n",
    "            \n",
    "            ---x,y---for---x---in--[1,2,3,4,5,6]------for-----y-------in--[1,2,3,4,5,6]\n",
    "   \n",
    "5. It will work only with list but can be casted if needed\n"
   ]
  },
  {
   "cell_type": "code",
   "execution_count": 56,
   "metadata": {},
   "outputs": [
    {
     "name": "stdout",
     "output_type": "stream",
     "text": [
      "syntax 4.2 => [1, 2, 3, 4, 5, 6]\n",
      "\n",
      "syntax 4.3 => [3, 8, 15, 24, 35, 48]\n",
      "\n",
      "syntax 4.4 => [8, 24, 48]\n",
      "\n",
      "Using enumerate 4.5 => ['NOT EVEN', 8, 'NOT EVEN', 24, 'NOT EVEN', 48]\n",
      "\n",
      "syntax 4.6 => [[1, 0], [1, 1], [2, 0], [2, 1], [3, 0], [3, 1]]\n",
      "\n",
      "syntax 5 casted to tuple => (8, 24, 48)\n",
      "\n",
      "Using enumerate 1 => [-2, 4, 18]\n",
      "\n",
      "Using enumerate 2.1 => [(1, 2), (2, 3), (3, 4), (4, 5), (5, 6)]\n",
      "\n",
      "Using enumerate 2.1 => [(1, 2), (2, 3), (3, 4)]\n",
      "\n",
      "creating dictionary using nested for loop => {'Key1': 8, 'Key2': 8, 'Key3': 8, 'Key4': 8, 'Key5': 8, 'Key6': 8, 'Key7': 8}\n",
      "\n",
      "Verifying the type for Dictionary => <class 'dict'>\n",
      "\n",
      "Sample example to use string in list comprehensions => ['H', 'W', 't', 'i', 'a', 'S']\n"
     ]
    }
   ],
   "source": [
    "# 4.2\n",
    "c_2_list = [x for x in [1,2,3,4,5,6]]\n",
    "print(f\"syntax 4.2 => {c_2_list}\\n\")\n",
    "\n",
    "# 4.3\n",
    "c_3_list = [(x+2)*x for x in range(1,7)]\n",
    "print(f\"syntax 4.3 => {c_3_list}\\n\")\n",
    "\n",
    "# 4.4\n",
    "c_4_list = [(x+2)*x for x in [1,2,3,4,5,6] if (x%2)==0]\n",
    "print(f\"syntax 4.4 => {c_4_list}\\n\")\n",
    "\n",
    "# 4.5\n",
    "c_5_list = [ (x+2)*x if (x%2)==0  else \"NOT EVEN\" for x in [1,2,3,4,5,6] ]\n",
    "print(f\"Using enumerate 4.5 => {c_5_list}\\n\")\n",
    "\n",
    "#4.6 \n",
    "# [x,y] list in list and it can be tuple (x,y)or dictionary {x,y} in list \n",
    "c_6_list = [[x,y] for x in [1,2,3] for y in range(0,2)]\n",
    "print(f\"syntax 4.6 => {c_6_list}\\n\")\n",
    "\n",
    "# 5\n",
    "print(f\"syntax 5 casted to tuple => {tuple(c_4_list)}\\n\")\n",
    "\n",
    "# Using enumerate 1\n",
    "c_e_list = [(x+2)*(y-2) for (x,y) in enumerate(range(1,7)) if (x%2)==0]\n",
    "print(f\"Using enumerate 1 => {c_e_list}\\n\")\n",
    "\n",
    "# Using enumerate 2\n",
    "c_e_list = [ (x,y) for (x,y) in enumerate(range(1,7)) if x > 0 and y > 0 ]\n",
    "print(f\"Using enumerate 2.1 => {c_e_list}\\n\")\n",
    "c_e_list = [ (x,y) for (x,y) in enumerate(range(1,7)) if x > 0 and y < 5 ]\n",
    "print(f\"Using enumerate 2.1 => {c_e_list}\\n\")\n",
    "\n",
    "# Creating dictionary using nested for loop\n",
    "c_d_list = {\"Key\"+str(x):y for x in [1,2,3,4,5,6,7] for y in (1,2,3,4,5,6,7,8)}\n",
    "print(f\"creating dictionary using nested for loop => {c_d_list}\\n\\nVerifying the type for Dictionary => {type(c_d_list)}\")\n",
    "\n",
    "#Sample example to use string in list comprehensions\n",
    "s_string = \"Hello World this is a String\"\n",
    "l_letters = [w[0] for w in s_string.split()]\n",
    "print(f\"\\nSample example to use string in list comprehensions => {l_letters}\")"
   ]
  },
  {
   "cell_type": "markdown",
   "metadata": {},
   "source": [
    "## WHILE LOOP\n",
    "1. While Loop will execute until the condition is true\n",
    "2. Syntax\n",
    "    \n",
    "    1. while(Condition):\n",
    "         //....operation....//\n",
    "         \n",
    "    2. while(Condition):\n",
    "        //....operation....//\n",
    "       else:\n",
    "       //....operation....//\n",
    "\n",
    "\n",
    "3. Break\n",
    "\n",
    "    It will break the loop\n",
    "    \n",
    "4. Continue\n",
    "    \n",
    "    It will skip the current procees and proceed to next iteration\n",
    "    \n",
    "5. Pass\n",
    "\n",
    "    Pass do nothing its a place holder"
   ]
  },
  {
   "cell_type": "code",
   "execution_count": 57,
   "metadata": {},
   "outputs": [
    {
     "name": "stdout",
     "output_type": "stream",
     "text": [
      "\n",
      "Using while\n",
      "\n",
      "0 is less than 10, so Condition is True \n",
      "\n",
      "1 is less than 10, so Condition is True \n",
      "\n",
      "2 is less than 10, so Condition is True \n",
      "\n",
      "3 is less than 10, so Condition is True \n",
      "\n",
      "4 is less than 10, so Condition is True \n",
      "\n",
      "5 is less than 10, so Condition is True \n",
      "\n",
      "6 is less than 10, so Condition is True \n",
      "\n",
      "7 is less than 10, so Condition is True \n",
      "\n",
      "8 is less than 10, so Condition is True \n",
      "\n",
      "9 is less than 10, so Condition is True \n",
      "\n",
      "10 is not less than 10, so loop is breaked \n",
      "\n",
      "\n",
      "Using while....else\n",
      "\n",
      "0 is less than 10, so Condition is True \n",
      "\n",
      "1 is less than 10, so Condition is True \n",
      "\n",
      "2 is less than 10, so Condition is True \n",
      "\n",
      "3 is less than 10, so Condition is True \n",
      "\n",
      "4 is less than 10, so Condition is True \n",
      "\n",
      "5 is less than 10, so Condition is True \n",
      "\n",
      "6 is less than 10, so Condition is True \n",
      "\n",
      "7 is less than 10, so Condition is True \n",
      "\n",
      "8 is less than 10, so Condition is True \n",
      "\n",
      "9 is less than 10, so Condition is True \n",
      "\n",
      "10 is not less than 10, so loop is breaked \n",
      "\n",
      "\n",
      "Using Continue, Break and Pass\n",
      "\n",
      "\n",
      "1 is less than 10, so Condition is True \n",
      "\n",
      "\n",
      "3 is less than 10, so Condition is True \n",
      "\n",
      "\tPass dose nothing\n",
      "\n",
      "4 is less than 10, so Condition is True \n",
      "\n",
      "\tPass dose nothing\n",
      "\n",
      "5 is less than 10, so Condition is True \n",
      "\n",
      "\n",
      "6 is less than 10, so Condition is True \n",
      "\n",
      "\n",
      "7 is less than 10, so Condition is True \n",
      "\n",
      "8 is equal to 10, so the Condition is True and it's breaked \n",
      "\n"
     ]
    }
   ],
   "source": [
    "i = 0\n",
    "print(\"\\nUsing while\\n\")\n",
    "while(i<10):\n",
    "    print(f\"{i} is less than 10, so Condition is True \\n\")\n",
    "    i +=1\n",
    "print(f\"{i} is not less than 10, so loop is breaked \\n\")\n",
    "\n",
    "print(\"\\nUsing while....else\\n\")\n",
    "i = 0\n",
    "while(i<10):\n",
    "    print(f\"{i} is less than 10, so Condition is True \\n\")\n",
    "    i +=1\n",
    "else:\n",
    "    print(f\"{i} is not less than 10, so loop is breaked \\n\")\n",
    "\n",
    "\n",
    "print(\"\\nUsing Continue, Break and Pass\\n\")\n",
    "i = 0\n",
    "while(i<10):\n",
    "    i +=1\n",
    "    if(i==2):\n",
    "        continue\n",
    "        # continue will skip the current procees and proceed to next iteration\n",
    "    if (i == 8):\n",
    "        print(f\"{i} is equal to 10, so the Condition is True and it's breaked \\n\")\n",
    "        break\n",
    "    if(i>3 and i<6):\n",
    "        pass\n",
    "        print(\"\\tPass dose nothing\")\n",
    "    print(f\"\\n{i} is less than 10, so Condition is True \\n\")\n",
    "\n"
   ]
  },
  {
   "cell_type": "markdown",
   "metadata": {},
   "source": [
    "## IN\n",
    "1. To check the value is present in the list or tuple\n"
   ]
  },
  {
   "cell_type": "code",
   "execution_count": 58,
   "metadata": {},
   "outputs": [
    {
     "name": "stdout",
     "output_type": "stream",
     "text": [
      "Is 100 in list => False\n",
      "Is cos in tuple => True\n",
      "Is key1 in dictionary => True\n",
      "\n"
     ]
    }
   ],
   "source": [
    "l_in = 100 in [1,2,3,4,5,6,7,8,9]\n",
    "t_in = \"cos\" in (34,\"tup1\",3,\"tup2\",\"sin\",\"cos\",\"tan\")\n",
    "\n",
    "# \"IN\" in dictionary is only for keys\n",
    "in_dictionary ={\"key\":\"Value\",6.67890:\"bye\",\"key1\":\"Value1\",3:\"hello\",\"key2\":\"Value2\"}\n",
    "d_in = \"key1\" in in_dictionary\n",
    "print(f\"Is 100 in list => {l_in}\\nIs cos in tuple => {t_in}\\nIs key1 in dictionary => {d_in}\\n\")"
   ]
  },
  {
   "cell_type": "markdown",
   "metadata": {},
   "source": [
    "## MIN and MAX\n",
    "1. Min is to find minimum value\n",
    "2. Max is to find maximum value\n",
    "3. It should be in same data type"
   ]
  },
  {
   "cell_type": "code",
   "execution_count": 59,
   "metadata": {},
   "outputs": [
    {
     "name": "stdout",
     "output_type": "stream",
     "text": [
      " Minimum value in list => 1\n",
      " Maximum value in list => tup2\n",
      " Minimum value in Dictionary => key\n",
      "\n"
     ]
    }
   ],
   "source": [
    "# List\n",
    "l = [1,2,3,4,5,6,7,8,9]\n",
    "l_mm = min(l)\n",
    "# Tuple\n",
    "t = (\"tup2\",\"sin\",\"cos\",\"tan\")\n",
    "t_mm = max(t)\n",
    "# Dictionary \n",
    "d ={\"key\":\"Value\",\"key1\":\"Value1\",\"key2\":\"Value2\"}\n",
    "d_mm = min(d)\n",
    "\n",
    "print(f\" Minimum value in list => {l_mm}\\n Maximum value in list => {t_mm}\\n Minimum value in Dictionary => {d_mm}\\n\")"
   ]
  },
  {
   "cell_type": "markdown",
   "metadata": {},
   "source": [
    "## Random\n",
    "1. Random is a library which has methods for numeric operation\n",
    "2. some operations are \n",
    "    1.randint()\n",
    "    2.Shuffle"
   ]
  },
  {
   "cell_type": "code",
   "execution_count": 60,
   "metadata": {},
   "outputs": [
    {
     "name": "stdout",
     "output_type": "stream",
     "text": [
      "Generates a random int within given range 1 to 1000 => 391\n",
      "\n",
      "Generates a random float value => 0.20559948740022693\n"
     ]
    }
   ],
   "source": [
    "# Randint\n",
    "from random import randint\n",
    "rr = randint(1,1000)# from 0 to 1000\n",
    "print(f\"Generates a random int within given range 1 to 1000 => {rr}\\n\")\n",
    "# Random \n",
    "# dosent take range returns a float value randomly \n",
    "from random import random\n",
    "r = random()\n",
    "print(f\"Generates a random float value => {r}\")"
   ]
  },
  {
   "cell_type": "code",
   "execution_count": 61,
   "metadata": {},
   "outputs": [
    {
     "name": "stdout",
     "output_type": "stream",
     "text": [
      "shuffle 1 => [7, 8, 3, 2, 5, 4, 1, 9, 6]\n",
      "shuffle 2 => [7, 4, 5, 3, 8, 6, 2, 1, 9]\n",
      "shuffle 3 => [8, 4, 2, 9, 1, 6, 5, 7, 3]\n",
      "shuffle 4 => [2, 7, 5, 8, 4, 1, 9, 3, 6]\n",
      "shuffle 5 => [9, 6, 5, 1, 4, 3, 2, 7, 8]\n"
     ]
    }
   ],
   "source": [
    "# Shuffle the given value and place it in the same(given) variable \n",
    "from random import shuffle\n",
    "l = [1,2,3,4,5,6,7,8,9]\n",
    "for i in range(1,6):\n",
    "    shuffle(l)\n",
    "    print(f\"shuffle {i} => {l}\")"
   ]
  },
  {
   "cell_type": "markdown",
   "metadata": {},
   "source": [
    "## INPUT\n",
    "1. To get a in put value during runtime\n",
    "2. It always takes the value as a string but it can be casted to int or other datatypes in future"
   ]
  },
  {
   "cell_type": "code",
   "execution_count": 62,
   "metadata": {},
   "outputs": [
    {
     "name": "stdout",
     "output_type": "stream",
     "text": [
      "Enter the input: 3\n",
      " Given Input 3\n"
     ]
    }
   ],
   "source": [
    "inv = input(\"Enter the input: \")\n",
    "print(f\" Given Input {inv}\")"
   ]
  },
  {
   "cell_type": "code",
   "execution_count": 64,
   "metadata": {},
   "outputs": [
    {
     "name": "stdout",
     "output_type": "stream",
     "text": [
      "hello\n"
     ]
    }
   ],
   "source": [
    "print(\"hello\")"
   ]
  },
  {
   "cell_type": "markdown",
   "metadata": {},
   "source": [
    "## Method\n",
    "1. Methods are bultin function\n",
    "\n",
    "    1.Example\n",
    "        1. append()\n",
    "        2. type()\n",
    "        3. int()\n",
    "        4. randint()\n",
    "        5. random()\n",
    "2. Using help method we can view the information of the methods and much more.\n",
    "   help(randint)"
   ]
  },
  {
   "cell_type": "code",
   "execution_count": 78,
   "metadata": {},
   "outputs": [
    {
     "name": "stdout",
     "output_type": "stream",
     "text": [
      "Help on method randint in module random:\n",
      "\n",
      "randint(a, b) method of random.Random instance\n",
      "    Return random integer in range [a, b], including both end points.\n",
      "\n",
      "Generates a random int value => 342\n"
     ]
    }
   ],
   "source": [
    "# Help method\n",
    "help(randint)\n",
    "from random import randint\n",
    "r = randint(1,1000)\n",
    "print(f\"Generates a random int value => {r}\")"
   ]
  },
  {
   "cell_type": "markdown",
   "metadata": {},
   "source": [
    "## Functions\n",
    "1. It is ablock of code which can be reused any number of time when it's called\n",
    "2. It starts with \"def\" and ends with():\n",
    "3. Syntax\n",
    "\n",
    "    def function_name():\n",
    "        //....operations....//\n",
    "        \n",
    "4. Parametrised function\n",
    "\n",
    "    4.1 It takes parameter with it \n",
    "    \n",
    "    4.2 More than one is also possible\n",
    "    \n",
    "      def function_name(param_1):\n",
    "        //....operations....// \n",
    "        \n",
    "      def function_name(param_1,....,param_n):\n",
    "        //....operations....// \n",
    "5. Return \n",
    "\n",
    "    1. It returns a value from the function\n",
    "    \n",
    "          def function_name():\n",
    "            //....a = 1+2 ....//\n",
    "            return a\n",
    "            \n",
    "6. Default parameter\n",
    "\n",
    "    1. It will print the default value if value is not passed when calling the function\n",
    "    \n",
    "        def function_name(param_1 = \"default value\"):\n",
    "            //....operations....// \n",
    "        \n",
    "7. DocString\n",
    "    1. Used to creat a note about a function \n",
    "    2. It should be written inside the function \n",
    "    3. Syntax\n",
    "            def function_name():\n",
    "            \n",
    "            //..''' Here one can write the note '''..operations....//\n",
    "        \n",
    "        \n",
    "    4. It can be viewed using help method\n",
    "        help(function_name)\n",
    "        "
   ]
  },
  {
   "cell_type": "code",
   "execution_count": 111,
   "metadata": {},
   "outputs": [
    {
     "name": "stdout",
     "output_type": "stream",
     "text": [
      "hello => Function without parameter\n",
      "*******************\n",
      "\n",
      "Function with parameter\n",
      "\n",
      "welcome Message => Hello world\n",
      "bye Message => bye have a good day\n",
      "\n",
      " \n",
      "*******************\n",
      "Function with return and without parameter returend value => 3\n",
      "\n",
      "*******************\n",
      "Value of a is => 2\n",
      "Value of b is => 4\n",
      " \n",
      "Function with return and with parameter => 16\n",
      "\n",
      "*******************\n",
      "Default parameter \n",
      "Name: sam\n",
      "Age: AGE\n",
      " \n",
      "*******************\n",
      "\n",
      "Doc retrived using help method ------->\n",
      "\n",
      "Help on function doc_function in module __main__:\n",
      "\n",
      "doc_function(n, a)\n",
      "    n is the Name which is a String\n",
      "    a is the Age which is an Intrger\n",
      "\n",
      "Name: Jim\n",
      "Age: 22\n",
      " \n",
      "DocString returend value => None\n"
     ]
    }
   ],
   "source": [
    "# Function without parameter\n",
    "def without_parameter():\n",
    "     print(\"hello => Function without parameter\")\n",
    "        \n",
    "# Function with parameter\n",
    "def with_parameter(welcome,bye):\n",
    "     print(f\"\\nFunction with parameter\\n\\nwelcome Message => {welcome}\\nbye Message => {bye}\\n \")\n",
    "        \n",
    "# Function with return and without parameter       \n",
    "def with_return_w_o_p():\n",
    "        a = 1+2 \n",
    "        return a\n",
    "# Function with return and with parameter\n",
    "def with_return_w_p(a,b):\n",
    "         print(f\"Value of a is => {a}\\nValue of b is => {b}\\n \")\n",
    "         return a**b  \n",
    "# Default parameter\n",
    "\n",
    "# DocString\n",
    "def default_parm(n=\"NAME\",a=\"AGE\"):\n",
    "\n",
    "        print(f\"Default parameter \\nName: {n}\\nAge: {a}\\n \")\n",
    "        return \"Success\" \n",
    "    \n",
    "    \n",
    "# DocString\n",
    "def doc_function(n,a):\n",
    "        ''' \n",
    "          n is the Name which is a String\n",
    "          a is the Age which is an Intrger\n",
    "        '''\n",
    "        print(f\"Name: {n}\\nAge: {a}\\n \")\n",
    " \n",
    "        \n",
    "without_parameter()\n",
    "print(\"*******************\")\n",
    "\n",
    "with_parameter(\"Hello world\",\"bye have a good day\\n\")\n",
    "print(\"*******************\")\n",
    "\n",
    "r_o_v = with_return_w_o_p()\n",
    "print(f\"Function with return and without parameter returend value => {r_o_v}\\n\")\n",
    "print(\"*******************\")\n",
    "\n",
    "r_v = with_return_w_p(2,4)\n",
    "print(f\"Function with return and with parameter => {r_v}\\n\")\n",
    "print(\"*******************\")\n",
    "\n",
    "val_d = default_parm(\"sam\")\n",
    "\n",
    "print(\"*******************\")\n",
    "print(f\"\\nDoc retrived using help method ------->\\n\")\n",
    "doc_f = help(doc_function)\n",
    "sus_message = doc_function(\"Jim\", 22)\n",
    "print(f\"DocString returend value => {sus_message}\")"
   ]
  },
  {
   "cell_type": "code",
   "execution_count": 131,
   "metadata": {},
   "outputs": [
    {
     "name": "stdout",
     "output_type": "stream",
     "text": [
      "find_char_1 => False\n",
      "\n",
      "find_char_2 => True\n",
      "\n"
     ]
    }
   ],
   "source": [
    "#Using logics\n",
    "def find_char_1(c_ch=\"a\",c_string =\"string\"):\n",
    "    if c_ch.lower() in c_string.lower(): # to avoid case error\n",
    "        return True\n",
    "    else: \n",
    "        return False\n",
    "rv_1 = find_char_1('z',\"Hello this is a random string to check is a character is present or not\")\n",
    "print(f\"find_char_1 => {rv_1}\\n\")\n",
    "# same process in different Procedure \n",
    "def find_char_2(c_ch=\"a\",c_string =\"string\"):\n",
    "        return c_ch.lower() in c_string.lower() # to avoid case error\n",
    "rv_2 = find_char_2('A',\"Hello this is a random string to check is a character is present or not\")\n",
    "print(f\"find_char_2 => {rv_2}\\n\")"
   ]
  },
  {
   "cell_type": "code",
   "execution_count": 129,
   "metadata": {},
   "outputs": [
    {
     "data": {
      "text/plain": [
       "True"
      ]
     },
     "execution_count": 129,
     "metadata": {},
     "output_type": "execute_result"
    }
   ],
   "source": [
    "\n"
   ]
  },
  {
   "cell_type": "code",
   "execution_count": null,
   "metadata": {},
   "outputs": [],
   "source": []
  }
 ],
 "metadata": {
  "kernelspec": {
   "display_name": "Python 3",
   "language": "python",
   "name": "python3"
  },
  "language_info": {
   "codemirror_mode": {
    "name": "ipython",
    "version": 3
   },
   "file_extension": ".py",
   "mimetype": "text/x-python",
   "name": "python",
   "nbconvert_exporter": "python",
   "pygments_lexer": "ipython3",
   "version": "3.6.6"
  }
 },
 "nbformat": 4,
 "nbformat_minor": 2
}
